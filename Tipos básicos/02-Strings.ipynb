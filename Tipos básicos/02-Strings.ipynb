{
 "cells": [
  {
   "cell_type": "markdown",
   "metadata": {},
   "source": [
    "Strings en Python\n",
    "\n",
    "## 1. Definición\n",
    "- **Strings**: Secuencias de caracteres utilizadas para almacenar texto.\n",
    "\n",
    "## 2. Creación de Strings\n",
    "- Uso de comillas simples o dobles:\n",
    "  - `'Hola, Mundo!'`\n",
    "  - `\"Hola, Mundo!\"`\n",
    "- Multilínea con triple comilla:\n",
    "  - `\"\"\"Este es un string de múltiples líneas.\"\"\"`\n",
    "\n",
    "## 3. Métodos Comunes\n",
    "- **Concatenación**: Unir strings.\n",
    "  - `str1 + str2`\n",
    "- **Repetición**: Repetir un string.\n",
    "  - `str * n`\n",
    "- **Longitud**: Obtener la longitud de un string.\n",
    "  - `len(str)`\n",
    "\n",
    "## 4. Acceso y Slicing\n",
    "- Acceso a caracteres:\n",
    "  - `str[i]`\n",
    "- Slicing:\n",
    "  - `str[start:end]`\n",
    "  - `str[start:end:step]`\n",
    "\n",
    "## 5. Métodos de String\n",
    "- **Búsqueda**\n",
    "  - `str.find(sub)` - Encuentra la posición de un substring.\n",
    "  - `str.index(sub)` - Similar, pero lanza excepción si no se encuentra.\n",
    "  \n",
    "- **Modificación**\n",
    "  - `str.upper()` - Convertir a mayúsculas.\n",
    "  - `str.lower()` - Convertir a minúsculas.\n",
    "  - `str.strip()` - Eliminar espacios en blanco al inicio y al final.\n",
    "\n",
    "- **División y Unión**\n",
    "  - `str.split(sep)` - Divide un string en una lista.\n",
    "  - `sep.join(iterable)` - Une una lista de strings en un solo string.\n",
    "\n",
    "## 6. Formateo de Strings\n",
    "- **Método format()**\n",
    "  - `str.format()`\n",
    "- **F-strings** (Python 3.6+)\n",
    "  - `f'Hola, {nombre}'`"
   ]
  },
  {
   "cell_type": "markdown",
   "metadata": {},
   "source": [
    "### Algunos Ejemplos"
   ]
  },
  {
   "cell_type": "code",
   "execution_count": 3,
   "metadata": {},
   "outputs": [
    {
     "name": "stdout",
     "output_type": "stream",
     "text": [
      "Ultimate Python \n",
      "Ultimate Python este curso contempla todos los detalles\n",
      "que necesitas aprender para encontrar trabajo como programador.\n",
      "\n",
      "La longitud del texto es: 121\n",
      "Accedemos al índice: U\n"
     ]
    }
   ],
   "source": [
    "nombre_curso = \"Ultimate Python\"\n",
    "\n",
    "descripcion_curso = \"\"\"\n",
    "Ultimate Python este curso contempla todos los detalles\n",
    "que necesitas aprender para encontrar trabajo como programador.\n",
    "\"\"\"\n",
    "\n",
    "print(nombre_curso , descripcion_curso)\n",
    "print(f'La longitud del texto es: {len(descripcion_curso)}')\n",
    "print(f'Accedemos al índice: {nombre_curso[0]}')"
   ]
  }
 ],
 "metadata": {
  "kernelspec": {
   "display_name": "Python 3",
   "language": "python",
   "name": "python3"
  },
  "language_info": {
   "codemirror_mode": {
    "name": "ipython",
    "version": 3
   },
   "file_extension": ".py",
   "mimetype": "text/x-python",
   "name": "python",
   "nbconvert_exporter": "python",
   "pygments_lexer": "ipython3",
   "version": "3.12.5"
  }
 },
 "nbformat": 4,
 "nbformat_minor": 2
}
