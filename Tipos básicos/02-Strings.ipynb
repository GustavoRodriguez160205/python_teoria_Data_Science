{
 "cells": [
  {
   "cell_type": "markdown",
   "metadata": {},
   "source": [
    "\n",
    "## 1. ¿Qué es un string?\n",
    "- Un **string** es una secuencia de caracteres (letras, números, símbolos) encerrada entre comillas simples `' '`, comillas dobles `\" \"`, o comillas triples `\"\"\" \"\"\"` para cadenas multilínea.\n",
    "  - Ejemplos: `'Hola'`, `\"Python\"`, `\"\"\"Este es un texto largo.\"\"\"`\n",
    "\n",
    "### Convenciones:\n",
    "- Usa **comillas simples** o **dobles** de manera coherente, pero no mezcles ambas en un mismo archivo sin motivo.\n",
    "- Para **cadenas multilínea** usa **comillas triples** `\"\"\" \"\"\"` o `''' '''`.\n",
    "\n",
    "---\n",
    "\n",
    "## 2. Operaciones básicas con strings\n",
    "\n",
    "### 2.1. Concatenación (Juntar strings)\n",
    "- Unir dos o más strings con el operador `+`.\n",
    "  - Ejemplo: `'Hola' + ' Mundo'` → `'Hola Mundo'`\n",
    "  \n",
    "### 2.2. Repetición\n",
    "- Repetir un string varias veces con el operador `*`.\n",
    "  - Ejemplo: `'Python' * 3` → `'PythonPythonPython'`\n",
    "\n",
    "### 2.3. Longitud de un string\n",
    "- Usar la función `len()` para contar la cantidad de caracteres en un string.\n",
    "  - Ejemplo: `len('Python')` → `6`\n",
    "\n",
    "### Convenciones:\n",
    "- Para cadenas largas, en lugar de concatenar usando `+`, usa **f-strings** o el método `join()` para mayor eficiencia y legibilidad.\n",
    "\n",
    "---\n",
    "\n",
    "## 3. Acceso y manipulación de caracteres\n",
    "\n",
    "### 3.1. Indexación\n",
    "- Acceder a un carácter específico de un string usando índices:\n",
    "  - `cadena[0]` te da el primer carácter.\n",
    "  - `cadena[-1]` te da el último carácter.\n",
    "  - Ejemplo: `nombre = 'Python'` → `nombre[0]` → `'P'`\n",
    "\n",
    "### 3.2. Slicing (Rebanado)\n",
    "- Extraer una subcadena usando la notación `[inicio:fin]`:\n",
    "  - Ejemplo: `'Python'[0:3]` → `'Pyt'` (toma desde el índice 0 al 2).\n",
    "  - También puedes usar `[inicio:fin:paso]` para obtener saltos entre caracteres.\n",
    "\n",
    "### Convenciones:\n",
    "- Siempre usa índices dentro de los límites para evitar errores de **IndexError**.\n",
    "- Si el índice de fin no se especifica, Python asume hasta el final del string.\n",
    "\n",
    "---\n",
    "\n",
    "## 4. Métodos útiles para strings\n",
    "\n",
    "### 4.1. Transformación\n",
    "- **`upper()`**: Convierte todo el texto a mayúsculas.\n",
    "  - Ejemplo: `'python'.upper()` → `'PYTHON'`\n",
    "\n",
    "- **`lower()`**: Convierte todo el texto a minúsculas.\n",
    "  - Ejemplo: `'PYTHON'.lower()` → `'python'`\n",
    "\n",
    "- **`capitalize()`**: Solo la primera letra en mayúsculas.\n",
    "  - Ejemplo: `'python'.capitalize()` → `'Python'`\n",
    "\n",
    "- **`title()`**: Convierte a formato de título (primera letra de cada palabra en mayúsculas).\n",
    "  - Ejemplo: `'hola mundo'.title()` → `'Hola Mundo'`\n",
    "\n",
    "### 4.2. Búsqueda y reemplazo\n",
    "- **`find()`**: Busca la posición de un substring dentro del string.\n",
    "  - Ejemplo: `'python'.find('y')` → `1` (posición de la letra 'y').\n",
    "\n",
    "- **`replace()`**: Reemplaza un substring por otro.\n",
    "  - Ejemplo: `'Hola Mundo'.replace('Mundo', 'Python')` → `'Hola Python'`\n",
    "\n",
    "### Convenciones:\n",
    "- Usa `find()` o `in` para verificar la existencia de un substring antes de manipularlo.\n",
    "- `replace()` es ideal para reemplazos simples, pero para transformaciones complejas, considera expresiones regulares.\n",
    "\n",
    "---\n",
    "\n",
    "## 5. Validación de strings\n",
    "\n",
    "### 5.1. ¿Es solo letras?\n",
    "- **`isalpha()`**: Verifica si todos los caracteres son letras.\n",
    "  - Ejemplo: `'Python'.isalpha()` → `True`\n",
    "\n",
    "### 5.2. ¿Es solo números?\n",
    "- **`isdigit()`**: Verifica si todos los caracteres son números.\n",
    "  - Ejemplo: `'12345'.isdigit()` → `True`\n",
    "\n",
    "### 5.3. ¿Es alfanumérico?\n",
    "- **`isalnum()`**: Verifica si el string contiene solo letras y números (sin espacios ni símbolos).\n",
    "  - Ejemplo: `'Python3'.isalnum()` → `True`\n",
    "\n",
    "---\n",
    "\n",
    "## 6. Formateo de strings (Incluir variables dentro de texto)\n",
    "\n",
    "### 6.1. F-strings (desde Python 3.6)\n",
    "- Insertar variables dentro de un string usando `f-strings`, colocando la variable entre llaves `{}`.\n",
    "  - Ejemplo: \n",
    "    ```python\n",
    "    nombre = 'Gustavo'\n",
    "    print(f'Hola, {nombre}')\n",
    "    ```\n",
    "    Resultado: `'Hola, Gustavo'`\n",
    "\n",
    "### 6.2. Método `format()`\n",
    "- Otra forma de formatear strings:\n",
    "  - Ejemplo: `'Hola, {}'.format('Gustavo')` → `'Hola, Gustavo'`\n",
    "\n",
    "### Convenciones:\n",
    "- Prefiere **f-strings** por ser más claras, eficientes y fáciles de leer que `format()`.\n",
    "\n",
    "---\n",
    "\n",
    "## 7. Convenciones de escritura de código\n",
    "\n",
    "### 7.1. Variables y funciones: `snake_case`\n",
    "- Usa **snake_case** para nombrar variables y funciones. Las palabras se separan con guiones bajos y son todas minúsculas.\n",
    "  - Ejemplos: \n",
    "    - `nombre_usuario`, \n",
    "    - `calcular_precio()`\n",
    "\n",
    "### 7.2. Clases: `PascalCase`\n",
    "- Usa **PascalCase** para nombrar clases, con la primera letra de cada palabra en mayúscula.\n",
    "  - Ejemplos: \n",
    "    - `UsuarioRegistrado`, \n",
    "    - `ProductoElectronico`\n",
    "\n",
    "### 7.3. Constantes: `UPPER_CASE`\n",
    "- Usa **UPPER_CASE** para definir constantes. Las palabras se separan con guiones bajos y todas las letras son mayúsculas.\n",
    "  - Ejemplos: \n",
    "    - `PI = 3.1416`, \n",
    "    - `TASA_INTERES = 0.05`\n",
    "\n",
    "### 7.4. Nombres descriptivos\n",
    "- Usa nombres de variables y funciones que describan claramente su propósito.\n",
    "  - En lugar de `x` o `y`, usa nombres como `total_venta` o `nombre_cliente`.\n",
    "\n",
    "---\n",
    "\n",
    "## 8. Buenas prácticas\n",
    "\n",
    "1. **Legibilidad primero**: Prioriza un código claro y fácil de leer. \n",
    "2. **Evita la concatenación con `+`** cuando trabajes con múltiples variables, prefiere las **f-strings** o `join()`.\n",
    "3. **Validación temprana**: Usa métodos como `isalpha()`, `isdigit()` para validar la entrada del usuario antes de procesar datos.\n",
    "4. **Comentarios útiles**: Siempre documenta tu código, explicando cualquier lógica compleja con comentarios breves y concisos.\n"
   ]
  },
  {
   "cell_type": "markdown",
   "metadata": {},
   "source": [
    "### Ejemplos"
   ]
  },
  {
   "cell_type": "code",
   "execution_count": 20,
   "metadata": {},
   "outputs": [
    {
     "name": "stdout",
     "output_type": "stream",
     "text": [
      "Ultimate Python \n",
      "Este curso contempla todos los detalles que necesitas aprender como programador\n",
      "\n",
      "La longitud de la variable nombre_curso es : 15\n",
      "Accedemos a un caracter en específico: P\n",
      "Cortamos el valor desde la derecha a izquierda: Ultimate\n",
      "Cortamos el valor desde la izquierda a derecha: Python\n",
      "Cuando no le pasamos ningún valor: Ultimate Python\n"
     ]
    }
   ],
   "source": [
    "nombre_curso = \"Ultimate Python\"\n",
    "descripcionDeCurso = \"\"\"\n",
    "Este curso contempla todos los detalles que necesitas aprender como programador\n",
    "\"\"\"\n",
    "\n",
    "print(nombre_curso , descripcionDeCurso)\n",
    "print('La longitud de la variable nombre_curso es :' ,  len(nombre_curso))\n",
    "print('Accedemos a un caracter en específico:' , nombre_curso[9])\n",
    "print('Cortamos el valor desde la derecha a izquierda:' , nombre_curso[0:8]) # Desde derecha a izquierda\n",
    "print('Cortamos el valor desde la izquierda a derecha:'  , nombre_curso[9:]) # Desde izquierda a derecha\n",
    "print('Cuando no le pasamos ningún valor:' , nombre_curso[:])"
   ]
  },
  {
   "cell_type": "markdown",
   "metadata": {},
   "source": [
    "## Ejemplo de Formateo de Strings\n",
    "\n",
    "\n",
    "- Está es una forma pero no es la más recomendada"
   ]
  },
  {
   "cell_type": "code",
   "execution_count": 21,
   "metadata": {},
   "outputs": [
    {
     "name": "stdout",
     "output_type": "stream",
     "text": [
      "NicolasSchurmann\n"
     ]
    }
   ],
   "source": [
    "nombre = \"Nicolas\"\n",
    "apellido = \"Schurmann\"\n",
    "\n",
    "nombre_completo = nombre + \"\" + apellido\n",
    "print(nombre_completo)"
   ]
  },
  {
   "cell_type": "markdown",
   "metadata": {},
   "source": [
    "- Forma correcta de concatenar strings"
   ]
  },
  {
   "cell_type": "code",
   "execution_count": null,
   "metadata": {},
   "outputs": [
    {
     "name": "stdout",
     "output_type": "stream",
     "text": [
      "N Schurman\n"
     ]
    }
   ],
   "source": [
    "nombre = \"Nicolas\"\n",
    "apellido = \"Schurman\"\n",
    "nombre_completo = f'{nombre} {apellido}'\n",
    "\n",
    "print(nombre_completo)"
   ]
  }
 ],
 "metadata": {
  "kernelspec": {
   "display_name": "Python 3",
   "language": "python",
   "name": "python3"
  },
  "language_info": {
   "codemirror_mode": {
    "name": "ipython",
    "version": 3
   },
   "file_extension": ".py",
   "mimetype": "text/x-python",
   "name": "python",
   "nbconvert_exporter": "python",
   "pygments_lexer": "ipython3",
   "version": "3.12.5"
  }
 },
 "nbformat": 4,
 "nbformat_minor": 2
}
