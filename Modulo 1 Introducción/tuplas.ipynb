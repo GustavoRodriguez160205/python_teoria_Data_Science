{
 "cells": [
  {
   "cell_type": "markdown",
   "metadata": {},
   "source": [
    "## Tuplas en Python\n",
    "\n",
    "### ¿Qué es una tupla?\n",
    "Una **tupla** es una colección **ordenada** e **inmutable** de elementos en Python. Al ser ordenada, cada elemento tiene un **índice**, el cual empieza desde `0` para el primer elemento.\n",
    "\n",
    "### Características clave:\n",
    "- **Ordenada**: Los elementos se almacenan en un orden definido y no cambian su posición.\n",
    "- **Inmutable**: Una vez que se define, los elementos de una tupla no pueden modificarse (no se pueden agregar, eliminar o cambiar).\n",
    "- **Índices**: Cada elemento en una tupla tiene un índice asociado, lo que permite acceder a ellos fácilmente.\n"
   ]
  },
  {
   "cell_type": "code",
   "execution_count": 10,
   "metadata": {},
   "outputs": [
    {
     "name": "stdout",
     "output_type": "stream",
     "text": [
      "La longitud de la tupla es: 6\n"
     ]
    }
   ],
   "source": [
    "vehiculos = [\"coche\", \"moto\", \"bicicleta\", \"camion\", \"autobus\", \"avion\"]\n",
    "\n",
    "\n",
    "print('La longitud de la tupla es:', len(vehiculos))\n",
    "\n"
   ]
  },
  {
   "cell_type": "markdown",
   "metadata": {},
   "source": [
    "### Tupla desde Constructor"
   ]
  },
  {
   "cell_type": "code",
   "execution_count": 6,
   "metadata": {},
   "outputs": [
    {
     "name": "stdout",
     "output_type": "stream",
     "text": [
      "La tupla desde constructor es: ('Este', 'es', 'una', 'tupla')\n"
     ]
    }
   ],
   "source": [
    "tuplaConstructor = tuple(('Este' , 'es' , 'una' , 'tupla'))\n",
    "\n",
    "print('La tupla desde constructor es:' , tuplaConstructor)"
   ]
  },
  {
   "cell_type": "markdown",
   "metadata": {},
   "source": [
    "### Accedemos a los indices"
   ]
  },
  {
   "cell_type": "code",
   "execution_count": 12,
   "metadata": {},
   "outputs": [
    {
     "name": "stdout",
     "output_type": "stream",
     "text": [
      "Los elementos dentro del rango son: ('moto', 'bicicleta', 'avion', 'colectivo')\n",
      "Los elementos de la posicion 1 y 2 son: moto bicicleta\n"
     ]
    }
   ],
   "source": [
    "elemento1 = vehiculos[1]\n",
    "elemento2 = vehiculos[2]\n",
    "rango = vehiculos[1:5]\n",
    "\n",
    "print('Los elementos dentro del rango son:' , rango)\n",
    "print('Los elementos de la posicion 1 y 2 son:' , elemento1 , elemento2)"
   ]
  },
  {
   "cell_type": "markdown",
   "metadata": {},
   "source": [
    "### Obtenemos una tupla con las caracteristicas que yo necesito\n",
    "\n",
    "- En una nueva variable volcamos la tupla como lista\n",
    "- Hacemos el cambio que queriamos hacer\n",
    "- Asignamos a la tupla la lista modificada "
   ]
  },
  {
   "cell_type": "code",
   "execution_count": 24,
   "metadata": {},
   "outputs": [
    {
     "name": "stdout",
     "output_type": "stream",
     "text": [
      "('auto', 'moto', 'bicicleta', 'Metro', 'colectivo', 'tren', 'Crucero', 'Crucero', 'Subte')\n"
     ]
    }
   ],
   "source": [
    "# Convertimos la tupla 'vehiculos' en una lista para poder modificarla.\n",
    "listaVehículos = list(vehiculos)\n",
    "\n",
    "# Reemplazamos el cuarto elemento de la lista (índice 3) por 'Metro'.\n",
    "listaVehículos[3] = 'Metro'\n",
    "\n",
    "# Añadimos el elemento 'Crucero' al final de la lista.\n",
    "listaVehículos.append('Subte')\n",
    "\n",
    "# Convertimos la lista nuevamente en una tupla, ya que las tuplas son inmutables.\n",
    "vehiculos = tuple(listaVehículos)\n",
    "\n",
    "\n",
    "print(vehiculos)\n"
   ]
  },
  {
   "cell_type": "markdown",
   "metadata": {},
   "source": [
    "### Desempaquetamiento"
   ]
  },
  {
   "cell_type": "code",
   "execution_count": 26,
   "metadata": {},
   "outputs": [
    {
     "name": "stdout",
     "output_type": "stream",
     "text": [
      "pera naranja\n"
     ]
    }
   ],
   "source": [
    "frutas = [\"manzana\", \"banana\", \"pera\", \"naranja\", \"uva\", \"cereza\"]\n",
    "(a, b, c, d, e, f) = frutas\n",
    "print(c , d)  \n"
   ]
  },
  {
   "cell_type": "markdown",
   "metadata": {},
   "source": [
    "### Recorrer las tuplas es muy similar a listas y sets"
   ]
  },
  {
   "cell_type": "code",
   "execution_count": 27,
   "metadata": {},
   "outputs": [
    {
     "name": "stdout",
     "output_type": "stream",
     "text": [
      "10\n",
      "20\n",
      "30\n",
      "40\n"
     ]
    }
   ],
   "source": [
    "mi_tupla = (10, 20, 30, 40)\n",
    "\n",
    "for elemento in mi_tupla:\n",
    "    print(elemento)\n"
   ]
  },
  {
   "cell_type": "code",
   "execution_count": 28,
   "metadata": {},
   "outputs": [
    {
     "name": "stdout",
     "output_type": "stream",
     "text": [
      "Índice: 0, Elemento: 10\n",
      "Índice: 1, Elemento: 20\n",
      "Índice: 2, Elemento: 30\n",
      "Índice: 3, Elemento: 40\n"
     ]
    }
   ],
   "source": [
    "mi_tupla = (10, 20, 30, 40)\n",
    "\n",
    "for indice, elemento in enumerate(mi_tupla):\n",
    "    print(f\"Índice: {indice}, Elemento: {elemento}\")\n"
   ]
  },
  {
   "cell_type": "markdown",
   "metadata": {},
   "source": [
    "### Join de tuplas"
   ]
  },
  {
   "cell_type": "code",
   "execution_count": 30,
   "metadata": {},
   "outputs": [
    {
     "name": "stdout",
     "output_type": "stream",
     "text": [
      "La unión de las frutas sera: ('Naranja', 'Limon', 'Pomelo', 'Papaya', 'Coco')\n"
     ]
    }
   ],
   "source": [
    "citricos = ('Naranja' , 'Limon' , 'Pomelo')\n",
    "tropical = ('Papaya' , 'Coco')\n",
    "\n",
    "\n",
    "frutas = citricos + tropical\n",
    "print(f'La unión de las frutas sera: {frutas}')"
   ]
  }
 ],
 "metadata": {
  "kernelspec": {
   "display_name": "Python 3",
   "language": "python",
   "name": "python3"
  },
  "language_info": {
   "codemirror_mode": {
    "name": "ipython",
    "version": 3
   },
   "file_extension": ".py",
   "mimetype": "text/x-python",
   "name": "python",
   "nbconvert_exporter": "python",
   "pygments_lexer": "ipython3",
   "version": "3.12.5"
  }
 },
 "nbformat": 4,
 "nbformat_minor": 2
}
