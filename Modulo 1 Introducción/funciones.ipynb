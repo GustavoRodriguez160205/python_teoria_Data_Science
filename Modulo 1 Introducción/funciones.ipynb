{
 "cells": [
  {
   "cell_type": "markdown",
   "metadata": {},
   "source": [
    "# Funciones\n",
    "\n",
    "## ¿Qué es una función?\n",
    "\n",
    "- Una función es un bloque de código que realiza una tarea específica cuando es invocada.\n",
    "- Nos permite dividir (atomizar) el código en piezas más pequeñas y reutilizables.\n",
    "- Facilita la optimización y el mantenimiento del código, evitando repeticiones y promoviendo la reutilización.\n",
    "\n",
    "## Ventajas de usar funciones\n",
    "\n",
    "- **Reutilización de código**: Puedes llamar a una función varias veces sin tener que reescribir el mismo código.\n",
    "- **Mantenimiento más sencillo**: Cambiar la lógica de una función afecta a todas las llamadas, evitando que tengas que actualizar múltiples fragmentos de código.\n",
    "- **Organización**: Ayudan a estructurar el código de manera más ordenada y comprensible.\n",
    "- **Modularidad**: Facilitan la división de un programa grande en partes manejables, haciendo más fácil su comprensión y depuración.\n",
    "\n",
    "## Parametros ¿Que son?\n",
    "\n",
    "- Son la lista de variables dentro de los paréntesis.\n",
    "\n",
    "## Argumentos ¿Que son?\n",
    "\n",
    "- Son los valores que le enviamos a la función cuando es llamada\n",
    "\n"
   ]
  },
  {
   "cell_type": "code",
   "execution_count": 2,
   "metadata": {},
   "outputs": [
    {
     "name": "stdout",
     "output_type": "stream",
     "text": [
      "El curso de de python para DataScience lo dará el profesor  Alejandro\n",
      "El curso de de manejo lo dará la profesora  Romina\n"
     ]
    }
   ],
   "source": [
    "                #   Paramétros  =  variables\n",
    "def docentes_cursos(profesor , curso , femenino):\n",
    "    profesion = 'el profesor'\n",
    "    if femenino:\n",
    "        profesion = 'la profesora'\n",
    "    print(f'El curso de {curso} lo dará {profesion} {profesor}')\n",
    "\n",
    "\n",
    "# Llamamos a la función con los argumentos\n",
    "docentes_cursos('Alejandro' , 'de python para DataScience' , False)\n",
    "docentes_cursos('Romina' , 'de manejo' , True )\n"
   ]
  },
  {
   "cell_type": "markdown",
   "metadata": {},
   "source": [
    "# Variables por defecto\n",
    "\n",
    "- Nos da la posibilidad de no enviar el argumento"
   ]
  },
  {
   "cell_type": "code",
   "execution_count": 8,
   "metadata": {},
   "outputs": [
    {
     "name": "stdout",
     "output_type": "stream",
     "text": [
      "El nombre de mi país es: Argentina\n"
     ]
    }
   ],
   "source": [
    "def decir_pais(pais = 'Argentina'):\n",
    "    print(f'El nombre de mi país es: {pais}')\n",
    "\n",
    "decir_pais()"
   ]
  },
  {
   "cell_type": "markdown",
   "metadata": {},
   "source": [
    "## Argumentos Arbitrarios\n",
    "\n",
    "- Mandar múltiples argumentos según dependa\n",
    "- Hay que tener cuidado de que esté bien manejado para no dar errores"
   ]
  },
  {
   "cell_type": "code",
   "execution_count": 4,
   "metadata": {},
   "outputs": [
    {
     "name": "stdout",
     "output_type": "stream",
     "text": [
      "Mi mejor alumno es Ricardo\n",
      "Mi alumna más divertida  es Beatriz\n"
     ]
    }
   ],
   "source": [
    "def llamar_alumnos(*alumnos):\n",
    "    print(f'Mi mejor alumno es {alumnos[0]}')\n",
    "    print(f'Mi alumna más divertida  es {alumnos[1]}')\n",
    "\n",
    "\n",
    "llamar_alumnos('Ricardo' , 'Beatriz' , 'Leonel' , 'Javier')"
   ]
  },
  {
   "cell_type": "markdown",
   "metadata": {},
   "source": [
    "# Argumentos clave / Key arguments"
   ]
  },
  {
   "cell_type": "code",
   "execution_count": 6,
   "metadata": {},
   "outputs": [
    {
     "name": "stdout",
     "output_type": "stream",
     "text": [
      "El primer curso que daré sera el de :HTML\n",
      "El segundo curso que daré sera el de: CSS\n",
      "Y para finalizar daré el curso de : JAVASCRIPT\n"
     ]
    }
   ],
   "source": [
    "def cursos(curso1 , curso2 , curso3):\n",
    "    print(f'El primer curso que daré sera el de :{curso1}')\n",
    "    print(f'El segundo curso que daré sera el de: {curso2}')\n",
    "    print(f'Y para finalizar daré el curso de : {curso3}')\n",
    "\n",
    "\n",
    "# Indicamos a que parámetro corresponde cada argumento\n",
    "cursos(curso1 = 'HTML' , curso2 = 'CSS' , curso3 = 'JAVASCRIPT')"
   ]
  },
  {
   "cell_type": "markdown",
   "metadata": {},
   "source": [
    "# Argumentos clave arbitrarios"
   ]
  },
  {
   "cell_type": "code",
   "execution_count": 7,
   "metadata": {},
   "outputs": [
    {
     "name": "stdout",
     "output_type": "stream",
     "text": [
      "El apellido del alumno es : Perez y su nombre es: Lucas\n"
     ]
    }
   ],
   "source": [
    "def llamar_Alumno(**alumno):\n",
    "    print(f'El apellido del alumno es : {alumno['apellido']} y su nombre es: {alumno['nombre']}')\n",
    "\n",
    "\n",
    "\n",
    "llamar_Alumno(apellido = 'Perez' , nombre = 'Lucas')"
   ]
  },
  {
   "cell_type": "markdown",
   "metadata": {},
   "source": [
    "# Otros tipos de datos que podemos pasar"
   ]
  },
  {
   "cell_type": "code",
   "execution_count": 1,
   "metadata": {},
   "outputs": [
    {
     "name": "stdout",
     "output_type": "stream",
     "text": [
      "['Messi', 'Ronaldo', True, 90]\n",
      "33\n"
     ]
    }
   ],
   "source": [
    "\n",
    "lista = ['Messi', 'Ronaldo', True, 90]\n",
    "number = 33\n",
    "\n",
    "# Definimos una función que recibe una lista y un número como parámetros\n",
    "def usarTiposDeDatos(lista, number):\n",
    "  print(lista)\n",
    "  print(number)\n",
    "\n",
    "# Llamamos a la función, pasándole la lista y el número como argumentos\n",
    "usarTiposDeDatos(lista, number)\n"
   ]
  },
  {
   "cell_type": "markdown",
   "metadata": {},
   "source": [
    "# Retorno de valores"
   ]
  },
  {
   "cell_type": "code",
   "execution_count": 10,
   "metadata": {},
   "outputs": [
    {
     "name": "stdout",
     "output_type": "stream",
     "text": [
      "El resultado de la suma es: 567\n",
      "El resultado de la  resta es: 86\n",
      "El resultado de la multiplicacion es: 8\n",
      "El resultado de la divicion es:  2.0\n"
     ]
    }
   ],
   "source": [
    "def suma(a , b):\n",
    "    return a + b\n",
    "\n",
    "def resta(a , b):\n",
    "    return a - b\n",
    "\n",
    "def multiplicacion(a , b):\n",
    "    return a * b\n",
    "\n",
    "def divicion(a , b):\n",
    "    return a / b\n",
    "\n",
    "\n",
    "resultado1 = suma(377, 190)\n",
    "resultado2 = resta(101 , 15)\n",
    "resultado3 = multiplicacion(4 , 2)\n",
    "resultado4 = divicion( 12 , 6)\n",
    "\n",
    "print('El resultado de la suma es:' , resultado1)\n",
    "print('El resultado de la  resta es:' , resultado2)\n",
    "print('El resultado de la multiplicacion es:' , resultado3)\n",
    "print('El resultado de la divicion es: ' , resultado4)\n",
    "\n"
   ]
  },
  {
   "cell_type": "markdown",
   "metadata": {},
   "source": [
    "# Recursividad\n",
    "\n",
    "- Se puede considerar en cierta forma un bucle"
   ]
  },
  {
   "cell_type": "code",
   "execution_count": 14,
   "metadata": {},
   "outputs": [
    {
     "name": "stdout",
     "output_type": "stream",
     "text": [
      "El factorial de 12 es 479001600\n"
     ]
    }
   ],
   "source": [
    "def factorial(n):\n",
    "    if n == 0:\n",
    "        return 1\n",
    "    else:\n",
    "        return n * factorial(n- 1)\n",
    "    \n",
    "numero = 12\n",
    "\n",
    "print(f'El factorial de {numero} es {factorial(numero)}')\n",
    "\n",
    "\n"
   ]
  },
  {
   "cell_type": "markdown",
   "metadata": {},
   "source": [
    "# Funciones Lambda\n",
    "\n",
    "- Son funciones anónimas y cortas de una sola linea de código\n",
    "- No es optimo\n"
   ]
  },
  {
   "cell_type": "code",
   "execution_count": 18,
   "metadata": {},
   "outputs": [
    {
     "name": "stdout",
     "output_type": "stream",
     "text": [
      "La suma lambda será: 12\n",
      "La resta lambda será: 5\n",
      "La división lambda será: 1.5\n",
      "La multiplicación lambda será: 18\n"
     ]
    }
   ],
   "source": [
    "def suma(a, b):\n",
    "    return a + b\n",
    "\n",
    "def resta(a, b):\n",
    "    return a - b\n",
    "\n",
    "def multiplicacion(a, b):\n",
    "    return a * b\n",
    "\n",
    "def divicion(a, b):\n",
    "    return a / b\n",
    "\n",
    "\n",
    "# Ejemplos (Aunque no deberiamos asignar a una variable una lambda como buena práctica)\n",
    "\n",
    "suma_lambda = lambda a, b: a + b\n",
    "resta_lambda = lambda a, b: a - b\n",
    "divicion_lambda = lambda a, b: a / b\n",
    "multiplicacion_lambda = lambda a, b: a * b\n",
    "\n",
    "print(f'La suma lambda será: {suma_lambda(10, 2)}')\n",
    "print(f'La resta lambda será: {resta_lambda(10, 5)}')\n",
    "print(f'La división lambda será: {divicion_lambda(3, 2)}')  # Corrección\n",
    "print(f'La multiplicación lambda será: {multiplicacion_lambda(3, 6)}')  # Corrección\n"
   ]
  },
  {
   "cell_type": "markdown",
   "metadata": {},
   "source": [
    "# Ejemplo más realista de lambda"
   ]
  },
  {
   "cell_type": "code",
   "execution_count": 20,
   "metadata": {},
   "outputs": [
    {
     "name": "stdout",
     "output_type": "stream",
     "text": [
      "100\n",
      "10\n",
      "10\n"
     ]
    }
   ],
   "source": [
    "def multiplicador(n):\n",
    "    # Devuelve una función que toma un argumento 'a' y lo multiplica por 'n'.\n",
    "    return lambda a: a * n  \n",
    "\n",
    "# multiplica por 2.\n",
    "duplicador = multiplicador(2)  \n",
    "\n",
    "# multiplica por 5.\n",
    "triplicador = multiplicador(5)\n",
    "\n",
    "# que multiplica por 10.\n",
    "cuadriplicador = multiplicador(10)\n",
    "\n",
    "# Imprime el resultado de multiplicar 10 por 10 (cuadriplicador).\n",
    "print(cuadriplicador(10))  \n",
    "# Imprime el resultado de multiplicar 2 por 5 (triplicador).\n",
    "print(triplicador(2))  \n",
    "# Imprime el resultado de multiplicar 5 por 2 (duplicador).\n",
    "print(duplicador(5))\n"
   ]
  },
  {
   "cell_type": "markdown",
   "metadata": {},
   "source": [
    "# Ejemplo practico de lambda en filter"
   ]
  },
  {
   "cell_type": "code",
   "execution_count": 23,
   "metadata": {},
   "outputs": [
    {
     "name": "stdout",
     "output_type": "stream",
     "text": [
      "[2, 4, 6, 8]\n"
     ]
    }
   ],
   "source": [
    "numeros = [1, 2, 3, 4, 5, 6, 7, 8]\n",
    "\n",
    "# Usamos la función filter para seleccionar solo los números pares\n",
    "# La función lambda se define para comprobar si un número es par\n",
    "pares = filter(lambda x: x % 2 == 0, numeros)\n",
    "\n",
    "# Convertimos el resultado de filter a una lista para poder imprimirlo\n",
    "print(list(pares))\n",
    "\n"
   ]
  }
 ],
 "metadata": {
  "kernelspec": {
   "display_name": "Python 3",
   "language": "python",
   "name": "python3"
  },
  "language_info": {
   "codemirror_mode": {
    "name": "ipython",
    "version": 3
   },
   "file_extension": ".py",
   "mimetype": "text/x-python",
   "name": "python",
   "nbconvert_exporter": "python",
   "pygments_lexer": "ipython3",
   "version": "3.12.5"
  }
 },
 "nbformat": 4,
 "nbformat_minor": 2
}
