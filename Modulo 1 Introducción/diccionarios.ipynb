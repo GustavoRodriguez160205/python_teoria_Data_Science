{
 "cells": [
  {
   "cell_type": "markdown",
   "metadata": {},
   "source": [
    "# Diccionario en Python\n",
    "\n",
    "## Definición\n",
    "Un **diccionario** es una colección de pares **clave-valor**, donde cada clave es única y se utiliza para acceder al valor asociado.\n",
    "\n",
    "## Analogía\n",
    "Imagina un **diccionario** de la vida real, donde las **palabras** (claves) te llevan a su **significado** (valor).\n",
    "\n",
    "## Ejemplo\n",
    "Un diccionario en Python se puede visualizar como una tabla:\n",
    "\n",
    "| Clave     | Valor        |\n",
    "| --------- | ------------ |\n",
    "| \"nombre\"  | \"Juan\"       |\n",
    "| \"edad\"    | 25           |\n",
    "| \"ciudad\"  | \"Buenos Aires\" |\n",
    "\n",
    "## Métodos Comunes de los Diccionarios\n",
    "\n",
    "| Método                      | Descripción                                               \n",
    "| --------------------------  | ----------------------------------------------------------\n",
    "| `dict.get(clave)`           | Devuelve el valor asociado a la clave o `None` si no existe \n",
    "| `dict.values()`             | Devuelve un objeto con todos los valores del diccionario   \n",
    "| `dict.items()`              | Devuelve una lista de tuplas (clave, valor)\n",
    "| `dict.update(otro_dic)`     | Actualiza el diccionario con pares clave-valor de otro      \n",
    "| `dict.pop(clave)`           | Elimina la clave y devuelve su valor                       \n",
    "| `dict.clear()`              | Elimina todos los elementos del diccionario                   |\n",
    "\n"
   ]
  },
  {
   "cell_type": "code",
   "execution_count": 8,
   "metadata": {},
   "outputs": [
    {
     "name": "stdout",
     "output_type": "stream",
     "text": [
      "{'nombre': 'Pedro', 'edad': 21, 'legajo': False, 'direccion': {'calle': 'Avenida Sarmiento 23'}}\n"
     ]
    }
   ],
   "source": [
    "estudiante = {\n",
    "    'nombre': 'Pedro',\n",
    "    'edad': 21,\n",
    "    'legajo': False,\n",
    "    'direccion':{\n",
    "        'calle': 'Avenida Sarmiento 23',\n",
    "        'CodigoPostal': 4000\n",
    "    }\n",
    "}\n",
    "\n",
    "print(estudiante)"
   ]
  },
  {
   "cell_type": "markdown",
   "metadata": {},
   "source": [
    "## Calculamos la longitud del diccionario"
   ]
  },
  {
   "cell_type": "code",
   "execution_count": 9,
   "metadata": {},
   "outputs": [
    {
     "name": "stdout",
     "output_type": "stream",
     "text": [
      "La longitud del diccionario es: 4\n"
     ]
    }
   ],
   "source": [
    "longitud = len(estudiante)\n",
    "print(f'La longitud del diccionario es: {longitud}')"
   ]
  },
  {
   "cell_type": "markdown",
   "metadata": {},
   "source": [
    "## Creamos diccionario desde constructor"
   ]
  },
  {
   "cell_type": "code",
   "execution_count": 10,
   "metadata": {},
   "outputs": [
    {
     "name": "stdout",
     "output_type": "stream",
     "text": [
      "El diccionario desde constructor se vera asi: {'nombre': 'Pedro', 'instagram': 'Pedro123'}\n"
     ]
    }
   ],
   "source": [
    "constructorDiccionario = dict(nombre = 'Pedro' , instagram = 'Pedro123')\n",
    "\n",
    "print(f'El diccionario desde constructor se vera asi: {constructorDiccionario}')"
   ]
  },
  {
   "cell_type": "markdown",
   "metadata": {},
   "source": [
    "# ¿ Cómo accedemos a cada propiedad ?"
   ]
  },
  {
   "cell_type": "code",
   "execution_count": 12,
   "metadata": {},
   "outputs": [
    {
     "name": "stdout",
     "output_type": "stream",
     "text": [
      "La edad del estudiante es: 21\n",
      "El nombre del estudiante es: Pedro\n"
     ]
    }
   ],
   "source": [
    "nombre = estudiante['nombre']\n",
    "edad = estudiante['edad']\n",
    "\n",
    "print(f'La edad del estudiante es: {edad}')\n",
    "print(f'El nombre del estudiante es: {nombre}')"
   ]
  },
  {
   "cell_type": "markdown",
   "metadata": {},
   "source": [
    "## También podemos acceder con el get"
   ]
  },
  {
   "cell_type": "code",
   "execution_count": 13,
   "metadata": {},
   "outputs": [
    {
     "name": "stdout",
     "output_type": "stream",
     "text": [
      "La edad desde get se ve asi: 21\n"
     ]
    }
   ],
   "source": [
    "nombre = estudiante.get('edad')\n",
    "\n",
    "print(f'La edad desde get se ve asi: {nombre}')"
   ]
  },
  {
   "cell_type": "markdown",
   "metadata": {},
   "source": [
    "## Accedemos a las keys"
   ]
  },
  {
   "cell_type": "code",
   "execution_count": 14,
   "metadata": {},
   "outputs": [
    {
     "name": "stdout",
     "output_type": "stream",
     "text": [
      "Las keys son: dict_keys(['nombre', 'edad', 'legajo', 'direccion'])\n"
     ]
    }
   ],
   "source": [
    "keys = estudiante.keys()\n",
    "\n",
    "print(f'Las keys son: {keys}')"
   ]
  },
  {
   "cell_type": "markdown",
   "metadata": {},
   "source": [
    "## Ahora a los valores"
   ]
  },
  {
   "cell_type": "code",
   "execution_count": 15,
   "metadata": {},
   "outputs": [
    {
     "name": "stdout",
     "output_type": "stream",
     "text": [
      "Los valores del diccionario son: dict_values(['Pedro', 21, False, {'calle': 'Avenida Sarmiento 23'}])\n"
     ]
    }
   ],
   "source": [
    "values = estudiante.values()\n",
    "\n",
    "print(f'Los valores del diccionario son: {values}')"
   ]
  }
 ],
 "metadata": {
  "kernelspec": {
   "display_name": "Python 3",
   "language": "python",
   "name": "python3"
  },
  "language_info": {
   "codemirror_mode": {
    "name": "ipython",
    "version": 3
   },
   "file_extension": ".py",
   "mimetype": "text/x-python",
   "name": "python",
   "nbconvert_exporter": "python",
   "pygments_lexer": "ipython3",
   "version": "3.12.5"
  }
 },
 "nbformat": 4,
 "nbformat_minor": 2
}
