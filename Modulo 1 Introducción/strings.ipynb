{
 "cells": [
  {
   "cell_type": "markdown",
   "metadata": {},
   "source": [
    "# Cadenas de Texto en Python\n",
    "\n",
    "Las **cadenas de texto** son un tipo de dato fundamental en Python que se utilizan para almacenar texto. Se pueden crear de varias maneras y ofrecen una gran cantidad de métodos para manipular y trabajar con el texto.\n",
    "\n",
    "## Creación de Cadenas\n",
    "\n",
    "Puedes crear cadenas de texto utilizando comillas simples (`'`) o comillas dobles (`\"`). También puedes usar comillas triples para cadenas multilínea.\n",
    "\n",
    "## Métodos Comunes de Cadenas\n",
    "\n",
    "Python proporciona muchos métodos útiles para trabajar con cadenas. Algunos de los más comunes son:\n",
    "\n",
    "- `len(cadena)`: Devuelve la longitud de la cadena.\n",
    "- `cadena.lower()`: Convierte la cadena a minúsculas.\n",
    "- `cadena.upper()`: Convierte la cadena a mayúsculas.\n",
    "- `cadena.strip()`: Elimina los espacios en blanco al principio y al final de la cadena.\n",
    "- `cadena.split(separador)`: Divide la cadena en una lista usando el separador especificado.\n",
    "- `cadena.replace(viejo, nuevo)`: Reemplaza todas las ocurrencias de una subcadena por otra.\n",
    "- `type()`: Nos devuelve que clase es , en este caso str\n",
    "\n",
    "## Formateo de Cadenas\n",
    "\n",
    "El formateo de cadenas en Python se puede hacer de varias maneras, incluyendo el uso de `f-strings`, el método `.format()`, y la interpolación de cadenas.\n",
    "\n",
    "## Concatenación de Cadenas\n",
    "\n",
    "Las cadenas se pueden concatenar usando el operador `+`, lo que permite combinar dos o más cadenas en una sola.\n",
    "\n",
    "## Inmutabilidad\n",
    "\n",
    "Las cadenas en Python son **inmutables**, lo que significa que no se pueden modificar una vez creadas. Cualquier operación que parezca modificar una cadena en realidad crea una nueva cadena.\n",
    "\n"
   ]
  },
  {
   "cell_type": "code",
   "execution_count": 14,
   "metadata": {},
   "outputs": [
    {
     "name": "stdout",
     "output_type": "stream",
     "text": [
      "<class 'str'>\n",
      "o\n",
      "31\n",
      "True\n",
      "True\n",
      "Python\n",
      "PYTHO\n",
      "\n",
      "ácil\n"
     ]
    }
   ],
   "source": [
    "# Definición de cadenas de texto\n",
    "texto_1 = 'Python es un lenguaje muy fácil'\n",
    "texto_2 = 'PYTHON ES UN LENGUAJE DE APLICACIÓN AMPLIO'\n",
    "\n",
    "# Verifica el tipo de la variable 'texto_1'\n",
    "print(type(texto_1))\n",
    "\n",
    "# Selecciona un carácter específico de 'texto_1' usando su índice\n",
    "caracteres = texto_1[4] \n",
    "print(caracteres)\n",
    "\n",
    "# Muestra la longitud de 'texto_1'\n",
    "print(len(texto_1)) \n",
    "\n",
    "# Verifica si la subcadena 'Python' está presente en 'texto_1'\n",
    "print('Python' in texto_1)  # Devuelve True si está presente, False si no\n",
    "\n",
    "# Verifica si 'JavaScript' no está en 'texto_1'\n",
    "print('JavaScript' not in texto_1)  # Devuelve True si no está presente, False si está\n",
    "\n",
    "# Corta una parte del texto y muestra fragmentos específicos\n",
    "print(texto_1[0:6])     # Devuelve el fragmento que va del índice 0 al 6 (excluido)\n",
    "print(texto_2[:5])      # Devuelve el fragmento desde el inicio hasta el índice 5 (excluido)\n",
    "print(texto_1[38:])     # Devuelve el fragmento desde el índice 38 hasta el final de 'texto_1'\n",
    "print(texto_1[-4:])     # Devuelve los últimos 4 caracteres de 'texto_1'\n",
    "\n"
   ]
  },
  {
   "cell_type": "markdown",
   "metadata": {},
   "source": [
    "## **Modificadores de Texto en Python: Un Resumen**\n",
    "\n",
    "Python ofrece un conjunto robusto de herramientas para manipular y transformar cadenas de texto. Los modificadores de texto son métodos integrados que actúan directamente sobre objetos de tipo `str`, así como funciones provistas por módulos externos.\n",
    "\n",
    "### **Métodos de Cadenas de Caracteres**\n",
    "* **Conversión de mayúsculas/minúsculas:** `upper()`, `lower()`, `capitalize()`, `title()`\n",
    "* **Manipulación de espacios:** `strip()`, `rstrip()`, `lstrip()`\n",
    "* **Búsqueda y reemplazo:** `find()`, `rfind()`, `replace()`\n",
    "* **División y unión:** `split()`, `join()`\n",
    "\n",
    "### **Formateado de Cadenas**\n",
    "* **F-strings:** Una forma elegante y concisa de incrustar variables y expresiones en cadenas.\n",
    "\n",
    "\n",
    "### **Otras Técnicas**\n",
    "* **Slicing:** Extracción de subcadenas mediante índices.\n",
    "* **Concatenación:** Unión de cadenas con el operador `+`.\n",
    "* **Multiplicación:** Repetición de una cadena.\n",
    "\n"
   ]
  },
  {
   "cell_type": "code",
   "execution_count": 1,
   "metadata": {},
   "outputs": [
    {
     "name": "stdout",
     "output_type": "stream",
     "text": [
      "El texto en mayúsculas se vera asi : ESTO ES MATERIAL PARA ESTUDIAR PYTHON POR GUSTAVO\n",
      "El texto en minúsculas se vera asi : esto es material para estudiar python por gustavo\n"
     ]
    }
   ],
   "source": [
    "texto = 'Esto es material para estudiar python por Gustavo'\n",
    "\n",
    "mayusculas = texto.upper()\n",
    "minusculas = texto.lower()\n",
    "print(f'El texto en mayúsculas se vera asi : {mayusculas}')\n",
    "print(f'El texto en minúsculas se vera asi : {minusculas}')"
   ]
  },
  {
   "cell_type": "code",
   "execution_count": 3,
   "metadata": {},
   "outputs": [
    {
     "name": "stdout",
     "output_type": "stream",
     "text": [
      "El texto con espacios se vera asi hola mundo\n"
     ]
    }
   ],
   "source": [
    "texto_con_espacios = '       hola mundo      '\n",
    "\n",
    "print(f'El texto con espacios se vera asi : {texto_con_espacios.strip()}')"
   ]
  },
  {
   "cell_type": "code",
   "execution_count": 10,
   "metadata": {},
   "outputs": [
    {
     "name": "stdout",
     "output_type": "stream",
     "text": [
      "El texto modificado es: Un texto que se va a reemplazar\n"
     ]
    }
   ],
   "source": [
    "texto = 'Este texto que se va a reemplazar'\n",
    "\n",
    "# Eliminamos el espacio no imprimible y realizamos todas las modificaciones en una sola línea\n",
    "texto_modificado = texto.replace('Este', 'Un').strip() # Eliminamos los espacios\n",
    "\n",
    "print(f'El texto modificado es: {texto_modificado}')"
   ]
  },
  {
   "cell_type": "code",
   "execution_count": 9,
   "metadata": {},
   "outputs": [
    {
     "name": "stdout",
     "output_type": "stream",
     "text": [
      "El texto con comas se veria asi : ['La uni ', ' es ', ' una ', ' verga']\n"
     ]
    }
   ],
   "source": [
    "textoConComas = 'La uni , es , una , verga'\n",
    "separar_porComas = textoConComas.split(',') # Separa el texto por comas y nos devuelve una lista\n",
    "\n",
    "print(f'El texto con comas se veria asi : {separar_porComas}')"
   ]
  },
  {
   "cell_type": "markdown",
   "metadata": {},
   "source": [
    "# Concatenación de  strings\n"
   ]
  },
  {
   "cell_type": "code",
   "execution_count": 11,
   "metadata": {},
   "outputs": [
    {
     "name": "stdout",
     "output_type": "stream",
     "text": [
      "El texto concatenado sera : HolaMundo\n"
     ]
    }
   ],
   "source": [
    "a = 'Hola'\n",
    "b = 'Mundo'\n",
    "concatenar = a + b\n",
    "print(f'El texto concatenado sera : {concatenar}')"
   ]
  },
  {
   "cell_type": "markdown",
   "metadata": {},
   "source": [
    "# Template Strings"
   ]
  },
  {
   "cell_type": "code",
   "execution_count": 16,
   "metadata": {},
   "outputs": [
    {
     "name": "stdout",
     "output_type": "stream",
     "text": [
      "Se llama Ricardo y  tiene 5.00 años\n",
      "Resultado de una operacion : 1587\n"
     ]
    }
   ],
   "source": [
    "num = 5\n",
    "nombre = 'Ricardo'\n",
    "\n",
    "print(f'Se llama {nombre} y  tiene {num:.2f} años') # 2f nos permite realizar operaciones\n",
    "\n",
    "# Podemos realizar Operaciones dentrod e las f strings\n",
    "\n",
    "print(f'Resultado de una operacion : {69*23}')\n"
   ]
  },
  {
   "cell_type": "markdown",
   "metadata": {},
   "source": [
    "# BackSlash"
   ]
  },
  {
   "cell_type": "code",
   "execution_count": 18,
   "metadata": {},
   "outputs": [
    {
     "name": "stdout",
     "output_type": "stream",
     "text": [
      "Mi pais favorito es \"Argentina\" porque somos campeones del mundo\n"
     ]
    }
   ],
   "source": [
    "escape = 'Mi pais favorito es \\\"Argentina\\\" porque somos campeones del mundo'\n",
    "print(escape)"
   ]
  },
  {
   "cell_type": "markdown",
   "metadata": {},
   "source": [
    "# Metodos más utilizados"
   ]
  },
  {
   "cell_type": "code",
   "execution_count": 5,
   "metadata": {},
   "outputs": [
    {
     "name": "stdout",
     "output_type": "stream",
     "text": [
      "0\n",
      "2\n",
      "Este Es Un Texto A Modificar\n",
      "¿Finaliza con \"modificar\"? : True\n",
      "¿Comienza con \"Este\"? : True\n",
      "Mayúsculas solamente la primera letra : Este es un texto a modificar\n"
     ]
    }
   ],
   "source": [
    "# Texto original\n",
    "texto = 'Este es un TEXTO a modificar'\n",
    "\n",
    "# Capitaliza solo la primera letra del texto\n",
    "capitalizado = texto.capitalize()\n",
    "\n",
    "# Verifica si el texto comienza con 'Este'\n",
    "estaComenzando = texto.startswith('Este')\n",
    "\n",
    "# Verifica si el texto termina con 'modificar'\n",
    "finalizaCon = texto.endswith('modificar')\n",
    "\n",
    "# Convierte el texto a título (primera letra de cada palabra en mayúscula)\n",
    "titulo = texto.title()\n",
    "\n",
    "# Cuenta cuántas veces aparece la letra 'e' en el texto\n",
    "contador = texto.count('e')\n",
    "\n",
    "# Nos devuelve el índice donde comienza la palabra\n",
    "encuentra = texto.find('Este')\n",
    "\n",
    "# Imprimir el resultado de las operaciones\n",
    "print(encuentra)\n",
    "print(contador)  # Muestra cuántas 'e' hay en el texto\n",
    "print(titulo)  # Muestra el texto con cada palabra capitalizada\n",
    "print(f'¿Finaliza con \"modificar\"? : {finalizaCon}')  # Indica si el texto termina con 'modificar'\n",
    "print(f'¿Comienza con \"Este\"? : {estaComenzando}')  # Indica si el texto comienza con 'Este'\n",
    "print(f'Mayúsculas solamente la primera letra : {capitalizado}')  # Muestra el texto con solo la primera letra en mayúscula\n"
   ]
  }
 ],
 "metadata": {
  "kernelspec": {
   "display_name": "Python 3",
   "language": "python",
   "name": "python3"
  },
  "language_info": {
   "codemirror_mode": {
    "name": "ipython",
    "version": 3
   },
   "file_extension": ".py",
   "mimetype": "text/x-python",
   "name": "python",
   "nbconvert_exporter": "python",
   "pygments_lexer": "ipython3",
   "version": "3.12.5"
  }
 },
 "nbformat": 4,
 "nbformat_minor": 2
}
