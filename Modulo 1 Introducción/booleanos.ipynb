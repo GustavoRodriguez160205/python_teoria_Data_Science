{
 "cells": [
  {
   "cell_type": "markdown",
   "metadata": {},
   "source": [
    "# Booleanos \n",
    "\n",
    "## Booleanos en Python\n",
    "\n",
    "En Python, los valores booleanos representan dos estados: `True` (verdadero) y `False` (falso). Se utilizan a menudo en condiciones y expresiones lógicas.\n",
    "\n",
    "### Creación de Booleanos\n",
    "\n",
    "Los booleanos se pueden crear de las siguientes maneras:\n",
    "\n",
    "- **Literal Booleano**: Usando las palabras clave `True` o `False`.\n",
    "\n",
    "    ```python\n",
    "    a = True\n",
    "    b = False\n",
    "    ```\n",
    "\n",
    "- **Resultado de Comparaciones**: Las operaciones de comparación devuelven un valor booleano.\n",
    "\n",
    "    ```python\n",
    "    x = 5\n",
    "    y = 10\n",
    "    resultado = x < y  # resultado es True\n",
    "    ```\n",
    "\n",
    "- **Funciones que devuelven Booleanos**: Algunas funciones integradas, como `bool()`, también devuelven valores booleanos.\n",
    "\n",
    "    ```python\n",
    "    valor = bool(0)  # valor es False\n",
    "    ```\n",
    "\n",
    "### Uso de Booleanos\n",
    "\n",
    "Los booleanos son comunes en estructuras de control, como `if` y bucles."
   ]
  },
  {
   "cell_type": "code",
   "execution_count": 1,
   "metadata": {},
   "outputs": [
    {
     "name": "stdout",
     "output_type": "stream",
     "text": [
      "Lista: True\n",
      "Número: True\n",
      "String: True\n",
      "Lista vacía: False\n",
      "String vacío: False\n",
      "Diccionario vacío: False\n"
     ]
    }
   ],
   "source": [
    "# Definición de valores booleanos\n",
    "a = True\n",
    "b = False\n",
    "\n",
    "# Ejemplos de estructuras que devuelven True si tienen contenido, y False si están vacías\n",
    "string = bool('No se olviden de subscribirse al canal')  # No vacío, True\n",
    "num = bool(2024)  # No vacío (número distinto de cero), True\n",
    "lista = bool(['Banana', 'Manzana'])  # Lista no vacía, True\n",
    "\n",
    "# Imprimir resultados de las estructuras que tienen contenido\n",
    "print(\"Lista:\", lista)  # Debería imprimir True\n",
    "print(\"Número:\", num)   # Debería imprimir True\n",
    "print(\"String:\", string)  # Debería imprimir True\n",
    "\n",
    "# Ejemplos de estructuras vacías que devuelven False\n",
    "string2 = bool(\"\")  # Cadena vacía, False\n",
    "lista1 = bool([])   # Lista vacía, False (corregido aquí)\n",
    "diccionario = bool({})  # Diccionario vacío, False\n",
    "\n",
    "# Imprimir resultados de las estructuras vacías\n",
    "print(\"Lista vacía:\", lista1)  # Debería imprimir False\n",
    "print(\"String vacío:\", string2)  # Debería imprimir False\n",
    "print(\"Diccionario vacío:\", diccionario)  # Debería imprimir False\n",
    "\n"
   ]
  }
 ],
 "metadata": {
  "kernelspec": {
   "display_name": "Python 3",
   "language": "python",
   "name": "python3"
  },
  "language_info": {
   "codemirror_mode": {
    "name": "ipython",
    "version": 3
   },
   "file_extension": ".py",
   "mimetype": "text/x-python",
   "name": "python",
   "nbconvert_exporter": "python",
   "pygments_lexer": "ipython3",
   "version": "3.12.5"
  }
 },
 "nbformat": 4,
 "nbformat_minor": 2
}
