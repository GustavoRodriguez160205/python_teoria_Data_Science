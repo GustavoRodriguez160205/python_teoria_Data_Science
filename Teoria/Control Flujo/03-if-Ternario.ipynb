{
 "cells": [
  {
   "cell_type": "markdown",
   "metadata": {},
   "source": [
    "## ¿Qué es el Operador Ternario?\n",
    "- Una forma de escribir una condición en una sola línea.\n",
    "- Simplifica el uso de `if` y `else`."
   ]
  },
  {
   "cell_type": "code",
   "execution_count": 2,
   "metadata": {},
   "outputs": [
    {
     "name": "stdout",
     "output_type": "stream",
     "text": [
      "Es menor\n"
     ]
    }
   ],
   "source": [
    "edad = 15\n",
    "\n",
    "mensaje = 'Es mayor' if edad > 17 else \"Es menor\"\n",
    "\n",
    "print(mensaje)"
   ]
  },
  {
   "cell_type": "markdown",
   "metadata": {},
   "source": [
    "### Otro ejemplo"
   ]
  },
  {
   "cell_type": "code",
   "execution_count": 3,
   "metadata": {},
   "outputs": [
    {
     "name": "stdout",
     "output_type": "stream",
     "text": [
      "El precio final es: 140\n"
     ]
    }
   ],
   "source": [
    "total_compra = 150\n",
    "descuento = 10 if total_compra > 100 else 0\n",
    "precio_final = total_compra - descuento\n",
    "\n",
    "print(\"El precio final es:\" , precio_final)"
   ]
  },
  {
   "cell_type": "markdown",
   "metadata": {},
   "source": [
    "### Ejemplo orientado a dataScience\n",
    "\n",
    "-  Identificación de outliers en un dataset\n",
    "\n",
    "Supongamos que tienes un dataset con datos numéricos y quieres identificar los valores atípicos (outliers) de una columna en particular. Puedes utilizar el operador ternario para crear una nueva columna que indique si cada valor es un outlier o no, basándote en un criterio de desviación estándar:\n",
    "\n"
   ]
  },
  {
   "cell_type": "code",
   "execution_count": 5,
   "metadata": {},
   "outputs": [
    {
     "name": "stdout",
     "output_type": "stream",
     "text": [
      "   valor outlier\n",
      "0      1      No\n",
      "1      2      No\n",
      "2      3      No\n",
      "3      4      No\n",
      "4      5      No\n",
      "5    100      Sí\n"
     ]
    }
   ],
   "source": [
    "import pandas as pd\n",
    "import numpy as np\n",
    "\n",
    "# Crear un DataFrame de ejemplo\n",
    "data = {'valor': [1, 2, 3, 4, 5, 100]}\n",
    "df = pd.DataFrame(data)\n",
    "\n",
    "# Calcular la media y la desviación estándar\n",
    "mean = df['valor'].mean()\n",
    "std = df['valor'].std()\n",
    "\n",
    "# Crear una nueva columna 'outlier' usando el operador ternario\n",
    "df['outlier'] = ['Sí' if abs(x - mean) > 2*std else 'No' for x in df['valor']]\n",
    "\n",
    "print(df)"
   ]
  },
  {
   "cell_type": "markdown",
   "metadata": {},
   "source": [
    "### Clasificación de equipos en una liga\n",
    "\n",
    "Imagina que tienes un DataFrame en Python que contiene información sobre los equipos de una liga de fútbol, incluyendo sus puntos. Puedes utilizar el operador ternario para clasificar a cada equipo como \"clasificado\" o \"eliminado\" según un determinado umbral de puntos:"
   ]
  },
  {
   "cell_type": "code",
   "execution_count": 9,
   "metadata": {},
   "outputs": [
    {
     "name": "stdout",
     "output_type": "stream",
     "text": [
      "        Equipo  puntos clasificado\n",
      "0  Real Madrid      90          Sí\n",
      "1    Barcelona      85          Sí\n",
      "2     Atletico      78          No\n",
      "3      Sevilla      75          No\n",
      "4     Valencia      68          No\n",
      "5   Real Betis      59          No\n"
     ]
    }
   ],
   "source": [
    "import pandas as pd\n",
    "\n",
    "# Crear un DataFrame de ejemplo\n",
    "data = {'Equipo': ['Real Madrid', 'Barcelona', 'Atletico', 'Sevilla', 'Valencia' , 'Real Betis'],\n",
    "        'puntos': [90, 85, 78, 75, 68 , 59]}\n",
    "df = pd.DataFrame(data)\n",
    "\n",
    "# Establecer el umbral de puntos para clasificarse\n",
    "umbral_puntos = 80\n",
    "\n",
    "# Crear una nueva columna 'clasificado' usando el operador ternario\n",
    "df['clasificado'] = ['Sí' if puntos >= umbral_puntos else 'No' for puntos in df['puntos']]\n",
    "\n",
    "print(df)"
   ]
  }
 ],
 "metadata": {
  "kernelspec": {
   "display_name": "Python 3",
   "language": "python",
   "name": "python3"
  },
  "language_info": {
   "codemirror_mode": {
    "name": "ipython",
    "version": 3
   },
   "file_extension": ".py",
   "mimetype": "text/x-python",
   "name": "python",
   "nbconvert_exporter": "python",
   "pygments_lexer": "ipython3",
   "version": "3.12.5"
  }
 },
 "nbformat": 4,
 "nbformat_minor": 2
}
