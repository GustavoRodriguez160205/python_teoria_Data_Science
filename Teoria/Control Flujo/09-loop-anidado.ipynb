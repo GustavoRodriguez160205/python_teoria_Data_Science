{
 "cells": [
  {
   "cell_type": "markdown",
   "metadata": {},
   "source": [
    "# Bucles Anidados en Python\n",
    "\n",
    "## 1. ¿Qué son los bucles anidados?\n",
    "   - Son bucles **dentro de otros bucles**.\n",
    "   - Permiten **ejecutar un bucle dentro de cada iteración de otro bucle**.\n",
    "\n",
    "## 2. Sintaxis Básica\n",
    "   - ```python\n",
    "     for i in range(outer_count):\n",
    "         for j in range(inner_count):\n",
    "             # Código a ejecutar dentro del bucle interno\n",
    "     ```\n",
    "   - **Bucle Externo**: Controla las iteraciones del bucle principal.\n",
    "   - **Bucle Interno**: Se ejecuta completo por cada iteración del bucle externo.\n",
    "\n",
    "## 3. Ejemplo de Bucle Anidado con `for`\n",
    "   - ```python\n",
    "     for i in range(3):       # Bucle Externo\n",
    "         for j in range(2):   # Bucle Interno\n",
    "             print(i, j)\n",
    "     ```\n",
    "\n",
    "## 4. Ejemplo de Bucle Anidado con `while`\n",
    "   - ```python\n",
    "     x = 0\n",
    "     while x < 3:             # Bucle Externo\n",
    "         y = 0\n",
    "         while y < 2:         # Bucle Interno\n",
    "             print(x, y)\n",
    "             y += 1\n",
    "         x += 1\n",
    "     ```\n",
    "\n",
    "## 5. Puntos Clave\n",
    "   - **Multiplicación de Iteraciones**: El bucle interno se ejecuta tantas veces como indicadas, multiplicando las iteraciones totales.\n",
    "   - **Evitar Complejidad Elevada**: Bucles anidados pueden volverse costosos en tiempo de ejecución.\n",
    "   - **Uso en Matrices o Tablas**: Muy útiles para trabajar con datos estructurados en filas y columnas.\n"
   ]
  },
  {
   "cell_type": "markdown",
   "metadata": {},
   "source": [
    "### Ejemplos"
   ]
  },
  {
   "cell_type": "code",
   "execution_count": 2,
   "metadata": {},
   "outputs": [
    {
     "name": "stdout",
     "output_type": "stream",
     "text": [
      "0 , 0\n",
      "0 , 1\n",
      "1 , 0\n",
      "1 , 1\n",
      "2 , 0\n",
      "2 , 1\n"
     ]
    }
   ],
   "source": [
    "for j in range(3):\n",
    "    for k in range(2):\n",
    "        print(f\"{j} , {k}\")"
   ]
  }
 ],
 "metadata": {
  "kernelspec": {
   "display_name": "Python 3",
   "language": "python",
   "name": "python3"
  },
  "language_info": {
   "codemirror_mode": {
    "name": "ipython",
    "version": 3
   },
   "file_extension": ".py",
   "mimetype": "text/x-python",
   "name": "python",
   "nbconvert_exporter": "python",
   "pygments_lexer": "ipython3",
   "version": "3.12.5"
  }
 },
 "nbformat": 4,
 "nbformat_minor": 2
}
