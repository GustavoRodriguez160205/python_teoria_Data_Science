{
 "cells": [
  {
   "cell_type": "markdown",
   "metadata": {},
   "source": [
    "# Operadores Lógicos en Python para Data Science\n",
    "\n",
    "## 1. Definición\n",
    "- Los **operadores lógicos** permiten combinar condiciones booleanas para tomar decisiones en el análisis de datos.\n",
    "\n",
    "## 2. Operadores Lógicos Principales\n",
    "- **`and` (`&` en `pandas`)**\n",
    "  - Retorna `True` si ambas condiciones son verdaderas.\n",
    "  - Uso en filtros de DataFrames.\n",
    "  \n",
    "- **`or` (`|` en `pandas`)**\n",
    "  - Retorna `True` si al menos una de las condiciones es verdadera.\n",
    "  - Uso en filtros de DataFrames.\n",
    "\n",
    "- **`not` (`~` en `pandas`)**\n",
    "  - Invierte el valor lógico de la condición.\n",
    "  - Uso en filtros de DataFrames.\n",
    "\n",
    "### 2.1. Notación en `pandas`\n",
    "- **`&`** para `and`\n",
    "- **`|`** para `or`\n",
    "- **`~`** para `not`\n",
    "- **Importante**: Las condiciones deben estar entre paréntesis.\n"
   ]
  },
  {
   "cell_type": "markdown",
   "metadata": {},
   "source": [
    "### Algunos Ejemplos"
   ]
  },
  {
   "cell_type": "code",
   "execution_count": 10,
   "metadata": {},
   "outputs": [
    {
     "name": "stdout",
     "output_type": "stream",
     "text": [
      "   nombre  edad  salario\n",
      "1    Luis    35    80000\n",
      "2  Carlos    45   120000\n",
      "4   Mario    32    75000\n"
     ]
    }
   ],
   "source": [
    "import pandas as pd\n",
    "\n",
    "# Dataset de ejemplo\n",
    "data = pd.DataFrame({\n",
    "    'nombre': ['Ana', 'Luis', 'Carlos', 'Sara', 'Mario'],\n",
    "    'edad': [28, 35, 45, 25, 32],\n",
    "    'salario': [50000, 80000, 120000, 45000, 75000]\n",
    "})\n",
    "\n",
    "# Filtrar empleados que tienen más de 30 años o ganan más de 70,000\n",
    "filtrado = data[(data['edad'] > 30) | (data['salario'] > 70000)]\n",
    "print(filtrado)\n"
   ]
  },
  {
   "cell_type": "markdown",
   "metadata": {},
   "source": [
    "### Filtrar empleados que no están en un departamento específico"
   ]
  },
  {
   "cell_type": "code",
   "execution_count": 11,
   "metadata": {},
   "outputs": [
    {
     "name": "stdout",
     "output_type": "stream",
     "text": [
      "  nombre      departamento  edad\n",
      "1   Luis         Marketing    35\n",
      "3   Sara  Recursos Humanos    25\n",
      "4  Mario                IT    32\n"
     ]
    }
   ],
   "source": [
    "import pandas as pd\n",
    "\n",
    "# Dataset de ejemplo\n",
    "data = pd.DataFrame({\n",
    "    'nombre': ['Ana', 'Luis', 'Carlos', 'Sara', 'Mario'],\n",
    "    'departamento': ['Ventas', 'Marketing', 'Ventas', 'Recursos Humanos', 'IT'],\n",
    "    'edad': [28, 35, 45, 25, 32]\n",
    "})\n",
    "\n",
    "# Filtrar empleados que NO están en el departamento de Ventas\n",
    "filtrado = data[~(data['departamento'] == 'Ventas')]\n",
    "print(filtrado)\n"
   ]
  },
  {
   "cell_type": "markdown",
   "metadata": {},
   "source": [
    "### Está preparado para ser entrenado?"
   ]
  },
  {
   "cell_type": "code",
   "execution_count": 21,
   "metadata": {},
   "outputs": [
    {
     "name": "stdout",
     "output_type": "stream",
     "text": [
      "El modelo puede ser entrenado\n"
     ]
    }
   ],
   "source": [
    "datos_cargados = True\n",
    "modelo_preparado = False\n",
    "nueva_entrada = 1500  # Supongamos que esto representa la cantidad de datos\n",
    "\n",
    "# Verificamos si los datos están cargados y si el modelo está preparado o si hay suficientes datos para entrenar\n",
    "if datos_cargados and (modelo_preparado or nueva_entrada > 1000):\n",
    "    print(\"El modelo puede ser entrenado\")\n",
    "else:\n",
    "    print(\"El modelo no está listo para el entrenamiento\")\n"
   ]
  },
  {
   "cell_type": "markdown",
   "metadata": {},
   "source": [
    "### Se puede realizar el analisis?"
   ]
  },
  {
   "cell_type": "code",
   "execution_count": 22,
   "metadata": {},
   "outputs": [
    {
     "name": "stdout",
     "output_type": "stream",
     "text": [
      "Se puede realizar el análisis exploratorio de datos (EDA)\n"
     ]
    }
   ],
   "source": [
    "datos_cargados = True  # Indica si los datos han sido cargados correctamente\n",
    "datos_suficientes = 50  # Cantidad mínima de registros necesarios para el EDA\n",
    "\n",
    "# Verificamos si los datos están cargados y si hay suficientes registros\n",
    "if datos_cargados and datos_suficientes >= 30:\n",
    "    print(\"Se puede realizar el análisis exploratorio de datos (EDA)\")\n",
    "else:\n",
    "    print(\"No se puede realizar el análisis exploratorio de datos (EDA)\")\n"
   ]
  }
 ],
 "metadata": {
  "kernelspec": {
   "display_name": "Python 3",
   "language": "python",
   "name": "python3"
  },
  "language_info": {
   "codemirror_mode": {
    "name": "ipython",
    "version": 3
   },
   "file_extension": ".py",
   "mimetype": "text/x-python",
   "name": "python",
   "nbconvert_exporter": "python",
   "pygments_lexer": "ipython3",
   "version": "3.12.5"
  }
 },
 "nbformat": 4,
 "nbformat_minor": 2
}
