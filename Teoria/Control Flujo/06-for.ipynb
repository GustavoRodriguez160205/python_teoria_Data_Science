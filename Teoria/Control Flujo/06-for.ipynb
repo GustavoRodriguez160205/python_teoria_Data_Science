{
 "cells": [
  {
   "cell_type": "markdown",
   "metadata": {},
   "source": [
    "# Bucle `for` en Python\n",
    "\n",
    "## 1. Estructura básica\n",
    "- `for elemento in iterable:`\n",
    "  - Ejecuta un bloque de código para cada `elemento` en el `iterable`.\n",
    "\n",
    "## 2. Iterables comunes\n",
    "- **Listas**: `for i in [1, 2, 3]:`\n",
    "- **Cadenas**: `for letra in \"Python\":`\n",
    "- **Tuplas**: `for item in (1, 2, 3):`\n",
    "- **Diccionarios**: `for clave, valor in diccionario.items():`\n",
    "- **Range**: `for i in range(inicio, fin, paso):`\n",
    "\n",
    "## 3. Palabras clave útiles\n",
    "- **`break`**: Termina el bucle antes de completarlo.\n",
    "- **`continue`**: Salta a la siguiente iteración.\n",
    "- **`else`**: Ejecuta si no se usó `break`.\n",
    "\n",
    "## 4. Ejemplos comunes\n",
    "- **Iterar sobre un rango**: `for i in range(5):`\n",
    "- **Iterar sobre lista**: `for item in lista:`\n",
    "- **Con índice y elemento**: `for idx, val in enumerate(lista):`\n"
   ]
  },
  {
   "cell_type": "markdown",
   "metadata": {},
   "source": [
    "### Ejemplos"
   ]
  },
  {
   "cell_type": "code",
   "execution_count": 1,
   "metadata": {},
   "outputs": [
    {
     "name": "stdout",
     "output_type": "stream",
     "text": [
      "Media de cada columna:\n",
      "Media de edad: 31.75\n",
      "Media de peso: 75.25\n",
      "Media de altura: 1.7625\n",
      "\n",
      "Data con 'peso_normalizado':\n",
      "   edad  peso  altura  peso_normalizado\n",
      "0    23    70    1.75          0.795455\n",
      "1    45    88    1.82          1.000000\n",
      "2    34    65    1.68          0.738636\n",
      "3    25    78    1.80          0.886364\n",
      "\n",
      "Data con 'mayor_de_edad':\n",
      "   edad  peso  altura  peso_normalizado mayor_de_edad\n",
      "0    23    70    1.75          0.795455            Sí\n",
      "1    45    88    1.82          1.000000            Sí\n",
      "2    34    65    1.68          0.738636            Sí\n",
      "3    25    78    1.80          0.886364            Sí\n",
      "\n",
      "Resultados de 5 experimentos de lanzamientos de dado:\n",
      "Experimento 1: [5 4 1 1 5 5 3 3 2 4]\n",
      "Experimento 2: [5 6 5 6 4 4 3 6 4 2]\n",
      "Experimento 3: [5 5 1 1 6 4 3 5 5 3]\n",
      "Experimento 4: [5 4 4 2 2 6 3 2 2 6]\n",
      "Experimento 5: [3 3 6 6 3 4 4 2 5 2]\n"
     ]
    }
   ],
   "source": [
    "import numpy as np\n",
    "import pandas as pd\n",
    "\n",
    "# Crear un DataFrame de ejemplo\n",
    "data = pd.DataFrame({\n",
    "    'edad': [23, 45, 34, 25],\n",
    "    'peso': [70, 88, 65, 78],\n",
    "    'altura': [1.75, 1.82, 1.68, 1.80]\n",
    "})\n",
    "\n",
    "# 1. Calcular la media de cada columna\n",
    "print(\"Media de cada columna:\")\n",
    "for columna in data.columns:\n",
    "    media = data[columna].mean()\n",
    "    print(f\"Media de {columna}: {media}\")\n",
    "\n",
    "# 2. Normalizar cada valor en la columna 'peso'\n",
    "data['peso_normalizado'] = [peso / data['peso'].max() for peso in data['peso']]\n",
    "print(\"\\nData con 'peso_normalizado':\")\n",
    "print(data)\n",
    "\n",
    "# 3. Clasificar si es mayor de edad y agregarlo como nueva columna\n",
    "data['mayor_de_edad'] = ['Sí' if edad >= 18 else 'No' for edad in data['edad']]\n",
    "print(\"\\nData con 'mayor_de_edad':\")\n",
    "print(data)\n",
    "\n",
    "# 4. Simular lanzamientos de un dado 10 veces en 5 experimentos\n",
    "resultados = [np.random.randint(1, 7, size=10) for _ in range(5)]\n",
    "print(\"\\nResultados de 5 experimentos de lanzamientos de dado:\")\n",
    "for i, resultado in enumerate(resultados, 1):\n",
    "    print(f\"Experimento {i}: {resultado}\")\n"
   ]
  },
  {
   "cell_type": "markdown",
   "metadata": {},
   "source": [
    "### Calculo de IMC en dataScience\n"
   ]
  },
  {
   "cell_type": "code",
   "execution_count": 2,
   "metadata": {},
   "outputs": [
    {
     "name": "stdout",
     "output_type": "stream",
     "text": [
      "Data escalada entre 0 y 1:\n",
      "       edad      peso    altura\n",
      "0  0.000000  0.217391  0.500000\n",
      "1  1.000000  1.000000  1.000000\n",
      "2  0.500000  0.000000  0.000000\n",
      "3  0.090909  0.565217  0.857143\n",
      "\n",
      "Data con IMC calculado:\n",
      "   edad  peso  altura        IMC\n",
      "0    23    70    1.75  22.857143\n",
      "1    45    88    1.82  26.566840\n",
      "2    34    65    1.68  23.030045\n",
      "3    25    78    1.80  24.074074\n",
      "\n",
      "Conteo de valores por encima de la media en cada columna:\n",
      "edad: 2 valores por encima de la media\n",
      "peso: 2 valores por encima de la media\n",
      "altura: 2 valores por encima de la media\n",
      "\n",
      "Arrays generados y sus estadísticas:\n",
      "Array 1: [10.65089646 10.90453853  9.71272099 11.17311498  8.8373533 ]\n",
      "  Media: 10.26\n",
      "  Desviación estándar: 0.86\n",
      "Array 2: [11.31160186  7.65658577 11.62295454 11.25870048  9.21449587]\n",
      "  Media: 10.21\n",
      "  Desviación estándar: 1.54\n",
      "Array 3: [10.41714452 11.31161024 12.75085792  6.42044008  9.51276234]\n",
      "  Media: 10.08\n",
      "  Desviación estándar: 2.12\n"
     ]
    }
   ],
   "source": [
    "import numpy as np\n",
    "import pandas as pd\n",
    "\n",
    "# Crear un DataFrame de ejemplo\n",
    "data = pd.DataFrame({\n",
    "    'edad': [23, 45, 34, 25],\n",
    "    'peso': [70, 88, 65, 78],\n",
    "    'altura': [1.75, 1.82, 1.68, 1.80]\n",
    "})\n",
    "\n",
    "# 1. Escalar los datos (min-max scaling) en cada columna\n",
    "print(\"Data escalada entre 0 y 1:\")\n",
    "data_scaled = data.copy()\n",
    "for columna in data.columns:\n",
    "    min_val = data[columna].min()\n",
    "    max_val = data[columna].max()\n",
    "    data_scaled[columna] = [(valor - min_val) / (max_val - min_val) for valor in data[columna]]\n",
    "print(data_scaled)\n",
    "\n",
    "# 2. Generar una nueva columna calculando el IMC de cada fila (IMC = peso / altura^2)\n",
    "data['IMC'] = [peso / altura**2 for peso, altura in zip(data['peso'], data['altura'])]\n",
    "print(\"\\nData con IMC calculado:\")\n",
    "print(data)\n",
    "\n",
    "# 3. Contar cuántos valores en cada columna están por encima de la media\n",
    "print(\"\\nConteo de valores por encima de la media en cada columna:\")\n",
    "for columna in data.columns[:-1]:  # Ignora la columna 'IMC' en este caso\n",
    "    media = data[columna].mean()\n",
    "    conteo = sum(1 for valor in data[columna] if valor > media)\n",
    "    print(f\"{columna}: {conteo} valores por encima de la media\")\n",
    "\n",
    "# 4. Crear múltiples arrays con numpy y calcular estadísticas\n",
    "arrays = [np.random.normal(loc=10, scale=2, size=5) for _ in range(3)]\n",
    "print(\"\\nArrays generados y sus estadísticas:\")\n",
    "for i, array in enumerate(arrays, 1):\n",
    "    print(f\"Array {i}: {array}\")\n",
    "    print(f\"  Media: {array.mean():.2f}\")\n",
    "    print(f\"  Desviación estándar: {array.std():.2f}\")\n"
   ]
  }
 ],
 "metadata": {
  "kernelspec": {
   "display_name": "Python 3",
   "language": "python",
   "name": "python3"
  },
  "language_info": {
   "codemirror_mode": {
    "name": "ipython",
    "version": 3
   },
   "file_extension": ".py",
   "mimetype": "text/x-python",
   "name": "python",
   "nbconvert_exporter": "python",
   "pygments_lexer": "ipython3",
   "version": "3.12.5"
  }
 },
 "nbformat": 4,
 "nbformat_minor": 2
}
