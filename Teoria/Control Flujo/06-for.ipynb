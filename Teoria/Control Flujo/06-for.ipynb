{
 "cells": [
  {
   "cell_type": "markdown",
   "metadata": {},
   "source": [
    "#  Bucle `for` en Python\n",
    "\n",
    "## 1. ¿Qué es el bucle `for`?\n",
    "   - El bucle `for` permite ejecutar un bloque de código repetidamente para cada elemento de una secuencia.\n",
    "   - Recibe una **secuencia** (lista, cadena, tupla, rango, etc.) y recorre sus elementos uno a uno.\n",
    "\n",
    "## 2. Sintaxis Básica\n",
    "   ```python\n",
    "   for variable in secuencia:\n",
    "       # Código a ejecutar en cada iteración\n"
   ]
  },
  {
   "cell_type": "markdown",
   "metadata": {},
   "source": [
    "### Ejemplos"
   ]
  },
  {
   "cell_type": "code",
   "execution_count": 9,
   "metadata": {},
   "outputs": [
    {
     "name": "stdout",
     "output_type": "stream",
     "text": [
      "0\n",
      "1\n",
      "2\n",
      "3\n",
      "4\n",
      "No se encontro el número buscado: 10\n"
     ]
    }
   ],
   "source": [
    "buscar = 10\n",
    "for numero in range(5):\n",
    "    print(numero)\n",
    "    if numero == buscar:\n",
    "        print(\"Encontrado:\", buscar)\n",
    "        break\n",
    "else:\n",
    "    print(\"No se encontro el número buscado:\" , buscar)\n"
   ]
  }
 ],
 "metadata": {
  "kernelspec": {
   "display_name": "Python 3",
   "language": "python",
   "name": "python3"
  },
  "language_info": {
   "codemirror_mode": {
    "name": "ipython",
    "version": 3
   },
   "file_extension": ".py",
   "mimetype": "text/x-python",
   "name": "python",
   "nbconvert_exporter": "python",
   "pygments_lexer": "ipython3",
   "version": "3.12.5"
  }
 },
 "nbformat": 4,
 "nbformat_minor": 2
}
