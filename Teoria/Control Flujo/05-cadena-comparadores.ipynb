{
 "cells": [
  {
   "cell_type": "markdown",
   "metadata": {},
   "source": [
    "# Cadena de Comparadores en Python\n",
    "\n",
    "## Definición\n",
    "- Permite encadenar múltiples comparaciones en una expresión.\n",
    "- Evalúa todas las comparaciones de izquierda a derecha.\n",
    "\n",
    "## Sintaxis\n",
    "- Formato: `a < b < c`\n",
    "  - Se interpreta como: **\"a es menor que b y b es menor que c\"**.\n",
    "\n"
   ]
  },
  {
   "cell_type": "markdown",
   "metadata": {},
   "source": [
    "### Ejemplos\n",
    "\n"
   ]
  },
  {
   "cell_type": "markdown",
   "metadata": {},
   "source": [
    "### Puede entrar a la Piscina?"
   ]
  },
  {
   "cell_type": "code",
   "execution_count": 6,
   "metadata": {},
   "outputs": [
    {
     "name": "stdout",
     "output_type": "stream",
     "text": [
      "Puedes entrar a la piscina\n"
     ]
    }
   ],
   "source": [
    "edad = 16\n",
    "\n",
    "if 15 <= edad <= 65:\n",
    "    print(\"Puedes entrar a la piscina\")\n",
    "elif 80 <= edad <= 90:\n",
    "    print(\"No puedes entrar\")\n",
    "else:\n",
    "    print(\"Tu edad no está en el rango permitido\")\n",
    "\n"
   ]
  },
  {
   "cell_type": "markdown",
   "metadata": {},
   "source": [
    "### Ejemplo orientado a DataScience\n"
   ]
  },
  {
   "cell_type": "code",
   "execution_count": 7,
   "metadata": {},
   "outputs": [
    {
     "name": "stdout",
     "output_type": "stream",
     "text": [
      "El modelo es moderadamente efectivo y tiene suficiente datos.\n"
     ]
    }
   ],
   "source": [
    "precision = 0.85  # Precisión del modelo (entre 0 y 1)\n",
    "tamano_datos = 1500  # Cantidad de datos utilizados para entrenar el modelo\n",
    "\n",
    "if precision >= 0.9:\n",
    "    if tamano_datos >= 1000:\n",
    "        print(\"El modelo es altamente efectivo y tiene suficiente datos.\")\n",
    "    else:\n",
    "        print(\"El modelo es altamente efectivo, pero necesita más datos.\")\n",
    "elif 0.7 <= precision < 0.9:\n",
    "    if tamano_datos >= 1000:\n",
    "        print(\"El modelo es moderadamente efectivo y tiene suficiente datos.\")\n",
    "    else:\n",
    "        print(\"El modelo es moderadamente efectivo, pero necesita más datos.\")\n",
    "else:\n",
    "    if tamano_datos >= 1000:\n",
    "        print(\"El modelo es poco efectivo, pero tiene suficiente datos.\")\n",
    "    else:\n",
    "        print(\"El modelo es poco efectivo y necesita más datos.\")\n"
   ]
  }
 ],
 "metadata": {
  "kernelspec": {
   "display_name": "Python 3",
   "language": "python",
   "name": "python3"
  },
  "language_info": {
   "codemirror_mode": {
    "name": "ipython",
    "version": 3
   },
   "file_extension": ".py",
   "mimetype": "text/x-python",
   "name": "python",
   "nbconvert_exporter": "python",
   "pygments_lexer": "ipython3",
   "version": "3.12.5"
  }
 },
 "nbformat": 4,
 "nbformat_minor": 2
}
