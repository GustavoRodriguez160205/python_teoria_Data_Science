{
 "cells": [
  {
   "cell_type": "markdown",
   "metadata": {},
   "source": [
    "\n",
    "\n",
    "## Comparadores Lógicos\n",
    "\n",
    "### 1. Igualdad\n",
    "- `==`\n",
    "  - Compara si dos valores son iguales.\n",
    "  - Ejemplo: `a == b`\n",
    "\n",
    "### 2. Desigualdad\n",
    "- `!=`\n",
    "  - Compara si dos valores son diferentes.\n",
    "  - Ejemplo: `a != b`\n",
    "\n",
    "### 3. Mayor que\n",
    "- `>`\n",
    "  - Comprueba si el valor de la izquierda es mayor que el de la derecha.\n",
    "  - Ejemplo: `a > b`\n",
    "\n",
    "### 4. Menor que\n",
    "- `<`\n",
    "  - Comprueba si el valor de la izquierda es menor que el de la derecha.\n",
    "  - Ejemplo: `a < b`\n",
    "\n",
    "### 5. Mayor o igual que\n",
    "- `>=`\n",
    "  - Comprueba si el valor de la izquierda es mayor o igual al de la derecha.\n",
    "  - Ejemplo: `a >= b`\n",
    "\n",
    "### 6. Menor o igual que\n",
    "- `<=`\n",
    "  - Comprueba si el valor de la izquierda es menor o igual al de la derecha.\n",
    "  - Ejemplo: `a <= b`"
   ]
  },
  {
   "cell_type": "code",
   "execution_count": 11,
   "metadata": {},
   "outputs": [
    {
     "name": "stdout",
     "output_type": "stream",
     "text": [
      "1 > 0: True\n",
      "1 < 2: True\n",
      "1 >= 2: False\n",
      "2 <= 2: True\n",
      "2 == 2: True\n",
      "2 == '3': False\n",
      "2 != 3: True\n"
     ]
    }
   ],
   "source": [
    "\n",
    "# Verifica si 1 es mayor que 0\n",
    "resultado_1_mayor_que_0 = 1 > 0  \n",
    "print(\"1 > 0:\", resultado_1_mayor_que_0)  \n",
    "\n",
    "# Verifica si 1 es menor que 2\n",
    "resultado_1_menor_que_2 = 1 < 2  \n",
    "print(\"1 < 2:\", resultado_1_menor_que_2) \n",
    "\n",
    "# Verifica si 1 es mayor o igual que 2\n",
    "resultado_1_mayor_o_igual_que_2 = 1 >= 2  \n",
    "print(\"1 >= 2:\", resultado_1_mayor_o_igual_que_2)  \n",
    "\n",
    "# Verifica si 2 es menor o igual que 2\n",
    "resultado_2_menor_o_igual_que_2 = 2 <= 2  \n",
    "print(\"2 <= 2:\", resultado_2_menor_o_igual_que_2)  \n",
    "\n",
    "# Verifica si 2 es igual a 2\n",
    "resultado_2_igual_a_2 = 2 == 2  \n",
    "print(\"2 == 2:\", resultado_2_igual_a_2)  \n",
    "\n",
    "# Verifica si 2 es igual a la cadena \"3\"\n",
    "resultado_2_igual_a_cadena_3 = 2 == \"3\"  \n",
    "print(\"2 == '3':\", resultado_2_igual_a_cadena_3)  \n",
    "\n",
    "# Verifica si 2 no es igual a 3\n",
    "resultado_2_diferente_de_3 = 2 != 3  \n",
    "print(\"2 != 3:\", resultado_2_diferente_de_3)  \n",
    "\n"
   ]
  }
 ],
 "metadata": {
  "kernelspec": {
   "display_name": "Python 3",
   "language": "python",
   "name": "python3"
  },
  "language_info": {
   "codemirror_mode": {
    "name": "ipython",
    "version": 3
   },
   "file_extension": ".py",
   "mimetype": "text/x-python",
   "name": "python",
   "nbconvert_exporter": "python",
   "pygments_lexer": "ipython3",
   "version": "3.12.5"
  }
 },
 "nbformat": 4,
 "nbformat_minor": 2
}
