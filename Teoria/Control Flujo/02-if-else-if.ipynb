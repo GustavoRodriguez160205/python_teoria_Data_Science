{
 "cells": [
  {
   "cell_type": "markdown",
   "metadata": {},
   "source": [
    "# Estructuras Condicionales en Python\n",
    "\n",
    "## 1. **if**\n",
    "   - Evalúa una condición.\n",
    "   - Si la condición es **True**, ejecuta el bloque de código asociado.\n",
    "   - Ejemplo:\n",
    "     ```python\n",
    "     if condition:\n",
    "         # código a ejecutar si la condición es verdadera\n",
    "     ```\n",
    "\n",
    "## 2. **else**\n",
    "   - Se usa junto con `if`.\n",
    "   - Se ejecuta si la condición del `if` es **False**.\n",
    "   - Ejemplo:\n",
    "     ```python\n",
    "     if condition:\n",
    "         # código si es verdadero\n",
    "     else:\n",
    "         # código si es falso\n",
    "     ```\n",
    "\n",
    "## 3. **elif**\n",
    "   - Abreviatura de \"else if\".\n",
    "   - Permite comprobar múltiples condiciones.\n",
    "   - Se ejecuta si la condición del `if` es **False** y la condición de `elif` es **True**.\n",
    "   - Puede haber múltiples `elif`.\n",
    "   - Ejemplo:\n",
    "     ```python\n",
    "     if condition1:\n",
    "         # código si condition1 es verdadero\n",
    "     elif condition2:\n",
    "         # código si condition2 es verdadero\n",
    "     else:\n",
    "         # código si ninguna condición es verdadera\n",
    "     ```\n",
    "\n",
    "## 4. **Estructura General**\n",
    "```python\n",
    "if condition1:\n",
    "    # Código para condition1\n",
    "elif condition2:\n",
    "    # Código para condition2\n",
    "else:\n",
    "    # Código si ninguna condición es verdadera\n"
   ]
  },
  {
   "cell_type": "markdown",
   "metadata": {},
   "source": [
    "### Un caso practico"
   ]
  },
  {
   "cell_type": "code",
   "execution_count": 10,
   "metadata": {},
   "outputs": [
    {
     "name": "stdout",
     "output_type": "stream",
     "text": [
      "Listo\n"
     ]
    }
   ],
   "source": [
    "edad = 15\n",
    "\n",
    "if edad > 17:\n",
    "    print(\"Puedes ver la película\")\n",
    "elif edad > 54:\n",
    "    print(\"Puedes ver la película con descuento\")\n",
    "\n",
    "\n",
    "print(\"Listo\")"
   ]
  }
 ],
 "metadata": {
  "kernelspec": {
   "display_name": "Python 3",
   "language": "python",
   "name": "python3"
  },
  "language_info": {
   "codemirror_mode": {
    "name": "ipython",
    "version": 3
   },
   "file_extension": ".py",
   "mimetype": "text/x-python",
   "name": "python",
   "nbconvert_exporter": "python",
   "pygments_lexer": "ipython3",
   "version": "3.12.5"
  }
 },
 "nbformat": 4,
 "nbformat_minor": 2
}
