{
 "cells": [
  {
   "cell_type": "markdown",
   "metadata": {},
   "source": [
    "## Bucle While"
   ]
  },
  {
   "cell_type": "code",
   "execution_count": null,
   "metadata": {},
   "outputs": [
    {
     "name": "stdout",
     "output_type": "stream",
     "text": [
      "pedro\n",
      "lucas\n",
      "luis\n",
      "Saliendo del programa...\n"
     ]
    }
   ],
   "source": [
    "while True:\n",
    "    comando = input(\"$ \").strip()\n",
    "    if comando.lower() == \"salir\":\n",
    "        print(\"Saliendo del programa...\")\n",
    "        break\n",
    "    print(comando)\n",
    "\n"
   ]
  },
  {
   "cell_type": "code",
   "execution_count": 3,
   "metadata": {},
   "outputs": [
    {
     "name": "stdout",
     "output_type": "stream",
     "text": [
      "10\n",
      "20\n",
      "40\n",
      "80\n"
     ]
    }
   ],
   "source": [
    "numero = 10\n",
    "while numero < 100:\n",
    "    print(numero)\n",
    "    numero *= 2\n"
   ]
  }
 ],
 "metadata": {
  "kernelspec": {
   "display_name": "Python 3",
   "language": "python",
   "name": "python3"
  },
  "language_info": {
   "codemirror_mode": {
    "name": "ipython",
    "version": 3
   },
   "file_extension": ".py",
   "mimetype": "text/x-python",
   "name": "python",
   "nbconvert_exporter": "python",
   "pygments_lexer": "ipython3",
   "version": "3.12.5"
  }
 },
 "nbformat": 4,
 "nbformat_minor": 2
}
