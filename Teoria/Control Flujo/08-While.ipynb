{
 "cells": [
  {
   "cell_type": "markdown",
   "metadata": {},
   "source": [
    "# Bucle `while` en Python\n",
    "\n",
    "## 1. ¿Qué es un bucle `while`?\n",
    "   - Es una estructura de control de flujo que permite ejecutar un bloque de código repetidamente mientras una condición sea verdadera.\n",
    "   - Ideal para cuando **no sabemos cuántas veces** necesitamos ejecutar el bloque, solo que debemos hacerlo **hasta que se cumpla cierta condición**.\n",
    "\n",
    "## 2. Sintaxis\n",
    "   - ```python\n",
    "     while condición:\n",
    "         # Código a ejecutar mientras la condición sea True\n",
    "     ```\n",
    "   - **Condición**: debe ser una expresión que se evalúe como `True` o `False`.\n",
    "\n",
    "## 3. Componentes del Bucle `while`\n",
    "   - **Condición**: Se evalúa al inicio de cada iteración. Si es `True`, se ejecuta el bloque; si es `False`, el bucle termina.\n",
    "   - **Cuerpo del Bucle**: Código que se ejecuta en cada iteración mientras la condición sea `True`.\n",
    "   - **Actualización**: Normalmente, el bucle debe incluir una manera de **cambiar la condición** para que en algún momento sea `False`, evitando un bucle infinito.\n",
    "\n",
    "## 4. Ejemplo Básico\n",
    "   - ```python\n",
    "     contador = 0\n",
    "     while contador < 5:\n",
    "         print(contador)\n",
    "         contador += 1\n",
    "     ```\n",
    "\n",
    "## 5. Puntos Clave\n",
    "   - **Evitar Bucles Infinitos**: Asegurarse de que la condición eventualmente se haga `False`.\n",
    "   - **Uso de `break` y `continue`**:\n",
    "      - `break`: Rompe el bucle.\n",
    "      - `continue`: Salta a la siguiente iteración sin ejecutar el resto del bloque.\n",
    "   - **Ideal para**: bucles dependientes de una condición que no sabemos cuántas veces se repetirá.\n"
   ]
  },
  {
   "cell_type": "code",
   "execution_count": 1,
   "metadata": {},
   "outputs": [
    {
     "name": "stdout",
     "output_type": "stream",
     "text": [
      "Messi\n",
      "Ronaldo\n",
      "Pele\n",
      "Kaka\n",
      "Saliendo del programa...\n"
     ]
    }
   ],
   "source": [
    "while True:\n",
    "    comando = input(\"$ \").strip()\n",
    "    if comando.lower() == \"salir\":\n",
    "        print(\"Saliendo del programa...\")\n",
    "        break\n",
    "    print(comando)\n",
    "\n"
   ]
  },
  {
   "cell_type": "code",
   "execution_count": 3,
   "metadata": {},
   "outputs": [],
   "source": [
    "numero = int(input(\"Por favor Ingresa un número menor que 100\"))\n",
    "while numero < 100:\n",
    "    print(numero)\n",
    "    numero *= 2\n"
   ]
  }
 ],
 "metadata": {
  "kernelspec": {
   "display_name": "Python 3",
   "language": "python",
   "name": "python3"
  },
  "language_info": {
   "codemirror_mode": {
    "name": "ipython",
    "version": 3
   },
   "file_extension": ".py",
   "mimetype": "text/x-python",
   "name": "python",
   "nbconvert_exporter": "python",
   "pygments_lexer": "ipython3",
   "version": "3.12.5"
  }
 },
 "nbformat": 4,
 "nbformat_minor": 2
}
