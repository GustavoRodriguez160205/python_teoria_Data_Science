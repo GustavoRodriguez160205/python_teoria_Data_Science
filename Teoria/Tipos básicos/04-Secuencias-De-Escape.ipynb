{
 "cells": [
  {
   "cell_type": "markdown",
   "metadata": {},
   "source": [
    "# Secuencias de Escape en Python\n",
    "\n",
    "## 1. Manejo de Comillas\n",
    "- **\\\\'** - Comilla Simple\n",
    "  - Permite incluir comillas simples en una cadena entre comillas simples.\n",
    "  - Ejemplo: `print('I\\'m learning Python')`\n",
    "\n",
    "- **\\\\\"** - Comilla Doble\n",
    "  - Permite incluir comillas dobles en una cadena entre comillas dobles.\n",
    "  - Ejemplo: `print(\"Dijo \\\"Hola\\\"\")`\n",
    "\n",
    "- **\\\\\\\\** - Barra Invertida Literal\n",
    "  - Representa una barra invertida (`\\`) literal.\n",
    "  - Ejemplo: `print(\"Ruta: C:\\\\Users\\\\Nombre\")`\n",
    "\n",
    "\n",
    "## 2. Espacio y Salto de Línea\n",
    "- **\\\\n** - Nueva Línea\n",
    "  - Inserta un salto de línea en la cadena.\n",
    "  - Ejemplo: `print(\"Primera línea\\nSegunda línea\")`\n",
    "\n",
    "- **\\\\t** - Tabulación Horizontal\n",
    "  - Inserta un espacio de tabulación.\n",
    "  - Ejemplo: `print(\"Nombre:\\tJuan\")`\n",
    "\n",
    "- **\\\\r** - Retorno de Carro\n",
    "  - Lleva el cursor al inicio de la línea actual.\n",
    "  - Ejemplo: `print(\"12345\\rABC\")` → Muestra \"ABC45\"\n",
    "\n",
    "\n",
    "## 3. Caracteres Especiales\n",
    "- **\\\\b** - Retroceso\n",
    "  - Elimina el último carácter.\n",
    "  - Ejemplo: `print(\"Error\\b Correcto\")`\n",
    "\n",
    "- **\\\\f** - Avance de Página\n",
    "  - Mueve el cursor a la siguiente página (útil en texto impreso).\n",
    "  - Ejemplo: `print(\"Página 1\\fPágina 2\")`\n",
    "\n",
    "- **\\\\a** - Campana\n",
    "  - Emite un sonido de alerta, si está disponible en el sistema.\n",
    "  - Ejemplo: `print(\"\\a\")`\n",
    "\n"
   ]
  },
  {
   "cell_type": "markdown",
   "metadata": {},
   "source": [
    "### Ejemplos de manejo de Comillas\n",
    "\n",
    "-  Comillas Simples"
   ]
  },
  {
   "cell_type": "code",
   "execution_count": 4,
   "metadata": {},
   "outputs": [
    {
     "name": "stdout",
     "output_type": "stream",
     "text": [
      "I'm learning Python\n"
     ]
    }
   ],
   "source": [
    "print('I\\'m learning Python')"
   ]
  },
  {
   "cell_type": "markdown",
   "metadata": {},
   "source": [
    "- Comillas dentro de comillas dobles"
   ]
  },
  {
   "cell_type": "code",
   "execution_count": 5,
   "metadata": {},
   "outputs": [
    {
     "name": "stdout",
     "output_type": "stream",
     "text": [
      "Dijo \"Hola\"\n"
     ]
    }
   ],
   "source": [
    "print(\"Dijo \\\"Hola\\\"\")"
   ]
  },
  {
   "cell_type": "markdown",
   "metadata": {},
   "source": [
    "- Incluyendo una barra invertida "
   ]
  },
  {
   "cell_type": "code",
   "execution_count": 6,
   "metadata": {},
   "outputs": [
    {
     "name": "stdout",
     "output_type": "stream",
     "text": [
      "Ruta: C:\\Users\\Nombre\n"
     ]
    }
   ],
   "source": [
    "print(\"Ruta: C:\\\\Users\\\\Nombre\")\n"
   ]
  },
  {
   "cell_type": "markdown",
   "metadata": {},
   "source": [
    "### Ejemplos de espacios y salto de línea"
   ]
  },
  {
   "cell_type": "markdown",
   "metadata": {},
   "source": [
    "- Insertamos un salto de linea"
   ]
  },
  {
   "cell_type": "code",
   "execution_count": 7,
   "metadata": {},
   "outputs": [
    {
     "name": "stdout",
     "output_type": "stream",
     "text": [
      "Primera línea\n",
      "Segunda línea\n"
     ]
    }
   ],
   "source": [
    "print(\"Primera línea\\nSegunda línea\")  "
   ]
  },
  {
   "cell_type": "markdown",
   "metadata": {},
   "source": [
    "- Insertamos una tabulación"
   ]
  },
  {
   "cell_type": "code",
   "execution_count": 8,
   "metadata": {},
   "outputs": [
    {
     "name": "stdout",
     "output_type": "stream",
     "text": [
      "Nombre:\tJuan\n"
     ]
    }
   ],
   "source": [
    "print(\"Nombre:\\tJuan\") "
   ]
  },
  {
   "cell_type": "markdown",
   "metadata": {},
   "source": [
    "- Uso de retorno"
   ]
  },
  {
   "cell_type": "code",
   "execution_count": 9,
   "metadata": {},
   "outputs": [
    {
     "name": "stdout",
     "output_type": "stream",
     "text": [
      "ABC45\n"
     ]
    }
   ],
   "source": [
    "print(\"12345\\rABC\")"
   ]
  }
 ],
 "metadata": {
  "kernelspec": {
   "display_name": "Python 3",
   "language": "python",
   "name": "python3"
  },
  "language_info": {
   "codemirror_mode": {
    "name": "ipython",
    "version": 3
   },
   "file_extension": ".py",
   "mimetype": "text/x-python",
   "name": "python",
   "nbconvert_exporter": "python",
   "pygments_lexer": "ipython3",
   "version": "3.12.5"
  }
 },
 "nbformat": 4,
 "nbformat_minor": 2
}
