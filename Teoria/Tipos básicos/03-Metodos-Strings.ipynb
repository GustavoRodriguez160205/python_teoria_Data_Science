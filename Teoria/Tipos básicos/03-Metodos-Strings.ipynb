{
 "cells": [
  {
   "cell_type": "markdown",
   "metadata": {},
   "source": [
    "# Métodos de Strings \n",
    "\n",
    "## 1. Métodos de Modificación\n",
    "- **`.lower()`**: Convierte todos los caracteres a minúsculas.\n",
    "- **`.upper()`**: Convierte todos los caracteres a mayúsculas.\n",
    "- **`.capitalize()`**: Convierte el primer carácter a mayúscula.\n",
    "- **`.title()`**: Convierte el primer carácter de cada palabra a mayúscula.\n",
    "- **`.strip()`**: Elimina espacios en blanco al principio y al final.\n",
    "- **`.lstrip()`**: Elimina espacios en blanco al principio.\n",
    "- **`.rstrip()`**: Elimina espacios en blanco al final.\n",
    "\n",
    "## 2. Métodos de Búsqueda\n",
    "- **`.find(sub)`**: Devuelve el índice de la primera aparición de `sub`; -1 si no se encuentra.\n",
    "- **`.rfind(sub)`**: Devuelve el índice de la última aparición de `sub`; -1 si no se encuentra.\n",
    "- **`.index(sub)`**: Similar a `find()`, pero lanza un error si no se encuentra.\n",
    "- **`.rindex(sub)`**: Similar a `rfind()`, pero lanza un error si no se encuentra.\n",
    "- **`.count(sub)`**: Cuenta cuántas veces aparece `sub`.\n",
    "\n",
    "## 3. Métodos de Reemplazo\n",
    "- **`.replace(old, new)`**: Reemplaza todas las apariciones de `old` por `new`.\n",
    "\n",
    "## 4. Métodos de División y Unión\n",
    "- **`.split(sep)`**: Divide la cadena en una lista utilizando `sep` como separador.\n",
    "- **`.rsplit(sep)`**: Divide la cadena desde el final utilizando `sep` como separador.\n",
    "- **`.join(iterable)`**: Une los elementos de `iterable` en una cadena, separados por la cadena en la que se llama.\n",
    "\n",
    "## 5. Métodos de Formato\n",
    "- **`.format(*args, **kwargs)`**: Formatea la cadena utilizando los argumentos proporcionados.\n",
    "- **`f\"{variable}\"`**: Formato de cadena f (f-string) para incrustar expresiones.\n",
    "\n",
    "## 6. Métodos de Comprobación\n",
    "- **`.startswith(prefix)`**: Devuelve `True` si la cadena comienza con `prefix`.\n",
    "- **`.endswith(suffix)`**: Devuelve `True` si la cadena termina con `suffix`.\n",
    "- **`.isalnum()`**: Devuelve `True` si todos los caracteres son alfanuméricos.\n",
    "- **`.isalpha()`**: Devuelve `True` si todos los caracteres son alfabéticos.\n",
    "- **`.isdigit()`**: Devuelve `True` si todos los caracteres son dígitos.\n",
    "- **`.isspace()`**: Devuelve `True` si todos los caracteres son espacios en blanco.\n",
    "\n",
    "## 7. Otros Métodos\n",
    "- **`.swapcase()`**: Cambia mayúsculas por minúsculas y viceversa.\n",
    "- **`.title()`**: Convierte la primera letra de cada palabra a mayúscula.\n",
    "- **`.zfill(width)`**: Rellena con ceros a la izquierda hasta alcanzar el ancho especificado.\n",
    "\n",
    "## 8. Concatenación de Métodos\n",
    "- Se pueden concatenar métodos de cadenas para realizar operaciones múltiples en una sola línea. \n",
    "- Ejemplo:\n",
    "  ```python\n",
    "  resultado = \"   Hola Mundo!   \".strip().upper().replace(\"MUNDO\", \"PYTHON\")\n",
    "\n",
    "\n",
    "\n"
   ]
  },
  {
   "cell_type": "markdown",
   "metadata": {},
   "source": [
    "## Ejemplos de metódos de modificación"
   ]
  },
  {
   "cell_type": "code",
   "execution_count": null,
   "metadata": {},
   "outputs": [
    {
     "name": "stdout",
     "output_type": "stream",
     "text": [
      "El texto en minúsculas  queda asi:    chanchito feliz  \n",
      "El texto en mayúsculas queda asi:    CHANCHITO FELIZ  \n",
      "El primer caracter en mayúsculas queda asi:    chanchito feliz  \n",
      "Pone los primeros carácteres en mayúsculas:    Chanchito Feliz  \n",
      "El texto sin espacios queda asi: chanchito feliz\n",
      "Sacamos el espacio de la izquierda: chanchito feliz  \n",
      "Sacamos el espacio de la derecha:    chanchito feliz\n",
      "Buscamos una cadena de caracteres: 3\n"
     ]
    }
   ],
   "source": [
    "animal = '   chanchito feliz  '\n",
    "\n",
    "print('El texto en minúsculas  queda asi:' , animal.lower())\n",
    "print('El texto en mayúsculas queda asi:' , animal.upper())\n",
    "print('El primer caracter en mayúsculas queda asi:' , animal.capitalize())\n",
    "print('Pone los primeros carácteres en mayúsculas:' , animal.title())\n",
    "print('El texto sin espacios queda asi:' , animal.strip())\n",
    "print('Sacamos el espacio de la izquierda:' , animal.lstrip())\n",
    "print('Sacamos el espacio de la derecha:' , animal.rstrip())"
   ]
  },
  {
   "cell_type": "markdown",
   "metadata": {},
   "source": [
    "### Ejemplos de metódos de búsqueda"
   ]
  },
  {
   "cell_type": "code",
   "execution_count": 3,
   "metadata": {},
   "outputs": [
    {
     "name": "stdout",
     "output_type": "stream",
     "text": [
      "Se encuentra en la posición: 0\n"
     ]
    }
   ],
   "source": [
    "animal = 'elefante'\n",
    "\n",
    "print('Se encuentra en la posición:' , animal.find('el'))"
   ]
  },
  {
   "cell_type": "markdown",
   "metadata": {},
   "source": [
    "### Ejemplo de metódos de reemplazo\n"
   ]
  },
  {
   "cell_type": "code",
   "execution_count": 4,
   "metadata": {},
   "outputs": [
    {
     "name": "stdout",
     "output_type": "stream",
     "text": [
      "Texto Original:\n",
      "El gato es un animal muy querido. El gato juega en el jardin\n",
      "\n",
      "Texto modificado:\n",
      "El perro es un animal muy querido. El perro juega en el jardin\n"
     ]
    }
   ],
   "source": [
    "texto = \"El gato es un animal muy querido. El gato juega en el jardin\"\n",
    "\n",
    "nuevo_texto = texto.replace(\"gato\" , \"perro\")\n",
    "\n",
    "print(\"Texto Original:\")\n",
    "print(texto)\n",
    "print(\"\\nTexto modificado:\")\n",
    "print(nuevo_texto)"
   ]
  },
  {
   "cell_type": "markdown",
   "metadata": {},
   "source": [
    "### Ejemplo de si se encuentra en la lista\n"
   ]
  },
  {
   "cell_type": "code",
   "execution_count": 7,
   "metadata": {},
   "outputs": [
    {
     "name": "stdout",
     "output_type": "stream",
     "text": [
      "False\n",
      "True\n"
     ]
    }
   ],
   "source": [
    "texto = \"Es un texto de prueba\"\n",
    "\n",
    "print(\"Hola\" in texto)  # Esto devolverá False, porque \"Hola\" no está en el texto\n",
    "print(\"Hola\" not in texto)  # Esto devolverá True, porque \"Hola\" NO está en el \n",
    "\n",
    "   \n"
   ]
  }
 ],
 "metadata": {
  "kernelspec": {
   "display_name": "Python 3",
   "language": "python",
   "name": "python3"
  },
  "language_info": {
   "codemirror_mode": {
    "name": "ipython",
    "version": 3
   },
   "file_extension": ".py",
   "mimetype": "text/x-python",
   "name": "python",
   "nbconvert_exporter": "python",
   "pygments_lexer": "ipython3",
   "version": "3.12.5"
  }
 },
 "nbformat": 4,
 "nbformat_minor": 2
}
