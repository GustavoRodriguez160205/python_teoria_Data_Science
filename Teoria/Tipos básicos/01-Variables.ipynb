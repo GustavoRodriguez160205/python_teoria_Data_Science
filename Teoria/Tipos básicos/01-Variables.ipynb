{
 "cells": [
  {
   "cell_type": "markdown",
   "metadata": {},
   "source": [
    "# Variables en Python\n",
    "\n",
    "## 1. ¿Qué es una variable?\n",
    "   - Espacio en memoria para almacenar datos\n",
    "   - Referencia a un valor que puede cambiar durante la ejecución\n",
    "\n",
    "## 2. Declaración y Asignación de Variables\n",
    "   - Sintaxis: `nombre_variable = valor`\n",
    "   - Ejemplo: `edad = 25`\n",
    "   - Asignación dinámica: el tipo de variable se determina automáticamente\n",
    "\n",
    "## 3. Tipos de Variables en Python\n",
    "   - **Números**:\n",
    "     - `int` (enteros)\n",
    "     - `float` (decimales)\n",
    "     - `complex` (números complejos)\n",
    "   - **Texto**:\n",
    "     - `str` (cadenas de texto)\n",
    "   - **Booleanos**:\n",
    "     - `bool` (verdadero o falso)\n",
    "   - **Colecciones**:\n",
    "     - `list` (listas)\n",
    "     - `tuple` (tuplas)\n",
    "     - `dict` (diccionarios)\n",
    "     - `set` (conjuntos)\n",
    "\n",
    "## 4. Nombres de Variables\n",
    "   - Reglas:\n",
    "     - Deben empezar con una letra o un guion bajo (`_`)\n",
    "     - No pueden comenzar con un número\n",
    "     - No pueden contener espacios ni caracteres especiales\n",
    "   - Convenciones:\n",
    "     - `snake_case` para variables en Python (ej: `mi_variable`)\n",
    "     - Uso de nombres significativos\n",
    "\n",
    "## 5. Asignación de Múltiples Variables\n",
    "   - Asignación múltiple: `a, b, c = 5, 10, 15`\n",
    "   - Asignación del mismo valor: `x = y = z = 20`\n",
    "\n",
    "## 6. Variables Globales y Locales\n",
    "   - **Local**: definida dentro de una función\n",
    "   - **Global**: definida fuera de una función\n",
    "   - Uso de la palabra clave `global` para modificar una variable global dentro de una función\n",
    "\n",
    "## 7. Conversiones de Tipos de Variables\n",
    "   - Funciones de conversión:\n",
    "     - `int()`\n",
    "     - `float()`\n",
    "     - `str()`\n",
    "     - `bool()`\n",
    "   - Ejemplo: `num_str = str(123)`\n",
    "\n",
    "## 8. Buenas Prácticas\n",
    "   - Usar nombres descriptivos para las variables\n",
    "   - Evitar el uso de variables globales\n",
    "   - Comentar el código para mayor claridad\n",
    "   - Seguir convenciones de nombres para facilitar la lectura del código\n"
   ]
  },
  {
   "cell_type": "markdown",
   "metadata": {},
   "source": [
    "## Algunos ejemplos"
   ]
  },
  {
   "cell_type": "code",
   "execution_count": null,
   "metadata": {},
   "outputs": [
    {
     "name": "stdout",
     "output_type": "stream",
     "text": [
      "Hola Mundo feliz\n",
      "ID del alumno: 5000\n",
      "Puntaje: 9.1\n",
      "Publicado: False\n"
     ]
    }
   ],
   "source": [
    "# Nombre del curso\n",
    "nombre_curso = 'Ultimate Python'\n",
    "\n",
    "\n",
    "saludo1 = 'Hola'\n",
    "saludo2 = 'Mundo'\n",
    "saludo3 = 'feliz'\n",
    "\n",
    "\n",
    "print(saludo1, saludo2, saludo3)\n",
    "\n",
    "# Información del alumno\n",
    "alumno_id = 5000  # ID del alumno\n",
    "puntaje = 9.10    # Puntaje del alumno\n",
    "publicado = False # Estado de publicación\n",
    "\n",
    "\n",
    "print(\"ID del alumno:\", alumno_id)\n",
    "print(\"Puntaje:\", puntaje)\n",
    "print(\"Publicado:\", publicado)\n"
   ]
  }
 ],
 "metadata": {
  "kernelspec": {
   "display_name": "Python 3",
   "language": "python",
   "name": "python3"
  },
  "language_info": {
   "codemirror_mode": {
    "name": "ipython",
    "version": 3
   },
   "file_extension": ".py",
   "mimetype": "text/x-python",
   "name": "python",
   "nbconvert_exporter": "python",
   "pygments_lexer": "ipython3",
   "version": "3.12.5"
  }
 },
 "nbformat": 4,
 "nbformat_minor": 2
}
