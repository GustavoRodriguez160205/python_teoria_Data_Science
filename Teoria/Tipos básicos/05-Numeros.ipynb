{
 "cells": [
  {
   "cell_type": "markdown",
   "metadata": {},
   "source": [
    "# Manejo de Números en Python\n",
    "\n",
    "## 1. Tipos de Números\n",
    "- **Números Enteros (`int`)**\n",
    "  - Números sin decimales.\n",
    "  - Ejemplo: `x = 10` → `x` es un entero.\n",
    "\n",
    "- **Números de Punto Flotante (`float`)**\n",
    "  - Números con decimales.\n",
    "  - Ejemplo: `y = 10.5` → `y` es un float.\n",
    "\n",
    "- **Números Complejos (`complex`)**\n",
    "  - Números con parte real e imaginaria.\n",
    "  - Ejemplo: `z = 3 + 4j` → `z` es un número complejo.\n",
    "\n",
    "## 2. Operaciones Básicas\n",
    "- **Suma (`+`)**\n",
    "  - Suma dos números.\n",
    "  - Ejemplo: `resultado = 5 + 3` → `resultado` es `8`.\n",
    "\n",
    "- **Resta (`-`)**\n",
    "  - Resta un número de otro.\n",
    "  - Ejemplo: `resultado = 10 - 4` → `resultado` es `6`.\n",
    "\n",
    "- **Multiplicación (`*`)**\n",
    "  - Multiplica dos números.\n",
    "  - Ejemplo: `resultado = 2 * 3` → `resultado` es `6`.\n",
    "\n",
    "- **División (`/`)**\n",
    "  - Divide un número por otro y siempre devuelve un float.\n",
    "  - Ejemplo: `resultado = 10 / 2` → `resultado` es `5.0`.\n",
    "\n",
    "- **División Entera (`//`)**\n",
    "  - Divide y devuelve solo la parte entera.\n",
    "  - Ejemplo: `resultado = 10 // 3` → `resultado` es `3`.\n",
    "\n",
    "- **Módulo (`%`)**\n",
    "  - Devuelve el resto de la división.\n",
    "  - Ejemplo: `resultado = 10 % 3` → `resultado` es `1`.\n",
    "\n",
    "- **Exponenciación (`**`)**\n",
    "  - Eleva un número a la potencia de otro.\n",
    "  - Ejemplo: `resultado = 2 ** 3` → `resultado` es `8`.\n",
    "\n",
    "## 3. Conversión de Tipos\n",
    "- **Convertir a Entero**\n",
    "  - Convierte un float o string a entero.\n",
    "  - Ejemplo: `x = int(10.5)` → `x` es `10`.\n",
    "\n",
    "- **Convertir a Float**\n",
    "  - Convierte un entero o string a float.\n",
    "  - Ejemplo: `y = float(10)` → `y` es `10.0`.\n",
    "\n",
    "- **Convertir a String**\n",
    "  - Convierte un número a string.\n",
    "  - Ejemplo: `s = str(100)` → `s` es `\"100\"`.\n",
    "\n",
    "## 4. Funciones Útiles\n",
    "- **abs()**\n",
    "  - Devuelve el valor absoluto.\n",
    "  - Ejemplo: `x = abs(-5)` → `x` es `5`.\n",
    "\n",
    "- **round()**\n",
    "  - Redondea un número a un número específico de decimales.\n",
    "  - Ejemplo: `x = round(10.567, 2)` → `x` es `10.57`.\n",
    "\n",
    "- **max()**\n",
    "  - Devuelve el número más grande de una lista.\n",
    "  - Ejemplo: `x = max(1, 5, 3)` → `x` es `5`.\n",
    "\n",
    "- **min()**\n",
    "  - Devuelve el número más pequeño de una lista.\n",
    "  - Ejemplo: `x = min(1, 5, 3)` → `x` es `1`.\n",
    "\n",
    "## Nota:\n",
    "En los números imaginarios, por ejemplo, `2 + 3j`, el `j` representa la unidad imaginaria, que se puede interpretar como la raíz cuadrada de `-1`.\n"
   ]
  },
  {
   "cell_type": "markdown",
   "metadata": {},
   "source": [
    "## Ejemplos"
   ]
  },
  {
   "cell_type": "code",
   "execution_count": null,
   "metadata": {},
   "outputs": [],
   "source": [
    "numero = 2\n",
    "decimal = 1.2\n",
    "imaginario = 2 + 3j"
   ]
  },
  {
   "cell_type": "markdown",
   "metadata": {},
   "source": [
    "## Realizamos unas operaciones"
   ]
  },
  {
   "cell_type": "code",
   "execution_count": 15,
   "metadata": {},
   "outputs": [
    {
     "name": "stdout",
     "output_type": "stream",
     "text": [
      "Resultado final de 'numero': 6.0\n",
      "\n",
      "Operaciones aritméticas:\n",
      "1 + 3 = 4\n",
      "1 - 3 = -2\n",
      "1 * 3 = 3\n",
      "1 / 3 = 0.3333333333333333\n",
      "1 // 3 = 0\n",
      "1 % 3 = 1\n",
      "1 ** 3 = 1\n"
     ]
    }
   ],
   "source": [
    "numero = 2\n",
    "decimal = 1.2\n",
    "imaginario = 2 + 2j\n",
    "\n",
    "# Realizamos algunas operaciones en la variable 'numero'\n",
    "numero += 5   # Sumar 5\n",
    "numero *= 5   # Multiplicar por 5\n",
    "numero -= 5   # Restar 5\n",
    "numero /= 5   # Dividir por 5\n",
    "\n",
    "# Mostramos el resultado final de 'numero'\n",
    "print(\"Resultado final de 'numero':\", numero)\n",
    "\n",
    "# Ejemplos de operaciones aritméticas básicas\n",
    "print(\"\\nOperaciones aritméticas:\")\n",
    "\n",
    "# Suma\n",
    "print(\"1 + 3 =\", 1 + 3)\n",
    "\n",
    "# Resta\n",
    "print(\"1 - 3 =\", 1 - 3)\n",
    "\n",
    "# Multiplicación\n",
    "print(\"1 * 3 =\", 1 * 3)\n",
    "\n",
    "# División (float)\n",
    "print(\"1 / 3 =\", 1 / 3)\n",
    "\n",
    "# División entera\n",
    "print(\"1 // 3 =\", 1 // 3)\n",
    "\n",
    "# Módulo (resto de la división)\n",
    "print(\"1 % 3 =\", 1 % 3)\n",
    "\n",
    "# Exponenciación (potencia)\n",
    "print(\"1 ** 3 =\", 1 ** 3)"
   ]
  }
 ],
 "metadata": {
  "kernelspec": {
   "display_name": "Python 3",
   "language": "python",
   "name": "python3"
  },
  "language_info": {
   "codemirror_mode": {
    "name": "ipython",
    "version": 3
   },
   "file_extension": ".py",
   "mimetype": "text/x-python",
   "name": "python",
   "nbconvert_exporter": "python",
   "pygments_lexer": "ipython3",
   "version": "3.12.5"
  }
 },
 "nbformat": 4,
 "nbformat_minor": 2
}
