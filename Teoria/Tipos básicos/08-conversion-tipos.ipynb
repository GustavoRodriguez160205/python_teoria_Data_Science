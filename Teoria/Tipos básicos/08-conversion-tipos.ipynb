{
 "cells": [
  {
   "cell_type": "markdown",
   "metadata": {},
   "source": [
    "# Conversión Numérica en Python\n",
    "\n",
    "## 1. Tipos de Datos Numéricos\n",
    "   - **Enteros (`int`)**\n",
    "     - Números sin decimales.\n",
    "     - Ejemplo: `5`, `-3`, `0`.\n",
    "   - **Números de Punto Flotante (`float`)**\n",
    "     - Números con decimales.\n",
    "     - Ejemplo: `3.14`, `-0.001`, `2.0`.\n",
    "   - **Números Complejos (`complex`)**\n",
    "     - Formato: `a + bj`, donde `a` es la parte real y `b` es la parte imaginaria.\n",
    "     - Ejemplo: `2 + 3j`.\n",
    "\n",
    "## 2. Conversión de Tipos\n",
    "   - **Convertir a Entero**\n",
    "     - Función: `int()`\n",
    "     - Ejemplo: `int(3.14)` → `3`\n",
    "   - **Convertir a Flotante**\n",
    "     - Función: `float()`\n",
    "     - Ejemplo: `float(5)` → `5.0`\n",
    "   - **Convertir a Complejo**\n",
    "     - Función: `complex()`\n",
    "     - Ejemplo: `complex(2, 3)` → `2 + 3j`\n",
    "\n",
    "## 3. Conversión de Cadenas\n",
    "   - **Desde Cadena a Entero**\n",
    "     - Ejemplo: `int(\"10\")` → `10`\n",
    "   - **Desde Cadena a Flotante**\n",
    "     - Ejemplo: `float(\"3.14\")` → `3.14`\n",
    "   - **Desde Cadena a Complejo**\n",
    "     - Ejemplo: `complex(\"1+2j\")` → `1 + 2j`\n",
    "\n",
    "## 4. Conversión de Tipos en Condiciones\n",
    "   - Es común hacer conversiones al leer datos de usuarios o archivos.\n",
    "   - Ejemplo: Al recibir un número como cadena:\n",
    "     ```python\n",
    "     user_input = input(\"Ingresa un número: \")\n",
    "     num = float(user_input)  # Convertir a flotante\n",
    "     ```\n",
    "\n",
    "## 5. Ejemplos Prácticos\n",
    "   - **Suma de números ingresados por el usuario**\n",
    "     ```python\n",
    "     num1 = float(input(\"Ingresa el primer número: \"))\n",
    "     num2 = float(input(\"Ingresa el segundo número: \"))\n",
    "     print(\"La suma es:\", num1 + num2)\n",
    "     ```\n",
    "   - **Verificación de tipo**\n",
    "     ```python\n",
    "     num = \"42\"\n",
    "     if isinstance(int(num), int):\n",
    "         print(\"Es un entero.\")\n",
    "     ```\n",
    "\n",
    "## 6. Errores Comunes\n",
    "   - Intentar convertir cadenas no numéricas a enteros o flotantes.\n",
    "     - Ejemplo: `int(\"hola\")` generará un `ValueError`.\n",
    "\n",
    "## 7. Consejos\n",
    "   - Siempre verifica la entrada del usuario antes de convertir.\n",
    "   - Utiliza bloques `try` y `except` para manejar excepciones.\n",
    "   ```python\n",
    "   try:\n",
    "       num = float(input(\"Ingresa un número: \"))\n",
    "   except ValueError:\n",
    "       print(\"Eso no es un número válido.\")\n"
   ]
  },
  {
   "cell_type": "markdown",
   "metadata": {},
   "source": [
    "### Algunos ejemplos"
   ]
  },
  {
   "cell_type": "code",
   "execution_count": 1,
   "metadata": {},
   "outputs": [
    {
     "name": "stdout",
     "output_type": "stream",
     "text": [
      "Total despúes de 5 años: 19.8\n"
     ]
    }
   ],
   "source": [
    "principal = float(input('Ingrese el capital inicial:'))\n",
    "tasa_de_interes = float(input(\"Ingresa la tasa de interés {%}:\"))\n",
    "tiempo = int(input(\"Ingresa el tiempo en años:\"))\n",
    "\n",
    "interes = (principal * tasa_de_interes / 100) * tiempo\n",
    "total = principal + interes\n",
    "\n",
    "print(f\"Total despúes de {tiempo} años: {total}\")"
   ]
  },
  {
   "cell_type": "code",
   "execution_count": 2,
   "metadata": {},
   "outputs": [
    {
     "name": "stdout",
     "output_type": "stream",
     "text": [
      "El promedio es: 39.80\n"
     ]
    }
   ],
   "source": [
    "calificaciones = []\n",
    "for i in range(5): \n",
    "    cal = float(input(f\"Ingrese la calificación {i + 1}: \"))  # Ej. 7.5\n",
    "    calificaciones.append(cal)\n",
    "\n",
    "promedio = sum(calificaciones) / len(calificaciones)\n",
    "print(f\"El promedio es: {promedio:.2f}\")\n"
   ]
  },
  {
   "cell_type": "code",
   "execution_count": 3,
   "metadata": {},
   "outputs": [
    {
     "name": "stdout",
     "output_type": "stream",
     "text": [
      "El precio total con IVA es: 15.12\n"
     ]
    }
   ],
   "source": [
    "precio_producto = float(input(\"Ingresa el precio del producto: \"))  # Ej. 150.50\n",
    "impuesto = 0.21  # 21% de IVA\n",
    "\n",
    "precio_total = precio_producto * (1 + impuesto)\n",
    "print(f\"El precio total con IVA es: {precio_total:.2f}\")\n"
   ]
  }
 ],
 "metadata": {
  "kernelspec": {
   "display_name": "Python 3",
   "language": "python",
   "name": "python3"
  },
  "language_info": {
   "codemirror_mode": {
    "name": "ipython",
    "version": 3
   },
   "file_extension": ".py",
   "mimetype": "text/x-python",
   "name": "python",
   "nbconvert_exporter": "python",
   "pygments_lexer": "ipython3",
   "version": "3.12.5"
  }
 },
 "nbformat": 4,
 "nbformat_minor": 2
}
