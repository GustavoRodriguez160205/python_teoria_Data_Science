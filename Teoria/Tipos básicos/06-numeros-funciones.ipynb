{
 "cells": [
  {
   "cell_type": "markdown",
   "metadata": {},
   "source": [
    "# Funciones Numéricas en Python\n",
    "\n",
    "## 1. Funciones Básicas\n",
    "- **`abs(x)`**\n",
    "  - Devuelve el valor absoluto de `x`.\n",
    "  - Ejemplo: `abs(-5)` → `5`.\n",
    "\n",
    "- **`round(x, n)`**\n",
    "  - Redondea `x` al número `n` de decimales.\n",
    "  - Ejemplo: `round(3.14159, 2)` → `3.14`.\n",
    "\n",
    "- **`pow(x, y)`**\n",
    "  - Calcula `x` elevado a la potencia `y`.\n",
    "  - Ejemplo: `pow(2, 3)` → `8` (2^3).\n",
    "\n",
    "## 2. Funciones de Mínimo y Máximo\n",
    "- **`min(a, b, ...)`**\n",
    "  - Devuelve el número más pequeño de los argumentos.\n",
    "  - Ejemplo: `min(3, 5, 1)` → `1`.\n",
    "\n",
    "- **`max(a, b, ...)`**\n",
    "  - Devuelve el número más grande de los argumentos.\n",
    "  - Ejemplo: `max(3, 5, 1)` → `5`.\n",
    "\n",
    "## 3. Funciones de Conversión\n",
    "- **`int(x)`**\n",
    "  - Convierte `x` a un número entero.\n",
    "  - Ejemplo: `int(4.7)` → `4`.\n",
    "\n",
    "- **`float(x)`**\n",
    "  - Convierte `x` a un número decimal.\n",
    "  - Ejemplo: `float(4)` → `4.0`.\n",
    "\n",
    "- **`str(x)`**\n",
    "  - Convierte `x` a una cadena de texto.\n",
    "  - Ejemplo: `str(100)` → `\"100\"`.\n",
    "\n",
    "## 4. Funciones de Aritmética\n",
    "- **`sum(iterable)`**\n",
    "  - Suma todos los elementos de un iterable (como una lista).\n",
    "  - Ejemplo: `sum([1, 2, 3])` → `6`.\n",
    "\n",
    "- **`math.ceil(x)`**\n",
    "  - Redondea `x` hacia arriba al entero más cercano.\n",
    "  - Ejemplo: `math.ceil(4.2)` → `5`.\n",
    "\n",
    "- **`math.floor(x)`**\n",
    "  - Redondea `x` hacia abajo al entero más cercano.\n",
    "  - Ejemplo: `math.floor(4.8)` → `4`.\n",
    "\n",
    "## 5. Importando el Módulo `math`\n",
    "- Para usar funciones avanzadas, como `sqrt` o `pi`, se debe importar el módulo `math`.\n",
    "  - Ejemplo:\n",
    "    ```python\n",
    "    import math\n",
    "    raiz = math.sqrt(16)  # Calcula la raíz cuadrada de 16\n",
    "    pi = math.pi          # Obtiene el valor de pi\n",
    "    ```\n",
    "\n",
    "## Nota:\n",
    "Las funciones numéricas en Python son herramientas útiles para realizar cálculos y conversiones. Familiarizarse con ellas puede mejorar tu eficiencia al programar.\n"
   ]
  },
  {
   "cell_type": "markdown",
   "metadata": {},
   "source": [
    "### Ejemplos de funciones basicas"
   ]
  },
  {
   "cell_type": "code",
   "execution_count": 9,
   "metadata": {},
   "outputs": [
    {
     "name": "stdout",
     "output_type": "stream",
     "text": [
      "Ejemplos de redondeo con round():\n",
      "1.3 redondeado a: 1\n",
      "1.7 redondeado a: 2\n",
      "1.5 redondeado a: 9\n",
      "\n",
      "Ejemplos de valor absoluto con abs():\n",
      "Valor absoluto de -990: 990\n",
      "Valor absoluto de 45: 45\n"
     ]
    }
   ],
   "source": [
    "print(\"Ejemplos de redondeo con round():\")\n",
    "print(\"1.3 redondeado a:\", round(1.3))  # Redondea hacia abajo\n",
    "print(\"1.7 redondeado a:\", round(1.7))  # Redondea hacia arriba\n",
    "print(\"1.5 redondeado a:\", round(9.1))  # Redondeo: Python redondea al número par más cercano (2)\n",
    "\n",
    "# Valor absoluto de números\n",
    "print(\"\\nEjemplos de valor absoluto con abs():\")\n",
    "print(\"Valor absoluto de -990:\", abs(-990))  # Devuelve 990\n",
    "print(\"Valor absoluto de 45:\", abs(45))     "
   ]
  },
  {
   "cell_type": "markdown",
   "metadata": {},
   "source": [
    "### Ejemplo de importanto el modulo math"
   ]
  },
  {
   "cell_type": "code",
   "execution_count": 17,
   "metadata": {},
   "outputs": [
    {
     "name": "stdout",
     "output_type": "stream",
     "text": [
      "math.ceil(1.1) redondea hacia arriba a: 2\n",
      "math.floor(1.99999) redondea hacia abajo a: 1\n",
      "math.isnan(13) devuelve: False\n",
      "math.pow(10, 2) devuelve: 100.0\n",
      "math.sqrt(9) devuelve: 3.0\n"
     ]
    }
   ],
   "source": [
    "import math  \n",
    "\n",
    "# Redondear hacia arriba\n",
    "numero_1 = 1.1\n",
    "resultado_ceil = math.ceil(numero_1)  # Redondea 1.1 hacia arriba\n",
    "print(\"math.ceil(1.1) redondea hacia arriba a:\", resultado_ceil)  # Devuelve 2\n",
    "\n",
    "# Redondear hacia abajo\n",
    "numero_2 = 1.99999\n",
    "resultado_floor = math.floor(numero_2)  # Redondea 1.99999 hacia abajo\n",
    "print(\"math.floor(1.99999) redondea hacia abajo a:\", resultado_floor)  # Devuelve 1\n",
    "\n",
    "# Verificar si un número es NaN (Not a Number)\n",
    "numero_3 = 13\n",
    "resultado_isnan = math.isnan(numero_3)  # Comprueba si 13 es NaN\n",
    "print(\"math.isnan(13) devuelve:\", resultado_isnan)  # Devuelve False\n",
    "\n",
    "# Potencia\n",
    "base = 10\n",
    "exponente = 2\n",
    "resultado_pow = math.pow(base, exponente)  # Calcula 10^2\n",
    "print(\"math.pow(10, 2) devuelve:\", resultado_pow)  # Devuelve 100.0\n",
    "\n",
    "# Raíz cuadrada\n",
    "numero_4 = 9\n",
    "resultado_sqrt = math.sqrt(numero_4)  # Calcula la raíz cuadrada de 9\n",
    "print(\"math.sqrt(9) devuelve:\", resultado_sqrt)  # Devuelve 3.0\n"
   ]
  }
 ],
 "metadata": {
  "kernelspec": {
   "display_name": "Python 3",
   "language": "python",
   "name": "python3"
  },
  "language_info": {
   "codemirror_mode": {
    "name": "ipython",
    "version": 3
   },
   "file_extension": ".py",
   "mimetype": "text/x-python",
   "name": "python",
   "nbconvert_exporter": "python",
   "pygments_lexer": "ipython3",
   "version": "3.12.5"
  }
 },
 "nbformat": 4,
 "nbformat_minor": 2
}
