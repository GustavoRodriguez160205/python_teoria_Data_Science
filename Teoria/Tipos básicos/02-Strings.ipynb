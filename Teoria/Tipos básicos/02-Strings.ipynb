{
 "cells": [
  {
   "cell_type": "markdown",
   "metadata": {},
   "source": [
    "# Métodos de Strings en Python\n",
    "\n",
    "## 1. Métodos de Búsqueda\n",
    "- **find(sub)** - Encuentra la posición de un substring\n",
    "  - Ejemplo: `\"hello\".find(\"e\")` → `1`\n",
    "\n",
    "- **index(sub)** - Similar a `find()`, pero lanza un error si no se encuentra\n",
    "  - Ejemplo: `\"hello\".index(\"e\")` → `1`\n",
    "\n",
    "- **rfind(sub)** - Encuentra la posición de la última aparición de un substring\n",
    "  - Ejemplo: `\"hello\".rfind(\"l\")` → `3`\n",
    "\n",
    "- **count(sub)** - Cuenta las ocurrencias de un substring\n",
    "  - Ejemplo: `\"hello\".count(\"l\")` → `2`\n",
    "\n",
    "- **startswith(prefix)** - Verifica si la cadena comienza con un prefijo\n",
    "  - Ejemplo: `\"hello\".startswith(\"he\")` → `True`\n",
    "\n",
    "- **endswith(suffix)** - Verifica si la cadena termina con un sufijo\n",
    "  - Ejemplo: `\"hello\".endswith(\"lo\")` → `True`\n",
    "\n",
    "\n",
    "## 2. Métodos de Modificación\n",
    "- **replace(old, new)** - Reemplaza todas las ocurrencias de un substring por otro\n",
    "  - Ejemplo: `\"hello world\".replace(\"world\", \"Python\")` → `\"hello Python\"`\n",
    "\n",
    "- **capitalize()** - Capitaliza la primera letra\n",
    "  - Ejemplo: `\"python\".capitalize()` → `\"Python\"`\n",
    "\n",
    "- **title()** - Capitaliza la primera letra de cada palabra\n",
    "  - Ejemplo: `\"hello world\".title()` → `\"Hello World\"`\n",
    "\n",
    "- **lower()** - Convierte la cadena a minúsculas\n",
    "  - Ejemplo: `\"HELLO\".lower()` → `\"hello\"`\n",
    "\n",
    "- **upper()** - Convierte la cadena a mayúsculas\n",
    "  - Ejemplo: `\"hello\".upper()` → `\"HELLO\"`\n",
    "\n",
    "- **swapcase()** - Invierte mayúsculas y minúsculas\n",
    "  - Ejemplo: `\"Hello\".swapcase()` → `\"hELLO\"`\n",
    "\n",
    "\n",
    "## 3. Métodos de Verificación\n",
    "- **isalpha()** - Verifica si solo contiene letras\n",
    "  - Ejemplo: `\"hello\".isalpha()` → `True`\n",
    "\n",
    "- **isdigit()** - Verifica si solo contiene dígitos\n",
    "  - Ejemplo: `\"123\".isdigit()` → `True`\n",
    "\n",
    "- **isalnum()** - Verifica si solo contiene letras o dígitos\n",
    "  - Ejemplo: `\"hello123\".isalnum()` → `True`\n",
    "\n",
    "- **isspace()** - Verifica si solo contiene espacios en blanco\n",
    "  - Ejemplo: `\"   \".isspace()` → `True`\n",
    "\n",
    "- **isupper()** - Verifica si todos los caracteres están en mayúsculas\n",
    "  - Ejemplo: `\"HELLO\".isupper()` → `True`\n",
    "\n",
    "- **islower()** - Verifica si todos los caracteres están en minúsculas\n",
    "  - Ejemplo: `\"hello\".islower()` → `True`\n",
    "\n",
    "- **istitle()** - Verifica si cada palabra comienza con mayúscula\n",
    "  - Ejemplo: `\"Hello World\".istitle()` → `True`\n",
    "\n",
    "\n",
    "## 4. Métodos de Formato\n",
    "- **format()** - Formatea la cadena con variables\n",
    "  - Ejemplo: `\"Hello, {}\".format(\"world\")` → `\"Hello, world\"`\n",
    "\n",
    "- **center(width)** - Centra el texto en un ancho dado\n",
    "  - Ejemplo: `\"hello\".center(10)` → `\"  hello   \"`\n",
    "\n",
    "- **zfill(width)** - Rellena con ceros a la izquierda hasta el ancho dado\n",
    "  - Ejemplo: `\"42\".zfill(5)` → `\"00042\"`\n",
    "\n",
    "\n",
    "## 5. Métodos de Manipulación de Espacios\n",
    "- **strip()** - Elimina espacios en blanco al inicio y al final\n",
    "  - Ejemplo: `\"  hello  \".strip()` → `\"hello\"`\n",
    "\n",
    "- **lstrip()** - Elimina espacios a la izquierda\n",
    "  - Ejemplo: `\"  hello\".lstrip()` → `\"hello\"`\n",
    "\n",
    "- **rstrip()** - Elimina espacios a la derecha\n",
    "  - Ejemplo: `\"hello  \".rstrip()` → `\"hello\"`\n",
    "\n",
    "\n",
    "## 6. Métodos de Manipulación de Subcadenas\n",
    "- **split(sep)** - Divide la cadena en una lista usando un separador\n",
    "  - Ejemplo: `\"hello world\".split(\" \")` → `[\"hello\", \"world\"]`\n",
    "\n",
    "- **join(iterable)** - Une los elementos de un iterable en una cadena\n",
    "  - Ejemplo: `\", \".join([\"apple\", \"banana\"])` → `\"apple, banana\"`\n",
    "\n",
    "- **partition(sep)** - Divide la cadena en tres partes usando un separador\n",
    "  - Ejemplo: `\"hello world\".partition(\" \")` → `(\"hello\", \" \", \"world\")`\n",
    "\n",
    "- **rpartition(sep)** - Divide en tres partes desde la última aparición del separador\n",
    "  - Ejemplo: `\"hello world python\".rpartition(\" \")` → `(\"hello world\", \" \", \"python\")`\n"
   ]
  },
  {
   "cell_type": "code",
   "execution_count": 20,
   "metadata": {},
   "outputs": [
    {
     "name": "stdout",
     "output_type": "stream",
     "text": [
      "Ultimate Python \n",
      "Este curso contempla todos los detalles que necesitas aprender como programador\n",
      "\n",
      "La longitud de la variable nombre_curso es : 15\n",
      "Accedemos a un caracter en específico: P\n",
      "Cortamos el valor desde la derecha a izquierda: Ultimate\n",
      "Cortamos el valor desde la izquierda a derecha: Python\n",
      "Cuando no le pasamos ningún valor: Ultimate Python\n"
     ]
    }
   ],
   "source": [
    "nombre_curso = \"Ultimate Python\"\n",
    "descripcionDeCurso = \"\"\"\n",
    "Este curso contempla todos los detalles que necesitas aprender como programador\n",
    "\"\"\"\n",
    "\n",
    "print(nombre_curso , descripcionDeCurso)\n",
    "print('La longitud de la variable nombre_curso es :' ,  len(nombre_curso))\n",
    "print('Accedemos a un caracter en específico:' , nombre_curso[9])\n",
    "print('Cortamos el valor desde la derecha a izquierda:' , nombre_curso[0:8]) # Desde derecha a izquierda\n",
    "print('Cortamos el valor desde la izquierda a derecha:'  , nombre_curso[9:]) # Desde izquierda a derecha\n",
    "print('Cuando no le pasamos ningún valor:' , nombre_curso[:])"
   ]
  },
  {
   "cell_type": "markdown",
   "metadata": {},
   "source": [
    "## Ejemplo de Formateo de Strings\n",
    "\n",
    "\n",
    "- Está es una forma pero no es la más recomendada"
   ]
  },
  {
   "cell_type": "code",
   "execution_count": 21,
   "metadata": {},
   "outputs": [
    {
     "name": "stdout",
     "output_type": "stream",
     "text": [
      "NicolasSchurmann\n"
     ]
    }
   ],
   "source": [
    "nombre = \"Nicolas\"\n",
    "apellido = \"Schurmann\"\n",
    "\n",
    "nombre_completo = nombre + \"\" + apellido\n",
    "print(nombre_completo)"
   ]
  },
  {
   "cell_type": "markdown",
   "metadata": {},
   "source": [
    "- Forma correcta de concatenar strings"
   ]
  },
  {
   "cell_type": "code",
   "execution_count": null,
   "metadata": {},
   "outputs": [
    {
     "name": "stdout",
     "output_type": "stream",
     "text": [
      "N Schurman\n"
     ]
    }
   ],
   "source": [
    "nombre = \"Nicolas\"\n",
    "apellido = \"Schurman\"\n",
    "nombre_completo = f'{nombre} {apellido}'\n",
    "\n",
    "print(nombre_completo)"
   ]
  }
 ],
 "metadata": {
  "kernelspec": {
   "display_name": "Python 3",
   "language": "python",
   "name": "python3"
  },
  "language_info": {
   "codemirror_mode": {
    "name": "ipython",
    "version": 3
   },
   "file_extension": ".py",
   "mimetype": "text/x-python",
   "name": "python",
   "nbconvert_exporter": "python",
   "pygments_lexer": "ipython3",
   "version": "3.12.5"
  }
 },
 "nbformat": 4,
 "nbformat_minor": 2
}
