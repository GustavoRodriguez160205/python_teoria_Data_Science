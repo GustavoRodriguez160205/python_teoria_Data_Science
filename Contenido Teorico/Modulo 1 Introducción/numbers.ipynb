{
 "cells": [
  {
   "cell_type": "markdown",
   "metadata": {},
   "source": [
    "# Números en Python\n",
    "\n",
    "## Tipos de Números\n",
    "\n",
    "1. **Números Enteros (`int`)**\n",
    "   - Representan números enteros (positivos o negativos).\n",
    "   - Ejemplo: `a = 5`, `b = -3`.\n",
    "\n",
    "2. **Números de Punto Flotante (`float`)**\n",
    "   - Representan números reales con parte decimal.\n",
    "   - Ejemplo: `c = 3.14`, `d = -0.001`.\n",
    "\n",
    "3. **Números Complejos (`complex`)**\n",
    "   - Tienen parte real e imaginaria, representados como `a + bj`.\n",
    "   - Ejemplo: `e = 2 + 3j`.\n",
    "\n",
    "## Operaciones Aritméticas\n",
    "\n",
    "- **Suma (`+`)**: `5 + 3` resulta en `8`.\n",
    "- **Resta (`-`)**: `5 - 3` resulta en `2`.\n",
    "- **Multiplicación (`*`)**: `5 * 3` resulta en `15`.\n",
    "- **División (`/`)**: `5 / 2` resulta en `2.5`.\n",
    "- **División Entera (`//`)**: `5 // 2` resulta en `2`.\n",
    "- **Módulo (`%`)**: `5 % 2` resulta en `1`.\n",
    "- **Potencia (`**`)**: `2 ** 3` resulta en `8`.\n",
    "\n",
    "## Conversión de Tipos\n",
    "\n",
    "- `int()`: Convierte a entero.\n",
    "  - Ejemplo: `int(3.14)` resulta en `3`.\n",
    "  \n",
    "- `float()`: Convierte a punto flotante.\n",
    "  - Ejemplo: `float(5)` resulta en `5.0`.\n",
    "  \n",
    "- `complex()`: Convierte a número complejo.\n",
    "  - Ejemplo: `complex(2)` resulta en `2 + 0j`.\n",
    "\n"
   ]
  },
  {
   "cell_type": "code",
   "execution_count": 5,
   "metadata": {},
   "outputs": [
    {
     "name": "stdout",
     "output_type": "stream",
     "text": [
      "<class 'int'>\n",
      "<class 'complex'>\n",
      "<class 'float'>\n"
     ]
    }
   ],
   "source": [
    "# Ejemplos\n",
    "\n",
    "# Int \n",
    "numero_entero = 0\n",
    "\n",
    "# Float\n",
    "numero_decimal = 12.5\n",
    "\n",
    "# Complex\n",
    "\n",
    "numero_complejo = 5 + 2j\n",
    "\n",
    "\n",
    "# Para que nos diga que tipo de dato es\n",
    "\n",
    "print(type(numero_entero))\n",
    "print(type(numero_complejo))\n",
    "print(type(numero_decimal))\n"
   ]
  },
  {
   "cell_type": "code",
   "execution_count": 8,
   "metadata": {},
   "outputs": [
    {
     "name": "stdout",
     "output_type": "stream",
     "text": [
      "Decimal desde entero: 5.0\n",
      "Entero desde decimal: 3\n",
      "Complejo desde entero: (5+0j)\n",
      "Complejo desde decimal: (3.14+0j)\n"
     ]
    }
   ],
   "source": [
    "# Definimos las variables numéricas para realizar conversiones\n",
    "numero_entero = 5         \n",
    "numero_decimal = 3.14     \n",
    "\n",
    "# Conversión de entero a decimal (float)\n",
    "decimal_desde_entero = float(numero_entero)  # Convierte el entero a decimal\n",
    "# Salida: 5.0\n",
    "print(\"Decimal desde entero:\", decimal_desde_entero)\n",
    "\n",
    "# Conversión de decimal a entero\n",
    "entero_desde_decimal = int(numero_decimal)     # Convierte el decimal a entero, truncando la parte decimal\n",
    "# Salida: 3\n",
    "print(\"Entero desde decimal:\", entero_desde_decimal)\n",
    "\n",
    "# Conversión de entero a complejo\n",
    "complejo_desde_entero = complex(numero_entero)  # Convierte el entero a un número complejo (real + 0j)\n",
    "# Salida: (5+0j)\n",
    "print(\"Complejo desde entero:\", complejo_desde_entero)\n",
    "\n",
    "# Conversión de decimal a complejo\n",
    "complejo_desde_decimal = complex(numero_decimal)  # Convierte el decimal a un número complejo (real + 0j)\n",
    "# Salida: (3.14+0j)\n",
    "print(\"Complejo desde decimal:\", complejo_desde_decimal)\n"
   ]
  },
  {
   "cell_type": "markdown",
   "metadata": {},
   "source": [
    "# Ejemplo de la biblioteca `random`\n",
    "\n",
    "La biblioteca `random` en Python nos permite generar números aleatorios y realizar diversas operaciones relacionadas con la aleatoriedad. A continuación, se presentan algunas de sus funcionalidades más comunes:\n",
    "\n",
    "## Importación de la biblioteca\n",
    "\n",
    "Para utilizar la biblioteca `random`, primero debemos importarla:\n"
   ]
  },
  {
   "cell_type": "code",
   "execution_count": 33,
   "metadata": {},
   "outputs": [
    {
     "name": "stdout",
     "output_type": "stream",
     "text": [
      "8\n",
      "9\n",
      "6\n"
     ]
    }
   ],
   "source": [
    "import random\n",
    "\n",
    "aleatorio = random.randrange(1, 10) # El número de stop no es incluyente\n",
    "aleatorio_par = random.randrange(2,11,2) # Número par del 2 al 10\n",
    "aleatorio_inpar = random.randrange(1,10,2) # Numero impar del 1 al 9\n",
    "\n",
    "\n",
    "print(aleatorio)\n",
    "print(aleatorio_inpar)\n",
    "print(aleatorio_par)\n"
   ]
  }
 ],
 "metadata": {
  "kernelspec": {
   "display_name": "Python 3",
   "language": "python",
   "name": "python3"
  },
  "language_info": {
   "codemirror_mode": {
    "name": "ipython",
    "version": 3
   },
   "file_extension": ".py",
   "mimetype": "text/x-python",
   "name": "python",
   "nbconvert_exporter": "python",
   "pygments_lexer": "ipython3",
   "version": "3.12.5"
  }
 },
 "nbformat": 4,
 "nbformat_minor": 2
}
