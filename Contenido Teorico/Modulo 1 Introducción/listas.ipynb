{
 "cells": [
  {
   "cell_type": "markdown",
   "metadata": {},
   "source": [
    "# Mapa Mental de Listas en Python\n",
    "\n",
    "## 1. Introducción\n",
    "   - Estructura de datos que almacena elementos en un orden específico.\n",
    "   - Mutable: los elementos pueden ser modificados y la lista puede crecer o reducirse.\n",
    "\n",
    "## 2. Creación de Listas\n",
    "   - **Sintaxis básica**\n",
    "     - `mi_lista = [1, 2, 3, 4]`\n",
    "   - **Listas vacías**\n",
    "     - `mi_lista_vacia = []`\n",
    "   - **Listas con diferentes tipos**\n",
    "     - `mi_lista_mixta = [1, \"texto\", 3.14, True]`\n",
    "   - **Usando el constructor `list()`**\n",
    "     - `mi_lista = list(range(5))` (crea una lista de 0 a 4)\n",
    "\n",
    "## 3. Acceso a Elementos\n",
    "   - **Índices**\n",
    "     - `mi_lista[0]` (primer elemento)\n",
    "   - **Índices negativos**\n",
    "     - `mi_lista[-1]` (último elemento)\n",
    "   - **Slicing**\n",
    "     - `mi_lista[1:3]` (elementos del índice 1 al 2)\n",
    "\n",
    "## 4. Modificación de Listas\n",
    "   - **Agregar elementos**\n",
    "     - `mi_lista.append(5)` (agregar al final)\n",
    "     - `mi_lista.insert(1, 2.5)` (agregar en el índice 1)\n",
    "     - `mi_lista.extend([6, 7])` (agregar múltiples elementos)\n",
    "   - **Eliminar elementos**\n",
    "     - `mi_lista.remove(3)` (eliminar por valor)\n",
    "     - `mi_lista.pop()` (eliminar el último elemento)\n",
    "     - `mi_lista.pop(0)` (eliminar el elemento en el índice 0)\n",
    "   - **Modificar elementos**\n",
    "     - `mi_lista[1] = 10` (cambiar el valor en el índice 1)\n",
    "\n",
    "## 5. Métodos Comunes\n",
    "   - `len(mi_lista)` - Obtener el tamaño de la lista.\n",
    "   - `mi_lista.sort()` - Ordenar la lista en su lugar.\n",
    "   - `mi_lista.reverse()` - Invertir el orden de los elementos.\n",
    "   - `mi_lista.copy()` - Hacer una copia superficial de la lista.\n",
    "   - `mi_lista.clear()` - Eliminar todos los elementos de la lista.\n",
    "   - `mi_lista.count(x)` - Contar cuántas veces aparece `x` en la lista.\n",
    "   - `mi_lista.index(x)` - Obtener el índice de la primera aparición de `x`.\n",
    "   - `mi_lista.insert(i, x)` - Insertar `x` en el índice `i`.\n",
    "   - `mi_lista.extend(iterable)` - Agregar elementos de un iterable al final.\n",
    "   - `mi_lista.remove(x)` - Eliminar la primera aparición de `x`.\n",
    "\n",
    "## 6. Listas Anidadas\n",
    "   - Listas dentro de listas.\n",
    "     - `matriz = [[1, 2, 3], [4, 5, 6], [7, 8, 9]]`\n",
    "   - Acceso a elementos en listas anidadas.\n",
    "     - `matriz[0][1]` (elemento en la primera fila, segunda columna).\n",
    "\n",
    "## 7. Comprensión de Listas\n",
    "   - Sintaxis concisa para crear listas.\n",
    "     - `cuadrados = [x**2 for x in range(10)]`\n",
    "     - Filtros: `pares = [x for x in range(10) if x % 2 == 0]`\n",
    "\n",
    "## 8. Operaciones Comunes\n",
    "   - **Concatenación**\n",
    "     - `lista1 + lista2` - Combina dos listas.\n",
    "   - **Repetición**\n",
    "     - `lista * n` - Repite la lista `n` veces.\n",
    "   - **Verificación de pertenencia**\n",
    "     - `x in mi_lista` - Devuelve `True` si `x` está en la lista.\n",
    "\n",
    "## 9. Recursos\n",
    "   - [Documentación Oficial de Python](https://docs.python.org/3/tutorial/datastructures.html#more-on-lists)\n",
    "   - [Tutoriales y Ejemplos](https://realpython.com/python-lists-tuples/)\n"
   ]
  },
  {
   "cell_type": "markdown",
   "metadata": {},
   "source": [
    "### Algunos ejemplos de los metodos más comunes"
   ]
  },
  {
   "cell_type": "markdown",
   "metadata": {},
   "source": [
    "### Metodo Count"
   ]
  },
  {
   "cell_type": "code",
   "execution_count": 3,
   "metadata": {},
   "outputs": [
    {
     "name": "stdout",
     "output_type": "stream",
     "text": [
      "2\n"
     ]
    }
   ],
   "source": [
    "frutas = ['orange', 'apple', 'pear', 'banana', 'kiwi', 'apple', 'banana']\n",
    "print(frutas.count('apple')) \n"
   ]
  },
  {
   "cell_type": "markdown",
   "metadata": {},
   "source": [
    "### Metodo Index"
   ]
  },
  {
   "cell_type": "code",
   "execution_count": 4,
   "metadata": {},
   "outputs": [
    {
     "name": "stdout",
     "output_type": "stream",
     "text": [
      "El índice de 'banana' es: 3\n"
     ]
    }
   ],
   "source": [
    "frutas = ['orange', 'apple', 'pear', 'banana', 'kiwi', 'apple', 'banana']\n",
    "\n",
    "\n",
    "indice_banana = frutas.index('banana')\n",
    "\n",
    "print(f\"El índice de 'banana' es: {indice_banana}\")\n"
   ]
  },
  {
   "cell_type": "markdown",
   "metadata": {},
   "source": [
    "### Metodo Len"
   ]
  },
  {
   "cell_type": "code",
   "execution_count": 5,
   "metadata": {},
   "outputs": [
    {
     "name": "stdout",
     "output_type": "stream",
     "text": [
      "Tamaño de la lista: 5\n"
     ]
    }
   ],
   "source": [
    "mi_lista = [3, 1, 4, 1, 5]\n",
    "tamaño = len(mi_lista)\n",
    "print(f\"Tamaño de la lista: {tamaño}\")  # Salida: 5\n"
   ]
  },
  {
   "cell_type": "markdown",
   "metadata": {},
   "source": [
    "### Metodo Sort"
   ]
  },
  {
   "cell_type": "code",
   "execution_count": 6,
   "metadata": {},
   "outputs": [
    {
     "name": "stdout",
     "output_type": "stream",
     "text": [
      "Lista ordenada: [1, 1, 3, 4, 5]\n"
     ]
    }
   ],
   "source": [
    "mi_lista = [3, 1, 4, 1, 5]\n",
    "mi_lista.sort()\n",
    "print(f\"Lista ordenada: {mi_lista}\")  # Salida: [1, 1, 3, 4, 5]\n"
   ]
  },
  {
   "cell_type": "markdown",
   "metadata": {},
   "source": [
    "### Metodo Reverse"
   ]
  },
  {
   "cell_type": "code",
   "execution_count": 7,
   "metadata": {},
   "outputs": [
    {
     "name": "stdout",
     "output_type": "stream",
     "text": [
      "Lista invertida: [5, 4, 3, 1, 1]\n"
     ]
    }
   ],
   "source": [
    "mi_lista = [1, 1, 3, 4, 5]\n",
    "mi_lista.reverse()\n",
    "print(f\"Lista invertida: {mi_lista}\")  # Salida: [5, 4, 3, 1, 1]\n"
   ]
  },
  {
   "cell_type": "markdown",
   "metadata": {},
   "source": [
    "### Metodo Copy"
   ]
  },
  {
   "cell_type": "code",
   "execution_count": 8,
   "metadata": {},
   "outputs": [
    {
     "name": "stdout",
     "output_type": "stream",
     "text": [
      "Copia de la lista: [1, 1, 3, 4, 5]\n"
     ]
    }
   ],
   "source": [
    "mi_lista = [1, 1, 3, 4, 5]\n",
    "copia_lista = mi_lista.copy()\n",
    "print(f\"Copia de la lista: {copia_lista}\")  # Salida: [1, 1, 3, 4, 5]\n"
   ]
  },
  {
   "cell_type": "markdown",
   "metadata": {},
   "source": [
    "### Metodo Clear"
   ]
  },
  {
   "cell_type": "code",
   "execution_count": 9,
   "metadata": {},
   "outputs": [
    {
     "name": "stdout",
     "output_type": "stream",
     "text": [
      "Lista después de clear: []\n"
     ]
    }
   ],
   "source": [
    "mi_lista = [1, 1, 3, 4, 5]\n",
    "mi_lista.clear()\n",
    "print(f\"Lista después de clear: {mi_lista}\")  # Salida: []\n"
   ]
  },
  {
   "cell_type": "markdown",
   "metadata": {},
   "source": [
    "### Metodo Extend"
   ]
  },
  {
   "cell_type": "code",
   "execution_count": 10,
   "metadata": {},
   "outputs": [
    {
     "name": "stdout",
     "output_type": "stream",
     "text": [
      "Lista después de extender: [1, 1, 3, 4, 5, 6, 7, 8]\n"
     ]
    }
   ],
   "source": [
    "mi_lista = [1, 1, 3, 4, 5]\n",
    "mi_lista.extend([6, 7, 8])  # Agrega elementos de otra lista\n",
    "print(f\"Lista después de extender: {mi_lista}\")  # Salida: [1, 1, 3, 4, 5, 6, 7, 8]\n"
   ]
  },
  {
   "cell_type": "markdown",
   "metadata": {},
   "source": [
    "### Metodo Remove"
   ]
  },
  {
   "cell_type": "code",
   "execution_count": 11,
   "metadata": {},
   "outputs": [
    {
     "name": "stdout",
     "output_type": "stream",
     "text": [
      "Lista después de eliminar 1: [1, 3, 4, 5]\n"
     ]
    }
   ],
   "source": [
    "mi_lista = [1, 1, 3, 4, 5]\n",
    "mi_lista.remove(1)  # Elimina la primera aparición de 1\n",
    "print(f\"Lista después de eliminar 1: {mi_lista}\")  # Salida: [1, 3, 4, 5]\n"
   ]
  },
  {
   "cell_type": "markdown",
   "metadata": {},
   "source": [
    "### Ejemplos de Modificadores de listas"
   ]
  },
  {
   "cell_type": "markdown",
   "metadata": {},
   "source": [
    "### Metodo Append"
   ]
  },
  {
   "cell_type": "code",
   "execution_count": 13,
   "metadata": {},
   "outputs": [
    {
     "name": "stdout",
     "output_type": "stream",
     "text": [
      "['iPhone 13', 'Samsung Galaxy S21', 'Google Pixel 6', 'OnePlus 9']\n"
     ]
    }
   ],
   "source": [
    "mi_lista = [\"iPhone 13\", \"Samsung Galaxy S21\", \"Google Pixel 6\"]\n",
    "mi_lista.append(\"OnePlus 9\")\n",
    "\n",
    "print(mi_lista)\n"
   ]
  },
  {
   "cell_type": "markdown",
   "metadata": {},
   "source": [
    "### Metodo Insert"
   ]
  },
  {
   "cell_type": "code",
   "execution_count": 14,
   "metadata": {},
   "outputs": [
    {
     "name": "stdout",
     "output_type": "stream",
     "text": [
      "['iPhone 13', 'Xiaomi Mi 11', 'Samsung Galaxy S21', 'Google Pixel 6', 'OnePlus 9']\n"
     ]
    }
   ],
   "source": [
    "mi_lista.insert(1, \"Xiaomi Mi 11\")\n",
    "# mi_lista ahora es: [\"iPhone 13\", \"Xiaomi Mi 11\", \"Samsung Galaxy S21\", \"Google Pixel 6\", \"OnePlus 9\"]\n",
    "\n",
    "print(mi_lista)"
   ]
  },
  {
   "cell_type": "markdown",
   "metadata": {},
   "source": [
    "### Metodo Remove"
   ]
  },
  {
   "cell_type": "code",
   "execution_count": 15,
   "metadata": {},
   "outputs": [
    {
     "name": "stdout",
     "output_type": "stream",
     "text": [
      "['iPhone 13', 'Xiaomi Mi 11', 'Google Pixel 6', 'OnePlus 9']\n"
     ]
    }
   ],
   "source": [
    "mi_lista.remove(\"Samsung Galaxy S21\")\n",
    "# mi_lista ahora es: [\"iPhone 13\", \"Xiaomi Mi 11\", \"Google Pixel 6\", \"OnePlus 9\", \"Sony Xperia 5\", \"Nokia 8.3\"]\n",
    "\n",
    "print(mi_lista)"
   ]
  },
  {
   "cell_type": "markdown",
   "metadata": {},
   "source": [
    "### Metodo Pop"
   ]
  },
  {
   "cell_type": "code",
   "execution_count": 18,
   "metadata": {},
   "outputs": [
    {
     "name": "stdout",
     "output_type": "stream",
     "text": [
      "['iPhone 13']\n",
      "[]\n"
     ]
    }
   ],
   "source": [
    "mi_lista.pop()\n",
    "# mi_lista ahora es: [\"iPhone 13\", \"Xiaomi Mi 11\", \"Google Pixel 6\", \"OnePlus 9\", \"Sony Xperia 5\"]\n",
    "\n",
    "print(mi_lista)\n"
   ]
  },
  {
   "cell_type": "code",
   "execution_count": 21,
   "metadata": {},
   "outputs": [
    {
     "name": "stdout",
     "output_type": "stream",
     "text": [
      "iPhone 13\n"
     ]
    }
   ],
   "source": [
    "telefonos = [\"iPhone 13\", \"Samsung Galaxy S21\", \"Google Pixel 6\"]\n",
    "\n",
    "telefono_eliminado = telefonos.pop(0)\n",
    "\n",
    "print(telefono_eliminado)"
   ]
  }
 ],
 "metadata": {
  "kernelspec": {
   "display_name": "Python 3",
   "language": "python",
   "name": "python3"
  },
  "language_info": {
   "codemirror_mode": {
    "name": "ipython",
    "version": 3
   },
   "file_extension": ".py",
   "mimetype": "text/x-python",
   "name": "python",
   "nbconvert_exporter": "python",
   "pygments_lexer": "ipython3",
   "version": "3.12.5"
  }
 },
 "nbformat": 4,
 "nbformat_minor": 2
}
