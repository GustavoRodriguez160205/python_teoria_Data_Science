{
 "cells": [
  {
   "cell_type": "markdown",
   "metadata": {},
   "source": [
    "## 1. Introducción\n",
    "- **Estructura de datos** que almacena elementos en un orden específico.\n",
    "- **Mutable**: Los elementos pueden ser modificados y la lista puede crecer o reducirse.\n",
    "- **Ordenada**: Los elementos mantienen el orden en que fueron añadidos.\n",
    "\n",
    "## 2. Creación de Listas\n",
    "- **Sintaxis básica**\n",
    "  - `mi_lista = [1, 2, 3, 4]`\n",
    "- **Listas vacías**\n",
    "  - `mi_lista_vacia = []`\n",
    "- **Listas con diferentes tipos**\n",
    "  - `mi_lista_mixta = [1, \"texto\", 3.14, True]`\n",
    "- **Usando el constructor `list()`**\n",
    "  - `mi_lista = list(range(5))` (crea una lista de 0 a 4)\n",
    "- **Listas a partir de otras colecciones**\n",
    "  - `mi_lista = list(\"hola\")` (resulta en `['h', 'o', 'l', 'a']`)\n",
    "\n",
    "## 3. Acceso a Elementos\n",
    "- **Índices**\n",
    "  - `mi_lista[0]` (primer elemento)\n",
    "- **Índices negativos**\n",
    "  - `mi_lista[-1]` (último elemento)\n",
    "- **Slicing**\n",
    "  - `mi_lista[1:3]` (elementos del índice 1 al 2)\n",
    "  - `mi_lista[:2]` (primeros dos elementos)\n",
    "  - `mi_lista[1:]` (elementos desde el índice 1 hasta el final)\n",
    "\n",
    "## 4. Modificación de Listas\n",
    "- **Agregar elementos**\n",
    "  - `mi_lista.append(5)` (agregar al final)\n",
    "  - `mi_lista.insert(1, 2.5)` (agregar en el índice 1)\n",
    "  - `mi_lista.extend([6, 7])` (agregar múltiples elementos)\n",
    "- **Eliminar elementos**\n",
    "  - `mi_lista.remove(3)` (eliminar por valor)\n",
    "  - `mi_lista.pop()` (eliminar el último elemento)\n",
    "  - `mi_lista.pop(0)` (eliminar el elemento en el índice 0)\n",
    "- **Modificar elementos**\n",
    "  - `mi_lista[1] = 10` (cambiar el valor en el índice 1)\n",
    "- **Limitar modificaciones**\n",
    "  - Uso de condiciones para modificar elementos específicos:\n",
    "    ```python\n",
    "    for i in range(len(mi_lista)):\n",
    "        if mi_lista[i] == 3:\n",
    "            mi_lista[i] = 0  # Cambiar todos los 3 a 0\n",
    "    ```\n",
    "\n",
    "## 5. Métodos Comunes\n",
    "- `len(mi_lista)` - Obtener el tamaño de la lista.\n",
    "- `mi_lista.sort()` - Ordenar la lista en su lugar.\n",
    "- `mi_lista.reverse()` - Invertir el orden de los elementos.\n",
    "- `mi_lista.copy()` - Hacer una copia superficial de la lista.\n",
    "- `mi_lista.clear()` - Eliminar todos los elementos de la lista.\n",
    "- `mi_lista.count(x)` - Contar cuántas veces aparece `x` en la lista.\n",
    "- `mi_lista.index(x)` - Obtener el índice de la primera aparición de `x`.\n",
    "- `mi_lista.insert(i, x)` - Insertar `x` en el índice `i`.\n",
    "- `mi_lista.extend(iterable)` - Agregar elementos de un iterable al final.\n",
    "- `mi_lista.remove(x)` - Eliminar la primera aparición de `x`.\n",
    "\n",
    "## 6. Listas Anidadas\n",
    "- **Listas dentro de listas**\n",
    "  - `matriz = [[1, 2, 3], [4, 5, 6], [7, 8, 9]]`\n",
    "- **Acceso a elementos en listas anidadas**\n",
    "  - `matriz[0][1]` (elemento en la primera fila, segunda columna)\n",
    "- **Recorrer listas anidadas**\n",
    "  - ```python\n",
    "    for fila in matriz:\n",
    "        for elemento in fila:\n",
    "            print(elemento)  # Imprime todos los elementos de la matriz\n",
    "    ```\n",
    "\n",
    "## 7. Comprensión de Listas\n",
    "- **Sintaxis concisa para crear listas**\n",
    "  - `cuadrados = [x**2 for x in range(10)]`\n",
    "  - **Filtros**\n",
    "    - `pares = [x for x in range(10) if x % 2 == 0]`\n",
    "  - **Uso de funciones**\n",
    "    - `dobles = [funcion(x) for x in lista]`\n",
    "    \n",
    "## 9. Recursos\n",
    "   - [Documentación Oficial de Python](https://docs.python.org/3/tutorial/datastructures.html#more-on-lists)\n",
    "   - [Tutoriales y Ejemplos](https://realpython.com/python-lists-tuples/)\n"
   ]
  },
  {
   "cell_type": "markdown",
   "metadata": {},
   "source": [
    "## Ejemplos"
   ]
  },
  {
   "cell_type": "markdown",
   "metadata": {},
   "source": [
    "## - Acceso a Elementos"
   ]
  },
  {
   "cell_type": "code",
   "execution_count": 22,
   "metadata": {},
   "outputs": [
    {
     "name": "stdout",
     "output_type": "stream",
     "text": [
      "Primer elemento: 10\n",
      "Último elemento: 50\n",
      "Slicing (índices 1 a 3): [20, 30, 40]\n",
      "Elemento en matriz[2][1]: 8\n"
     ]
    }
   ],
   "source": [
    "\n",
    "mi_lista = [10, 20, 30, 40, 50]\n",
    "\n",
    "# Acceso por índice\n",
    "primer_elemento = mi_lista[0]  # 10\n",
    "print(f\"Primer elemento: {primer_elemento}\")\n",
    "\n",
    "# Acceso por índice negativo\n",
    "ultimo_elemento = mi_lista[-1]  # 50\n",
    "print(f\"Último elemento: {ultimo_elemento}\")\n",
    "\n",
    "# Slicing\n",
    "sub_lista = mi_lista[1:4]  # [20, 30, 40]\n",
    "print(f\"Slicing (índices 1 a 3): {sub_lista}\")\n",
    "\n",
    "# Acceso a un elemento de una lista anidada\n",
    "matriz = [[1, 2, 3], [4, 5, 6], [7, 8, 9]]\n",
    "elemento = matriz[2][1]  # 8 (tercera fila, segunda columna)\n",
    "print(f\"Elemento en matriz[2][1]: {elemento}\")\n"
   ]
  },
  {
   "cell_type": "markdown",
   "metadata": {},
   "source": [
    "## - Modificación de Listas"
   ]
  },
  {
   "cell_type": "code",
   "execution_count": 23,
   "metadata": {},
   "outputs": [
    {
     "name": "stdout",
     "output_type": "stream",
     "text": [
      "Después de append: [1, 2, 3, 4]\n",
      "Después de insert: [1, 1.5, 2, 3, 4]\n",
      "Después de extend: [1, 1.5, 2, 3, 4, 5, 6]\n",
      "Después de remove: [1, 2, 3, 4, 5, 6]\n",
      "Elemento eliminado: 6, lista ahora: [1, 2, 3, 4, 5]\n",
      "Elemento eliminado por índice: 1, lista ahora: [2, 3, 4, 5]\n",
      "Después de modificar: [2, 10, 4, 5]\n"
     ]
    }
   ],
   "source": [
    "\n",
    "mi_lista = [1, 2, 3]\n",
    "\n",
    "# Agregar elementos\n",
    "mi_lista.append(4)  # Agrega 4 al final\n",
    "print(f\"Después de append: {mi_lista}\")  # [1, 2, 3, 4]\n",
    "\n",
    "mi_lista.insert(1, 1.5)  # Inserta 1.5 en el índice 1\n",
    "print(f\"Después de insert: {mi_lista}\")  # [1, 1.5, 2, 3, 4]\n",
    "\n",
    "mi_lista.extend([5, 6])  # Agrega múltiples elementos al final\n",
    "print(f\"Después de extend: {mi_lista}\")  # [1, 1.5, 2, 3, 4, 5, 6]\n",
    "\n",
    "# Eliminar elementos\n",
    "mi_lista.remove(1.5)  # Elimina la primera aparición de 1.5\n",
    "print(f\"Después de remove: {mi_lista}\")  # [1, 2, 3, 4, 5, 6]\n",
    "\n",
    "elemento_eliminado = mi_lista.pop()  # Elimina el último elemento (6)\n",
    "print(f\"Elemento eliminado: {elemento_eliminado}, lista ahora: {mi_lista}\")  # [1, 2, 3, 4, 5]\n",
    "\n",
    "elemento_eliminado_por_indice = mi_lista.pop(0)  # Elimina el primer elemento (1)\n",
    "print(f\"Elemento eliminado por índice: {elemento_eliminado_por_indice}, lista ahora: {mi_lista}\")  # [2, 3, 4, 5]\n",
    "\n",
    "# Modificar un elemento\n",
    "mi_lista[1] = 10  # Cambia el valor en el índice 1 (de 3 a 10)\n",
    "print(f\"Después de modificar: {mi_lista}\")  # [2, 10, 4, 5]\n"
   ]
  },
  {
   "cell_type": "markdown",
   "metadata": {},
   "source": [
    "## - Metodos Comunes"
   ]
  },
  {
   "cell_type": "code",
   "execution_count": 24,
   "metadata": {},
   "outputs": [
    {
     "name": "stdout",
     "output_type": "stream",
     "text": [
      "Tamaño de la lista: 6\n",
      "Lista ordenada: [1, 2, 5, 5, 6, 9]\n",
      "Lista invertida: [9, 6, 5, 5, 2, 1]\n",
      "Copia de la lista: [9, 6, 5, 5, 2, 1]\n",
      "Lista después de clear: []\n",
      "Número de veces que aparece 2: 2\n",
      "Índice de la primera aparición de 4: 4\n",
      "Lista después de insertar 10: [1, 2, 10, 2, 3, 4, 4, 4, 5]\n",
      "Lista después de extend: [1, 2, 10, 2, 3, 4, 4, 4, 5, 6, 7, 8]\n",
      "Lista después de eliminar 10: [1, 2, 2, 3, 4, 4, 4, 5, 6, 7, 8]\n"
     ]
    }
   ],
   "source": [
    "# Crear una lista\n",
    "mi_lista = [5, 2, 9, 1, 5, 6]\n",
    "\n",
    "# Obtener el tamaño de la lista\n",
    "tamaño = len(mi_lista)\n",
    "print(f\"Tamaño de la lista: {tamaño}\")  # 6\n",
    "\n",
    "# Ordenar la lista\n",
    "mi_lista.sort()\n",
    "print(f\"Lista ordenada: {mi_lista}\")  # [1, 2, 5, 5, 6, 9]\n",
    "\n",
    "# Invertir el orden de los elementos\n",
    "mi_lista.reverse()\n",
    "print(f\"Lista invertida: {mi_lista}\")  # [9, 6, 5, 5, 2, 1]\n",
    "\n",
    "# Hacer una copia superficial de la lista\n",
    "copia_lista = mi_lista.copy()\n",
    "print(f\"Copia de la lista: {copia_lista}\")  # [9, 6, 5, 5, 2, 1]\n",
    "\n",
    "# Limpiar la lista (eliminar todos los elementos)\n",
    "mi_lista.clear()\n",
    "print(f\"Lista después de clear: {mi_lista}\")  # []\n",
    "\n",
    "# Volver a llenar la lista para ejemplos de métodos\n",
    "mi_lista = [1, 2, 2, 3, 4, 4, 4, 5]\n",
    "\n",
    "# Contar cuántas veces aparece un elemento\n",
    "conteo_dos = mi_lista.count(2)\n",
    "print(f\"Número de veces que aparece 2: {conteo_dos}\")  # 2\n",
    "\n",
    "# Obtener el índice de la primera aparición de un elemento\n",
    "indice_cuatro = mi_lista.index(4)\n",
    "print(f\"Índice de la primera aparición de 4: {indice_cuatro}\")  # 4\n",
    "\n",
    "# Insertar un elemento en un índice específico\n",
    "mi_lista.insert(2, 10)  # Insertar 10 en el índice 2\n",
    "print(f\"Lista después de insertar 10: {mi_lista}\")  # [1, 2, 10, 2, 3, 4, 4, 4, 5]\n",
    "\n",
    "# Agregar elementos de un iterable al final\n",
    "mi_lista.extend([6, 7, 8])  # Agregar múltiples elementos\n",
    "print(f\"Lista después de extend: {mi_lista}\")  # [1, 2, 10, 2, 3, 4, 4, 4, 5, 6, 7, 8]\n",
    "\n",
    "# Eliminar la primera aparición de un valor específico\n",
    "mi_lista.remove(10)\n",
    "print(f\"Lista después de eliminar 10: {mi_lista}\")  # [1, 2, 2, 3, 4, 4, 4, 5, 6, 7, 8]\n"
   ]
  }
 ],
 "metadata": {
  "kernelspec": {
   "display_name": "Python 3",
   "language": "python",
   "name": "python3"
  },
  "language_info": {
   "codemirror_mode": {
    "name": "ipython",
    "version": 3
   },
   "file_extension": ".py",
   "mimetype": "text/x-python",
   "name": "python",
   "nbconvert_exporter": "python",
   "pygments_lexer": "ipython3",
   "version": "3.12.5"
  }
 },
 "nbformat": 4,
 "nbformat_minor": 2
}
