{
 "cells": [
  {
   "cell_type": "markdown",
   "metadata": {},
   "source": [
    "# Listas en Python\n",
    "\n",
    "## ¿Qué es una lista?\n",
    "Una lista en Python es una **estructura de datos** que puede almacenar múltiples elementos en un solo objeto. Las listas son **mutables**, lo que significa que se pueden modificar después de haber sido creadas.\n",
    "\n",
    "## Características de una lista:\n",
    "- **Ordenadas**: Los elementos mantienen el orden en que se agregan.\n",
    "- **Mutables**: Se pueden cambiar, agregar o eliminar elementos.\n",
    "- **Heterogéneas**: Pueden contener diferentes tipos de datos, como enteros, cadenas, listas, etc.\n",
    "- **Acceso por índice**: Se puede acceder a sus elementos mediante un índice numérico, comenzando desde 0.\n"
   ]
  },
  {
   "cell_type": "code",
   "execution_count": 1,
   "metadata": {},
   "outputs": [
    {
     "name": "stdout",
     "output_type": "stream",
     "text": [
      "La longitud de la lista es: 3\n",
      "Accedemos a la posición: Manzana\n"
     ]
    }
   ],
   "source": [
    "# Índices: 0      1          2\n",
    "frutas = ['Pera', 'Manzana', 'Uva']\n",
    "longitud = len(frutas)\n",
    "\n",
    "print(f'La longitud de la lista es: {longitud}')\n",
    "print(f'Accedemos a la posición: {frutas[1]}')  "
   ]
  },
  {
   "cell_type": "markdown",
   "metadata": {},
   "source": [
    "## ¿Qué podemos contener en una lista?\n",
    "\n",
    "Las listas en Python son muy versátiles y pueden contener una variedad de tipos de datos, incluyendo:\n",
    "\n",
    "- **Booleanos**: Representan valores de verdad, como `True` y `False`.\n",
    "  \n",
    "- **Strings**: Cadenas de texto que pueden ser de cualquier longitud, como `'Hola'`, `'Python'`, etc.\n",
    "  \n",
    "- **Números**:\n",
    "  - **Enteros**: Números sin parte decimal, como `1`, `42`, `-5`.\n",
    "  - **Flotantes**: Números con parte decimal, como `3.14`, `-0.001`, `2.0`.\n",
    "  \n",
    "- **Otros tipos de datos**:\n",
    "  - **Listas anidadas**: Listas dentro de otras listas, permitiendo estructuras complejas.\n",
    "    ```python\n",
    "    lista_anidada = [[1, 2, 3], ['a', 'b', 'c']]\n",
    "    ```\n",
    "  - **Tuplas**: Secuencias inmutables de elementos, como `(1, 2, 3)`.\n",
    "  \n",
    "  - **Diccionarios**: Estructuras de datos que almacenan pares clave-valor.\n",
    "    ```python\n",
    "    diccionario = {'nombre': 'Juan', 'edad': 30}\n",
    "    ```\n",
    "  \n",
    "  - **Objetos**: Instancias de clases, permitiendo la inclusión de datos más complejos.\n",
    "  \n",
    "  - **Funciones**: Puedes almacenar funciones como elementos en una lista.\n",
    "  \n",
    "  \n"
   ]
  },
  {
   "cell_type": "code",
   "execution_count": 2,
   "metadata": {},
   "outputs": [
    {
     "name": "stdout",
     "output_type": "stream",
     "text": [
      "Esto nos va a decir que tipo de lista es: <class 'list'>\n",
      "La lista de strings es: ['Alfa', 'Beta', 'Gama']\n",
      "La lista de números es: [0, 1, 2, 3, 4, 5, 6, 7, 8, 9]\n"
     ]
    }
   ],
   "source": [
    "lista_strings = ['Alfa', 'Beta', 'Gama']\n",
    "lista_numeros = [0, 1, 2, 3, 4, 5, 6, 7, 8, 9]\n",
    "lista_mezclada = ['Hola', 12, True, 12.3]\n",
    "\n",
    "tipo = type(lista_numeros)\n",
    "\n",
    "print(f'Esto nos va a decir que tipo de lista es: {tipo}')\n",
    "print(f'La lista de strings es: {lista_strings}')\n",
    "print(f'La lista de números es: {lista_numeros}')\n"
   ]
  },
  {
   "cell_type": "markdown",
   "metadata": {},
   "source": [
    "### Creamos una lista desde Constructor"
   ]
  },
  {
   "cell_type": "code",
   "execution_count": 3,
   "metadata": {},
   "outputs": [
    {
     "name": "stdout",
     "output_type": "stream",
     "text": [
      "La lista desde constructor es: ['Beta', 3, False]\n"
     ]
    }
   ],
   "source": [
    "lista_desde_constructor = list(('Beta', 3, False))\n",
    "\n",
    "print(f'La lista desde constructor es: {lista_desde_constructor}')\n"
   ]
  },
  {
   "cell_type": "markdown",
   "metadata": {},
   "source": [
    "### Acceso a datos de la lista"
   ]
  },
  {
   "cell_type": "code",
   "execution_count": 4,
   "metadata": {},
   "outputs": [
    {
     "name": "stdout",
     "output_type": "stream",
     "text": [
      "La posición 0 es: Renault Sandero\n",
      "El último valor de la lista es: Toyota Yaris\n",
      "Para acceder a la lista desde el comienzo: ['Renault Sandero', 'Peugeot 208', 'Ford Ranger', 'Toyota Yaris']\n",
      "Para acceder a una parte de la lista: ['Renault Sandero', 'Peugeot 208', 'Ford Ranger']\n"
     ]
    }
   ],
   "source": [
    "autos = ['Renault Sandero', 'Peugeot 208', 'Ford Ranger', 'Toyota Yaris']\n",
    "\n",
    "print(f'La posición 0 es: {autos[0]}')\n",
    "print(f'El último valor de la lista es: {autos[-1]}')  # Acceso negativo\n",
    "print(f'Para acceder a la lista desde el comienzo: {autos[:]}')  # Todos los elementos\n",
    "print(f'Para acceder a una parte de la lista: {autos[0:3]}')  # Slice\n"
   ]
  },
  {
   "cell_type": "markdown",
   "metadata": {},
   "source": [
    "### Se encuentra en la lista?"
   ]
  },
  {
   "cell_type": "code",
   "execution_count": 5,
   "metadata": {},
   "outputs": [
    {
     "name": "stdout",
     "output_type": "stream",
     "text": [
      "Sí, está en la lista\n"
     ]
    }
   ],
   "source": [
    "if 'Renault Sandero' in autos:\n",
    "    print('Sí, está en la lista')\n"
   ]
  },
  {
   "cell_type": "markdown",
   "metadata": {},
   "source": [
    "### Cambiamos la lista"
   ]
  },
  {
   "cell_type": "code",
   "execution_count": 6,
   "metadata": {},
   "outputs": [
    {
     "name": "stdout",
     "output_type": "stream",
     "text": [
      "La lista cambiada es: ['Citroen C3', 'Renault Captur', 'Ford Ranger', 'Toyota Yaris']\n"
     ]
    }
   ],
   "source": [
    "autos[1] = 'Fiat Cronos'  # Cambiar un elemento por índice\n",
    "autos[0:2] = ['Citroen C3', 'Renault Captur']  # Cambiar múltiples elementos\n",
    "\n",
    "print(f'La lista cambiada es: {autos}')\n"
   ]
  },
  {
   "cell_type": "markdown",
   "metadata": {},
   "source": [
    "### Agregamos elementos"
   ]
  },
  {
   "cell_type": "code",
   "execution_count": 7,
   "metadata": {},
   "outputs": [
    {
     "name": "stdout",
     "output_type": "stream",
     "text": [
      "Lista después de agregar elementos: ['Citroen C3', 'Renault Captur', 'Peugeot 408', 'Ford Ranger', 'Toyota Yaris', 'Toyota Corolla', 'Amarok V6', 'Volkswagen Taos']\n"
     ]
    }
   ],
   "source": [
    "autos.insert(2, 'Peugeot 408')  # Agregamos uno en la posición 2\n",
    "autos.append('Toyota Corolla')    # Agregamos al final\n",
    "\n",
    "subs = ['Amarok V6', 'Volkswagen Taos']\n",
    "autos.extend(subs)  # Extendemos la lista\n",
    "\n",
    "print(f'Lista después de agregar elementos: {autos}')\n"
   ]
  },
  {
   "cell_type": "markdown",
   "metadata": {},
   "source": [
    "### Eleminando elementos de la lista"
   ]
  },
  {
   "cell_type": "code",
   "execution_count": 8,
   "metadata": {},
   "outputs": [
    {
     "name": "stdout",
     "output_type": "stream",
     "text": [
      "Despues de remove: ['Fiat Cronos', 'Peugeot 208', 'Toyota Hilux', 'Volkswagen Amarok', 'Chevrolet Tracker', 'Toyota Etios', 'Renault Sandero', 'Toyota Yaris', 'Volkswagen Taos']\n",
      "Auto eliminado con pop: Toyota Hilux\n",
      "Despues de pop: ['Fiat Cronos', 'Peugeot 208', 'Volkswagen Amarok', 'Chevrolet Tracker', 'Toyota Etios', 'Renault Sandero', 'Toyota Yaris', 'Volkswagen Taos']\n"
     ]
    }
   ],
   "source": [
    "# Crear lista de autos\n",
    "autos = ['Fiat Cronos', 'Peugeot 208', 'Toyota Hilux', 'Volkswagen Amarok', 'Chevrolet Tracker', 'Toyota Etios', 'Renault Sandero', 'Toyota Yaris', 'Volkswagen Taos', 'Ford Ranger']\n",
    "\n",
    "# Eliminar la primera ocurrencia de 'Ford Ranger'\n",
    "autos.remove('Ford Ranger')\n",
    "print(f'Despues de remove: {autos}')\n",
    "\n",
    "# Eliminar el auto en el índice 2 usando pop\n",
    "auto_eliminado = autos.pop(2)\n",
    "print(f'Auto eliminado con pop: {auto_eliminado}')\n",
    "print(f'Despues de pop: {autos}')\n"
   ]
  },
  {
   "cell_type": "markdown",
   "metadata": {},
   "source": [
    "### Metodos más usados"
   ]
  },
  {
   "cell_type": "markdown",
   "metadata": {},
   "source": [
    "### Metodo Count"
   ]
  },
  {
   "cell_type": "code",
   "execution_count": 10,
   "metadata": {},
   "outputs": [
    {
     "name": "stdout",
     "output_type": "stream",
     "text": [
      "Peugeot 208 aparece 1 vez.\n"
     ]
    }
   ],
   "source": [
    "count_peugeot = autos.count('Peugeot 208')\n",
    "print(f'Peugeot 208 aparece {count_peugeot} vez.')\n"
   ]
  },
  {
   "cell_type": "markdown",
   "metadata": {},
   "source": [
    "### Metodo Index\n",
    "\n",
    "- Devuelve el índice de la primera aparición del elemento"
   ]
  },
  {
   "cell_type": "code",
   "execution_count": 11,
   "metadata": {},
   "outputs": [
    {
     "name": "stdout",
     "output_type": "stream",
     "text": [
      "Renault Sandero está en la posición 5.\n"
     ]
    }
   ],
   "source": [
    "index_renault = autos.index('Renault Sandero')\n",
    "print(f'Renault Sandero está en la posición {index_renault}.')\n"
   ]
  },
  {
   "cell_type": "markdown",
   "metadata": {},
   "source": [
    "### Metodo Sort\n",
    "- Ordena la lista en orden ascendente\n"
   ]
  },
  {
   "cell_type": "code",
   "execution_count": 12,
   "metadata": {},
   "outputs": [
    {
     "name": "stdout",
     "output_type": "stream",
     "text": [
      "Lista ordenada: ['Chevrolet Tracker', 'Fiat Cronos', 'Peugeot 208', 'Renault Sandero', 'Toyota Etios', 'Toyota Yaris', 'Volkswagen Amarok', 'Volkswagen Taos']\n"
     ]
    }
   ],
   "source": [
    "autos.sort()\n",
    "print(f'Lista ordenada: {autos}')\n"
   ]
  },
  {
   "cell_type": "markdown",
   "metadata": {},
   "source": [
    "### Metodo Reverse\n",
    "\n",
    "- Invierte el orden de los elementos de la lista"
   ]
  },
  {
   "cell_type": "code",
   "execution_count": 13,
   "metadata": {},
   "outputs": [
    {
     "name": "stdout",
     "output_type": "stream",
     "text": [
      "Lista invertida: ['Volkswagen Taos', 'Volkswagen Amarok', 'Toyota Yaris', 'Toyota Etios', 'Renault Sandero', 'Peugeot 208', 'Fiat Cronos', 'Chevrolet Tracker']\n"
     ]
    }
   ],
   "source": [
    "autos.reverse()\n",
    "print(f'Lista invertida: {autos}')\n"
   ]
  },
  {
   "cell_type": "markdown",
   "metadata": {},
   "source": [
    "### Metodo Clear\n",
    "\n",
    "- Elimina todos los elementos de la lista"
   ]
  },
  {
   "cell_type": "code",
   "execution_count": 14,
   "metadata": {},
   "outputs": [
    {
     "name": "stdout",
     "output_type": "stream",
     "text": [
      "Lista después de clear: []\n"
     ]
    }
   ],
   "source": [
    "autos.clear()\n",
    "print(f'Lista después de clear: {autos}')\n"
   ]
  }
 ],
 "metadata": {
  "kernelspec": {
   "display_name": "Python 3",
   "language": "python",
   "name": "python3"
  },
  "language_info": {
   "codemirror_mode": {
    "name": "ipython",
    "version": 3
   },
   "file_extension": ".py",
   "mimetype": "text/x-python",
   "name": "python",
   "nbconvert_exporter": "python",
   "pygments_lexer": "ipython3",
   "version": "3.12.5"
  }
 },
 "nbformat": 4,
 "nbformat_minor": 2
}
