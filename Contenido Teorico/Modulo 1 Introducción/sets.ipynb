{
 "cells": [
  {
   "cell_type": "markdown",
   "metadata": {},
   "source": [
    "## Sets en Python\n",
    "\n",
    "### ¿Qué son?\n",
    "\n",
    "Un **set** es una colección en Python que permite almacenar múltiples elementos en una sola variable. Sus principales características son:\n",
    "\n",
    "- Son una **colección desordenada** de elementos.\n",
    "- **No permiten duplicados**, es decir, todos sus elementos son únicos.\n",
    "- **Los elementos duplicados son omitidos**\n",
    "- Al ser desordenados, **no mantienen un índice** ni un orden específico.\n",
    "\n",
    "Los sets son útiles cuando se necesita trabajar con colecciones de datos donde no importa el orden, y se desea garantizar que los elementos no se repitan.\n",
    "\n"
   ]
  },
  {
   "cell_type": "code",
   "execution_count": 1,
   "metadata": {},
   "outputs": [
    {
     "name": "stdout",
     "output_type": "stream",
     "text": [
      "{'Holaa', 2, 3, 1}\n"
     ]
    }
   ],
   "source": [
    "conjunto = {1,1,2,2,3 , True , 'Holaa'}\n",
    "\n",
    "\n",
    "print(conjunto)"
   ]
  },
  {
   "cell_type": "markdown",
   "metadata": {},
   "source": [
    "## Para calcular la longitud es igual a las listas\n",
    "### No toma en cuenta a los elementos duplicados"
   ]
  },
  {
   "cell_type": "code",
   "execution_count": 2,
   "metadata": {},
   "outputs": [
    {
     "name": "stdout",
     "output_type": "stream",
     "text": [
      "4\n"
     ]
    }
   ],
   "source": [
    "print(len(conjunto))"
   ]
  },
  {
   "cell_type": "markdown",
   "metadata": {},
   "source": [
    "### Creamos el conjunto desde constructor"
   ]
  },
  {
   "cell_type": "code",
   "execution_count": 3,
   "metadata": {},
   "outputs": [
    {
     "name": "stdout",
     "output_type": "stream",
     "text": [
      "{'Conjunto', 'Es', 'Un', 'Este'}\n"
     ]
    }
   ],
   "source": [
    "conjuntoConstructor = set(('Este' , 'Es' , 'Un' , 'Conjunto'))\n",
    "\n",
    "print(conjuntoConstructor)"
   ]
  },
  {
   "cell_type": "markdown",
   "metadata": {},
   "source": [
    "## ¿ Como sabemos si está en el conjunto?"
   ]
  },
  {
   "cell_type": "code",
   "execution_count": 5,
   "metadata": {},
   "outputs": [
    {
     "name": "stdout",
     "output_type": "stream",
     "text": [
      "Si esta la palabra\n",
      "No se encuentra\n"
     ]
    }
   ],
   "source": [
    "if 'Conjunto' in conjuntoConstructor:\n",
    "    print('Si esta la palabra')\n",
    "\n",
    "\n",
    "if 'Python' not in conjuntoConstructor:\n",
    "    print('No se encuentra')"
   ]
  },
  {
   "cell_type": "markdown",
   "metadata": {},
   "source": [
    "## Agregamos elementos a un set"
   ]
  },
  {
   "cell_type": "code",
   "execution_count": 7,
   "metadata": {},
   "outputs": [
    {
     "name": "stdout",
     "output_type": "stream",
     "text": [
      "El conjunto de telefono es: {'Samsung', 'Xiaomi', 'Iphone', 'Motorola'}\n",
      "Agregamos un elemento al conjunto: {'Samsung', 'Xiaomi', 'Iphone', 'Motorola'}\n"
     ]
    }
   ],
   "source": [
    "telefonos = {'Xiaomi' , 'Samsung' , 'Motorola'}\n",
    "telefonos.add('Iphone')\n",
    "\n",
    "print('El conjunto de telefono es:' , telefonos)\n",
    "print('Agregamos un elemento al conjunto:' , telefonos)"
   ]
  },
  {
   "cell_type": "markdown",
   "metadata": {},
   "source": [
    "## Como se concatenan?\n",
    "\n",
    "\n",
    "### También funciona con listas y tuplas"
   ]
  },
  {
   "cell_type": "code",
   "execution_count": 8,
   "metadata": {},
   "outputs": [
    {
     "name": "stdout",
     "output_type": "stream",
     "text": [
      "El conjunto concatenado quedaria asi: {'Samsung', 'Xiaomi', 'Motorola', 'Nokia', 'Poco'}\n"
     ]
    }
   ],
   "source": [
    "telefonos = {'Xiaomi' , 'Samsung' , 'Motorola'}\n",
    "telefonos2 = {'Xiaomi' , 'Nokia' , 'Poco'}\n",
    "\n",
    "telefonos.update(telefonos2)\n",
    "\n",
    "print('El conjunto concatenado quedaria asi:' , telefonos)"
   ]
  },
  {
   "cell_type": "markdown",
   "metadata": {},
   "source": [
    "## Eliminamos elementos\n",
    "\n",
    "- Al no tener orden hay que tener mucho cuidado al borrado\n",
    "\n",
    "### Diferencias entre discard y remove\n",
    "\n",
    "- Remove: Da un error si no existe , se borra el elemento que coincida exactamente con lo puesto en el argumento\n",
    "\n",
    "- Discard: se borra el elemento que coincida exactamente con lo pasado por argumento y no da error si no existe\n",
    "\n",
    "\n",
    "### Aclaración del metodo POP\n",
    "\n",
    "- ELiminara uno de foma aleatoria al no tener un orden específico"
   ]
  },
  {
   "cell_type": "code",
   "execution_count": 11,
   "metadata": {},
   "outputs": [
    {
     "name": "stdout",
     "output_type": "stream",
     "text": [
      "Conjunto eliminado con pop: {'Chevrolet', 'Toyota', 'Renault'}\n",
      "Elemento eliminado con discad: {'Chevrolet', 'Toyota', 'Renault'}\n",
      "La lista con el elemento eliminado queda asi: {'Chevrolet', 'Toyota', 'Renault'}\n"
     ]
    }
   ],
   "source": [
    "autos = {'Ford' , 'Peugeot' , 'Chevrolet' , 'Wolskwagen' , 'Toyota' , 'Renault'}\n",
    "\n",
    "autos.remove('Ford')\n",
    "autos.discard('Peugeot')\n",
    "autos.pop()\n",
    "\n",
    "\n",
    "print('Conjunto eliminado con pop:' , autos)\n",
    "print('Elemento eliminado con discad:' , autos)\n",
    "print('La lista con el elemento eliminado queda asi:' , autos)"
   ]
  },
  {
   "cell_type": "markdown",
   "metadata": {},
   "source": [
    "### Recorrer conjuntos "
   ]
  },
  {
   "cell_type": "code",
   "execution_count": 12,
   "metadata": {},
   "outputs": [
    {
     "name": "stdout",
     "output_type": "stream",
     "text": [
      "Go\n",
      "Python\n",
      "c#\n",
      "Java\n"
     ]
    }
   ],
   "source": [
    "tecnologías = {'Python' , 'Go' , 'c#' , 'Java'}\n",
    "\n",
    "for tecnología in tecnologías:\n",
    "    print(tecnología)"
   ]
  },
  {
   "cell_type": "markdown",
   "metadata": {},
   "source": [
    "## Union de Sets (Teoria de Conjuntos en Matemática)\n",
    "\n",
    "- La diferencia de union con  update es que no modifica el conjunto original"
   ]
  },
  {
   "cell_type": "code",
   "execution_count": 15,
   "metadata": {},
   "outputs": [
    {
     "name": "stdout",
     "output_type": "stream",
     "text": [
      "De está forma es lo mismo: {1, 2, 3, 4, 5, 7, 9}\n",
      "La unión de los sets quedara asi: {1, 2, 3, 4, 5, 7, 9}\n"
     ]
    }
   ],
   "source": [
    "a = {1,2,3,4,5}\n",
    "b = {1,3,5,7,9}\n",
    "\n",
    "\n",
    "c = a.union(b)\n",
    "d = a | b\n",
    "\n",
    "print('De está forma es lo mismo:' , d)\n",
    "print('La unión de los sets quedara asi:' , c)"
   ]
  },
  {
   "cell_type": "markdown",
   "metadata": {},
   "source": [
    "## Intersección\n",
    "\n",
    "- Va a devolver los elementos que tengan en común con ambos conjuntos"
   ]
  },
  {
   "cell_type": "code",
   "execution_count": 17,
   "metadata": {},
   "outputs": [
    {
     "name": "stdout",
     "output_type": "stream",
     "text": [
      "Desde otra forma: {1, 3, 5}\n",
      "La intersección queda asi: {1, 3, 5}\n"
     ]
    }
   ],
   "source": [
    "i = a.intersection(b)\n",
    "i2 = a & b\n",
    "\n",
    "\n",
    "print('Desde otra forma:' , i2)\n",
    "print('La intersección queda asi:' , i)"
   ]
  },
  {
   "cell_type": "markdown",
   "metadata": {},
   "source": [
    "### Comportamiento con booleanos\n",
    "\n",
    "- True y 1 se consideran el mismo valor por lo cual solo se agregará False"
   ]
  },
  {
   "cell_type": "code",
   "execution_count": 18,
   "metadata": {},
   "outputs": [
    {
     "name": "stdout",
     "output_type": "stream",
     "text": [
      "La union con booleanos queda asi: {False, 1, 2, 3, 4, 5}\n"
     ]
    }
   ],
   "source": [
    "booleanos = {True , False}\n",
    "\n",
    "\n",
    "booleanos_union = a.union(booleanos)\n",
    "\n",
    "print('La union con booleanos queda asi:', booleanos_union)"
   ]
  },
  {
   "cell_type": "markdown",
   "metadata": {},
   "source": [
    "## Diferencias \n",
    "\n",
    "- Devuelve los elementos del primer conjunto que no estén presentes en el conjunto b"
   ]
  },
  {
   "cell_type": "code",
   "execution_count": 22,
   "metadata": {},
   "outputs": [
    {
     "name": "stdout",
     "output_type": "stream",
     "text": [
      "La diferencia entre b y a: {9, 7}\n",
      "La diferencia entre a  y b son: {2, 4}\n"
     ]
    }
   ],
   "source": [
    "d = a.difference(b)\n",
    "d2 = b.difference(a)\n",
    "\n",
    "\n",
    "print('La diferencia entre b y a:' , d2)\n",
    "print('La diferencia entre a  y b son:' , d)"
   ]
  },
  {
   "cell_type": "markdown",
   "metadata": {},
   "source": [
    "## Diferencia Simetrica\n",
    "\n",
    "- Devuelve los elementos que no estén presentes en ambos conjuntos"
   ]
  },
  {
   "cell_type": "code",
   "execution_count": 23,
   "metadata": {},
   "outputs": [
    {
     "name": "stdout",
     "output_type": "stream",
     "text": [
      "La diferencia simetrica es: {2, 4, 7, 9}\n"
     ]
    }
   ],
   "source": [
    "ds1 = a.symmetric_difference(b)\n",
    "\n",
    "print('La diferencia simetrica es:' , ds1)"
   ]
  }
 ],
 "metadata": {
  "kernelspec": {
   "display_name": "Python 3",
   "language": "python",
   "name": "python3"
  },
  "language_info": {
   "codemirror_mode": {
    "name": "ipython",
    "version": 3
   },
   "file_extension": ".py",
   "mimetype": "text/x-python",
   "name": "python",
   "nbconvert_exporter": "python",
   "pygments_lexer": "ipython3",
   "version": "3.12.5"
  }
 },
 "nbformat": 4,
 "nbformat_minor": 2
}
