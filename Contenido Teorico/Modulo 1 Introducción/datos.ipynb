{
 "cells": [
  {
   "cell_type": "markdown",
   "metadata": {},
   "source": [
    "# Tipos de Datos \n",
    "\n",
    "## 1. Datos Numéricos\n",
    "- **int**: Números enteros (sin decimales).\n",
    "  - Ejemplo: `5`, `-3`, `42`\n",
    "- **float**: Números de punto flotante (con decimales).\n",
    "  - Ejemplo: `3.14`, `-2.5`, `0.001`\n",
    "- **complex**: Números complejos (con parte real e imaginaria).\n",
    "  - Ejemplo: `2 + 3j`, `-1 + 0.5j`\n",
    "\n",
    "## 2. Secuencias\n",
    "- **str**: Cadenas de texto (secuencias de caracteres).\n",
    "  - Ejemplo: `\"Hola\"`, `'Python'`\n",
    "- **list**: Listas (secuencias ordenadas y modificables).\n",
    "  - Ejemplo: `[1, 2, 3]`, `[\"a\", \"b\", \"c\"]`\n",
    "- **tuple**: Tuplas (secuencias ordenadas e inmutables).\n",
    "  - Ejemplo: `(1, 2, 3)`, `(\"a\", \"b\", \"c\")`\n",
    "- **range**: Rango (secuencia de números enteros en un intervalo).\n",
    "  - Ejemplo: `range(0, 5)`\n",
    "\n",
    "## 3. Mapeos\n",
    "- **dict**: Diccionarios (colección de pares clave-valor).\n",
    "  - Ejemplo: `{\"nombre\": \"Juan\", \"edad\": 25}`\n",
    "\n",
    "## 4. Conjuntos\n",
    "- **set**: Conjuntos (colección de elementos únicos y no ordenados).\n",
    "  - Ejemplo: `{1, 2, 3}`\n",
    "- **frozenset**: Conjuntos inmutables.\n",
    "  - Ejemplo: `frozenset([1, 2, 3])`\n",
    "\n",
    "## 5. Booleanos\n",
    "- **bool**: Valores lógicos (True o False).\n",
    "  - Ejemplo: `True`, `False`\n",
    "\n",
    "## 6. Tipo None\n",
    "- **NoneType**: Representa la ausencia de valor.\n",
    "  - Ejemplo: `None`\n",
    "\n",
    "---\n",
    "\n",
    "> **Nota**: Todos estos tipos de datos se pueden verificar con la función `type()`.\n"
   ]
  },
  {
   "cell_type": "markdown",
   "metadata": {},
   "source": [
    "### Algunos Ejemplos"
   ]
  },
  {
   "cell_type": "markdown",
   "metadata": {},
   "source": [
    "### Datos Númerico"
   ]
  },
  {
   "cell_type": "markdown",
   "metadata": {},
   "source": [
    "### 1. Int"
   ]
  },
  {
   "cell_type": "code",
   "execution_count": 3,
   "metadata": {},
   "outputs": [
    {
     "name": "stdout",
     "output_type": "stream",
     "text": [
      "3628800\n"
     ]
    }
   ],
   "source": [
    "factorial = 1\n",
    "for i in range(1, 11):\n",
    "    factorial *= i\n",
    "print(factorial)  # Resultado: 3628800 (factorial de 10)\n"
   ]
  },
  {
   "cell_type": "markdown",
   "metadata": {},
   "source": [
    "### 2. Float"
   ]
  },
  {
   "cell_type": "code",
   "execution_count": 2,
   "metadata": {},
   "outputs": [
    {
     "name": "stdout",
     "output_type": "stream",
     "text": [
      "[32.0, 68.0, 99.5, 212.0]\n"
     ]
    }
   ],
   "source": [
    "celsius_values = [0.0, 20.0, 37.5, 100.0]\n",
    "fahrenheit_values = [((9/5) * temp + 32) for temp in celsius_values]\n",
    "print(fahrenheit_values)  # [32.0, 68.0, 99.5, 212.0]\n"
   ]
  },
  {
   "cell_type": "markdown",
   "metadata": {},
   "source": [
    "### 3. Complex"
   ]
  },
  {
   "cell_type": "code",
   "execution_count": 4,
   "metadata": {},
   "outputs": [
    {
     "name": "stdout",
     "output_type": "stream",
     "text": [
      "5.0\n"
     ]
    }
   ],
   "source": [
    "numero_complejo = 3 + 4j\n",
    "modulo = abs(numero_complejo)\n",
    "print(modulo)  # 5.0\n"
   ]
  },
  {
   "cell_type": "markdown",
   "metadata": {},
   "source": [
    "### Ejemplos de Secuencias"
   ]
  },
  {
   "cell_type": "markdown",
   "metadata": {},
   "source": [
    "### 1. Str"
   ]
  },
  {
   "cell_type": "code",
   "execution_count": 5,
   "metadata": {},
   "outputs": [
    {
     "name": "stdout",
     "output_type": "stream",
     "text": [
      "asombroso es Python\n"
     ]
    }
   ],
   "source": [
    "frase = \"Python es asombroso\"\n",
    "frase_invertida = \" \".join(frase.split()[::-1])\n",
    "print(frase_invertida)  # \"asombroso es Python\"\n"
   ]
  },
  {
   "cell_type": "markdown",
   "metadata": {},
   "source": [
    "### 2. List"
   ]
  },
  {
   "cell_type": "code",
   "execution_count": 6,
   "metadata": {},
   "outputs": [
    {
     "name": "stdout",
     "output_type": "stream",
     "text": [
      "[12, 15, 18]\n"
     ]
    }
   ],
   "source": [
    "matriz = [\n",
    "    [1, 2, 3],\n",
    "    [4, 5, 6],\n",
    "    [7, 8, 9]\n",
    "]\n",
    "suma_columnas = [sum(col) for col in zip(*matriz)]\n",
    "print(suma_columnas)  # [12, 15, 18]\n"
   ]
  },
  {
   "cell_type": "markdown",
   "metadata": {},
   "source": [
    "### 3. Tuple"
   ]
  },
  {
   "cell_type": "code",
   "execution_count": 7,
   "metadata": {},
   "outputs": [
    {
     "name": "stdout",
     "output_type": "stream",
     "text": [
      "Nueva York\n"
     ]
    }
   ],
   "source": [
    "coordenadas = (40.7128, -74.0060)\n",
    "ciudades = {\n",
    "    coordenadas: \"Nueva York\"\n",
    "}\n",
    "print(ciudades[(40.7128, -74.0060)])  # \"Nueva York\"\n"
   ]
  },
  {
   "cell_type": "markdown",
   "metadata": {},
   "source": [
    "### 4. Range\n"
   ]
  },
  {
   "cell_type": "code",
   "execution_count": 8,
   "metadata": {},
   "outputs": [
    {
     "name": "stdout",
     "output_type": "stream",
     "text": [
      "[0, 2, 4, 6, 8, 10, 12, 14, 16, 18, 20]\n"
     ]
    }
   ],
   "source": [
    "pares = list(range(0, 21, 2))\n",
    "print(pares)  # [0, 2, 4, 6, 8, 10, 12, 14, 16, 18, 20]\n"
   ]
  },
  {
   "cell_type": "markdown",
   "metadata": {},
   "source": [
    "### Ejemplo de Mapeos"
   ]
  },
  {
   "cell_type": "code",
   "execution_count": 9,
   "metadata": {},
   "outputs": [
    {
     "name": "stdout",
     "output_type": "stream",
     "text": [
      "{'contar': 1, 'la': 1, 'frecuencia': 2, 'de': 1, 'cada': 1, 'palabra': 1, 'en': 1, 'una': 1, 'frase': 1}\n"
     ]
    }
   ],
   "source": [
    "frase = \"contar la frecuencia de cada palabra en una frase frecuencia\"\n",
    "palabras = frase.split()\n",
    "frecuencia = {palabra: palabras.count(palabra) for palabra in palabras}\n",
    "print(frecuencia)  # {'contar': 1, 'la': 1, 'frecuencia': 2, ...}\n"
   ]
  },
  {
   "cell_type": "markdown",
   "metadata": {},
   "source": [
    "### Ejemplo de Booleanos"
   ]
  },
  {
   "cell_type": "code",
   "execution_count": 10,
   "metadata": {},
   "outputs": [
    {
     "name": "stdout",
     "output_type": "stream",
     "text": [
      "True\n"
     ]
    }
   ],
   "source": [
    "numeros = [2, 4, 6, 8]\n",
    "todos_pares = all(n % 2 == 0 for n in numeros)\n",
    "print(todos_pares)  # True\n"
   ]
  },
  {
   "cell_type": "markdown",
   "metadata": {},
   "source": [
    "### Ejemplo de Tipo None"
   ]
  },
  {
   "cell_type": "code",
   "execution_count": 11,
   "metadata": {},
   "outputs": [
    {
     "name": "stdout",
     "output_type": "stream",
     "text": [
      "Hola, invitado\n",
      "Hola, Carlos\n"
     ]
    }
   ],
   "source": [
    "def saludo(nombre=None):\n",
    "    if nombre is None:\n",
    "        return \"Hola, invitado\"\n",
    "    return f\"Hola, {nombre}\"\n",
    "\n",
    "print(saludo())          # \"Hola, invitado\"\n",
    "print(saludo(\"Carlos\"))  # \"Hola, Carlos\"\n"
   ]
  },
  {
   "cell_type": "markdown",
   "metadata": {},
   "source": [
    "### Ejemplos  de Conjuntos"
   ]
  },
  {
   "cell_type": "code",
   "execution_count": 12,
   "metadata": {},
   "outputs": [
    {
     "name": "stdout",
     "output_type": "stream",
     "text": [
      "{4, 5}\n"
     ]
    }
   ],
   "source": [
    "conjunto1 = {1, 2, 3, 4, 5}\n",
    "conjunto2 = {4, 5, 6, 7, 8}\n",
    "comunes = conjunto1.intersection(conjunto2)\n",
    "print(comunes)  # {4, 5}\n"
   ]
  },
  {
   "cell_type": "code",
   "execution_count": 13,
   "metadata": {},
   "outputs": [
    {
     "name": "stdout",
     "output_type": "stream",
     "text": [
      "Inmutable\n"
     ]
    }
   ],
   "source": [
    "conjunto_inmutable = frozenset([1, 2, 3])\n",
    "mapa = {conjunto_inmutable: \"Inmutable\"}\n",
    "print(mapa[frozenset([1, 2, 3])])  # \"Inmutable\"\n"
   ]
  }
 ],
 "metadata": {
  "kernelspec": {
   "display_name": "Python 3",
   "language": "python",
   "name": "python3"
  },
  "language_info": {
   "codemirror_mode": {
    "name": "ipython",
    "version": 3
   },
   "file_extension": ".py",
   "mimetype": "text/x-python",
   "name": "python",
   "nbconvert_exporter": "python",
   "pygments_lexer": "ipython3",
   "version": "3.12.5"
  }
 },
 "nbformat": 4,
 "nbformat_minor": 2
}
