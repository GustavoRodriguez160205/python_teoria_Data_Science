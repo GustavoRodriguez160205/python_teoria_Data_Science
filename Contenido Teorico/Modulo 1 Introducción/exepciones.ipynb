{
 "cells": [
  {
   "cell_type": "markdown",
   "metadata": {},
   "source": [
    "# Bloques try except\n",
    "\n",
    "- Imagina que estás escribiendo un programa y quieres que se ejecute sin interrupciones , incluso si algo sale mal. Los bloques `try` y `except` nos permiten manejar esos errores , evitando que nuestro programa se detenga.\n",
    "\n",
    "- **Bloque Try**: Aqui es donde se coloca el código que podria generar una excepción.\n",
    "\n",
    "- **Except**: Si ocurre una excepción dentro del bloque `try`, el programa saltára a este bloque y ejecutará el código que hayas definido para manejar el tipo de error"
   ]
  },
  {
   "cell_type": "markdown",
   "metadata": {},
   "source": [
    "### Tipos de errores comunes"
   ]
  },
  {
   "cell_type": "markdown",
   "metadata": {},
   "source": [
    "- **ZeroDivisionError**: se produce cuando intentas dividir un número por cero"
   ]
  },
  {
   "cell_type": "code",
   "execution_count": 8,
   "metadata": {},
   "outputs": [
    {
     "name": "stdout",
     "output_type": "stream",
     "text": [
      "No puedes dividir por 0\n"
     ]
    }
   ],
   "source": [
    "try:\n",
    "    resultado = 10 / 0\n",
    "except ZeroDivisionError:\n",
    "    print('No puedes dividir por 0')"
   ]
  },
  {
   "cell_type": "markdown",
   "metadata": {},
   "source": [
    "- **TypeError**: Se lanza cuando una operación o función se usa con objetos de tipos incorrectos"
   ]
  },
  {
   "cell_type": "code",
   "execution_count": 9,
   "metadata": {},
   "outputs": [
    {
     "name": "stdout",
     "output_type": "stream",
     "text": [
      "No puedes concatenar un string con un número.\n"
     ]
    }
   ],
   "source": [
    "try:\n",
    "    resultado = \"texto\" + 5\n",
    "except TypeError:\n",
    "    print(\"No puedes concatenar un string con un número.\")"
   ]
  },
  {
   "cell_type": "markdown",
   "metadata": {},
   "source": [
    "- **IndexError**: Se produce cuando intentas acceder a un elemento de una tupla , cadena con un índice que está fuera de los límites"
   ]
  },
  {
   "cell_type": "code",
   "execution_count": 10,
   "metadata": {},
   "outputs": [
    {
     "name": "stdout",
     "output_type": "stream",
     "text": [
      "El índice está fuera de rango.\n"
     ]
    }
   ],
   "source": [
    "mi_lista = [1, 2, 3]\n",
    "try:\n",
    "    elemento = mi_lista[5]\n",
    "except IndexError:\n",
    "    print(\"El índice está fuera de rango.\")"
   ]
  },
  {
   "cell_type": "markdown",
   "metadata": {},
   "source": [
    "- **KeyError**: Ocurre cuando intentas acceder a una clave que no existe en un diccionario"
   ]
  },
  {
   "cell_type": "code",
   "execution_count": 11,
   "metadata": {},
   "outputs": [
    {
     "name": "stdout",
     "output_type": "stream",
     "text": [
      "La clave 'edad' no existe en el diccionario.\n"
     ]
    }
   ],
   "source": [
    "mi_diccionario = {\"nombre\": \"Juan\"}\n",
    "try:\n",
    "    valor = mi_diccionario[\"edad\"]\n",
    "except KeyError:\n",
    "    print(\"La clave 'edad' no existe en el diccionario.\")"
   ]
  },
  {
   "cell_type": "markdown",
   "metadata": {},
   "source": [
    "### Más allá de try y except\n",
    "\n",
    "- **Else**: se ejecuta si el bloque try se completa sin excepciones\n",
    "- **Finally**: siempre se ejecuta , independientemnete de si se produjo una excepción o no. Es útil para liberar recursos , como cerrar archivos\n"
   ]
  },
  {
   "cell_type": "code",
   "execution_count": 13,
   "metadata": {},
   "outputs": [
    {
     "name": "stdout",
     "output_type": "stream",
     "text": [
      "El resultado de la división es: 5.0\n",
      "Operación de división finalizada.\n",
      "No puedes dividir entre cero\n",
      "Operación de división finalizada.\n",
      "Ambos valores deben ser números\n",
      "Operación de división finalizada.\n"
     ]
    }
   ],
   "source": [
    "def dividir_numeros(numerador , denominador):\n",
    "    try:\n",
    "        resultado = numerador / denominador\n",
    "    except ZeroDivisionError:\n",
    "        print('No puedes dividir entre cero')\n",
    "    except TypeError:\n",
    "        print('Ambos valores deben ser números')\n",
    "    else:\n",
    "        print('El resultado de la división es:' , resultado)\n",
    "    finally:\n",
    "        print(\"Operación de división finalizada.\")\n",
    "    \n",
    "dividir_numeros(10,2)\n",
    "dividir_numeros(10,0)\n",
    "dividir_numeros('Hola' , 2)"
   ]
  },
  {
   "cell_type": "markdown",
   "metadata": {},
   "source": [
    "### Otro ejemplo"
   ]
  },
  {
   "cell_type": "code",
   "execution_count": 15,
   "metadata": {},
   "outputs": [
    {
     "name": "stdout",
     "output_type": "stream",
     "text": [
      "1048576\n",
      "Error: No se puede calcular la raíz cuadrada de un número negativo\n",
      "None\n",
      "El valor ingresado no es un número\n",
      "None\n"
     ]
    }
   ],
   "source": [
    "def calcular_raiz_cuadrada(numero):\n",
    "    try:\n",
    "        if numero < 0:\n",
    "            raise ValueError('No se puede calcular la raíz cuadrada de un número negativo')\n",
    "        resultado = numero ** 5\n",
    "        return resultado\n",
    "    except ValueError as e:\n",
    "        print(f'Error: {e}')\n",
    "    \n",
    "    except TypeError:\n",
    "        print('El valor ingresado no es un número')\n",
    "\n",
    "print(calcular_raiz_cuadrada(16))\n",
    "print(calcular_raiz_cuadrada(-9))\n",
    "print(calcular_raiz_cuadrada('Holaa'))\n",
    "    "
   ]
  },
  {
   "cell_type": "code",
   "execution_count": 18,
   "metadata": {},
   "outputs": [
    {
     "name": "stdout",
     "output_type": "stream",
     "text": [
      "No puedes dividir entre cero!\n",
      "El resultado de la divisón es: 2.0\n",
      "Los valores deben ser números.\n"
     ]
    }
   ],
   "source": [
    "def dividir_numeros(a ,b):\n",
    "    try:\n",
    "        resultado = a / b\n",
    "        print(f'El resultado de la divisón es: {resultado}')\n",
    "    except ZeroDivisionError:\n",
    "        print('No puedes dividir entre cero!')\n",
    "    except TypeError:\n",
    "        print('Los valores deben ser números.')\n",
    "\n",
    "dividir_numeros(10 , 0)\n",
    "dividir_numeros(10, 5)\n",
    "dividir_numeros('Hola' , 3)"
   ]
  }
 ],
 "metadata": {
  "kernelspec": {
   "display_name": "Python 3",
   "language": "python",
   "name": "python3"
  },
  "language_info": {
   "codemirror_mode": {
    "name": "ipython",
    "version": 3
   },
   "file_extension": ".py",
   "mimetype": "text/x-python",
   "name": "python",
   "nbconvert_exporter": "python",
   "pygments_lexer": "ipython3",
   "version": "3.12.5"
  }
 },
 "nbformat": 4,
 "nbformat_minor": 2
}
