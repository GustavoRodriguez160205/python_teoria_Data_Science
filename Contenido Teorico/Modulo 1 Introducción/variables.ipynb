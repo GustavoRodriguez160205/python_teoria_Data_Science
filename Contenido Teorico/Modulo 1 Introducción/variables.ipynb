{
 "cells": [
  {
   "cell_type": "markdown",
   "metadata": {},
   "source": [
    "## Variables en Python: Una Explicación Sencilla\n",
    "\n",
    "### ¿Qué es una variable?\n",
    "Imagina una caja con un nombre. Dentro de esa caja puedes guardar diferentes cosas: números, palabras, etc. En programación, a esa caja se le llama **variable**. El nombre de la caja te sirve para encontrar y usar lo que guardaste.\n",
    "\n",
    "### Características principales:\n",
    "* **Tipado dinámico:** No necesitas decir qué tipo de cosa vas a guardar al principio. Python lo adivina solito.\n",
    "* **Case sensitive:** Distingue entre mayúsculas y minúsculas (nombre y Nombre son cosas diferentes).\n",
    "* **UndersCore:** Puede empezar con letra o guión bajo\n",
    "* **No pueden iniciar con número:** No pueden iniciar con número y palabras reservadas \n",
    "* **Alcance:** Las variables pueden ser usadas en todo el programa o solo en ciertas partes.\n",
    "* **Inmutabilidad:** Algunas cosas que guardas no se pueden cambiar después (como las palabras). Otras sí (como las listas).\n",
    "* **Nombres:** Usa nombres claros y en minúsculas (por ejemplo, `edad_usuario`).\n",
    "\n",
    "### Convenciónes de escritura:\n",
    "\n",
    "* **Camel Case:**  Pueden empezar la primera letra en minúscula y la palabra siguiente en mayúscula.\n",
    "* **Pascal Case:** Comienza con mayúscula y cada palabra siguiente comenzará con mayúsucula.\n",
    "* **Snake Case:** Se usan palabras en minúscula y las palabras son separadas con guiones bajos\n",
    "\n",
    "\n"
   ]
  },
  {
   "cell_type": "code",
   "execution_count": 9,
   "metadata": {},
   "outputs": [],
   "source": [
    "# Asignación de variables con nombres simples\n",
    "mi_variable = 'texto'      \n",
    "_mivariable = 'otro texto'   \n",
    "\n",
    "# Variables alfanuméricas\n",
    "miVariable = 'Otro texto'    \n",
    "_123_miVariable_123 = 'Texto' \n",
    "\n",
    "# Sensibilidad a mayúsculas y minúsculas (case-sensitive)\n",
    "miVariable = 'Otro texto'    \n",
    "MiVariable = 'Otro texto'    \n",
    "\n",
    "# Palabras reservadas (no usar, genera error)\n",
    "# and = 'Informacion'    \n",
    "\n",
    "\n"
   ]
  },
  {
   "cell_type": "markdown",
   "metadata": {},
   "source": [
    "# Convenciones de Escritura"
   ]
  },
  {
   "cell_type": "code",
   "execution_count": 10,
   "metadata": {},
   "outputs": [],
   "source": [
    "\n",
    "\n",
    "# CamelCase\n",
    "alumnosColegio = '3'\n",
    "\n",
    "# SnakeCase\n",
    "AlumnosFacultad = True\n",
    "\n",
    "# Snake_case\n",
    "calle_ancha = 'Adolfo 123'\n"
   ]
  },
  {
   "cell_type": "markdown",
   "metadata": {},
   "source": [
    "## Multiasignación de variables"
   ]
  },
  {
   "cell_type": "code",
   "execution_count": 12,
   "metadata": {},
   "outputs": [
    {
     "name": "stdout",
     "output_type": "stream",
     "text": [
      "La asignación de variables quedo asi x:12 , x:43 , y:43 \n"
     ]
    }
   ],
   "source": [
    "\n",
    "\n",
    "x , a , y = 12 , 43 , 13\n",
    "\n",
    "print(f'La asignación de variables quedo asi x:{x} , x:{a} , y:{a} ')\n",
    "\n",
    "\n",
    "# Multiasignación desde colecciones\n",
    "frutas = ['Naranjas' , 'Manzana' , 'Banana']\n",
    "m,n,o = frutas"
   ]
  },
  {
   "cell_type": "markdown",
   "metadata": {},
   "source": [
    "## Uso de Print"
   ]
  },
  {
   "cell_type": "code",
   "execution_count": 13,
   "metadata": {},
   "outputs": [
    {
     "name": "stdout",
     "output_type": "stream",
     "text": [
      "Curso De Python\n"
     ]
    }
   ],
   "source": [
    "\n",
    "\n",
    "txt = 'Curso'\n",
    "tx2 = 'De'\n",
    "txt3 = 'Python'\n",
    "\n",
    "print(txt , tx2, txt3)"
   ]
  }
 ],
 "metadata": {
  "kernelspec": {
   "display_name": "Python 3",
   "language": "python",
   "name": "python3"
  },
  "language_info": {
   "codemirror_mode": {
    "name": "ipython",
    "version": 3
   },
   "file_extension": ".py",
   "mimetype": "text/x-python",
   "name": "python",
   "nbconvert_exporter": "python",
   "pygments_lexer": "ipython3",
   "version": "3.12.5"
  }
 },
 "nbformat": 4,
 "nbformat_minor": 2
}
