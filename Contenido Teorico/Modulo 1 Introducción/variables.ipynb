{
 "cells": [
  {
   "cell_type": "markdown",
   "metadata": {},
   "source": [
    "# 🧠 Mapa Mental de Variables en Python\n",
    "\n",
    "## 1. ¿Qué es una Variable?\n",
    "   - **Definición**: Espacio en memoria que guarda un valor.\n",
    "   - **Propósito**: Almacenar datos que pueden ser usados y manipulados.\n",
    "\n",
    "## 2. Tipos de Variables Comunes\n",
    "   - **Números**:\n",
    "     - `int`: Enteros (e.g., `5`, `-3`)\n",
    "     - `float`: Decimales (e.g., `3.14`, `-2.5`)\n",
    "     - `complex`: Números complejos (e.g., `3+4j`)\n",
    "   - **Texto**:\n",
    "     - `str`: Cadenas de caracteres (e.g., `\"Hola, Mundo\"`)\n",
    "   - **Booleanos**:\n",
    "     - `bool`: Valores `True` o `False`\n",
    "   - **Colecciones**:\n",
    "     - `list`: Lista de elementos (e.g., `[1, 2, 3]`)\n",
    "     - `tuple`: Tupla de elementos inmutables (e.g., `(1, 2, 3)`)\n",
    "     - `set`: Conjunto de elementos únicos (e.g., `{1, 2, 3}`)\n",
    "     - `dict`: Diccionario clave-valor (e.g., `{\"nombre\": \"Juan\", \"edad\": 25}`)\n",
    "\n",
    "## 3. Reglas de Nombres de Variables\n",
    "   - Deben **empezar** con una letra o guion bajo (`_`)\n",
    "   - **No pueden** empezar con un número\n",
    "   - **No pueden** tener espacios (usa guiones bajos en su lugar, como `mi_variable`)\n",
    "   - **No pueden** ser palabras reservadas (como `for`, `while`, `True`, etc.)\n",
    "\n",
    "## 4. Declaración de Variables\n",
    "   - **Sintaxis básica**:\n",
    "     ```python\n",
    "     variable = valor\n",
    "     ```\n",
    "   - Ejemplo:\n",
    "     ```python\n",
    "     edad = 25\n",
    "     nombre = \"Carlos\"\n",
    "     ```\n",
    "\n",
    "## 5. Tipado Dinámico\n",
    "   - En Python, no es necesario declarar el tipo de variable.\n",
    "   - El tipo se asigna automáticamente al definir el valor.\n",
    "   - Ejemplo:\n",
    "     ```python\n",
    "     x = 10      # x es int\n",
    "     x = \"hola\"  # ahora x es str\n",
    "     ```\n",
    "\n",
    "## 6. Operaciones con Variables\n",
    "   - **Operaciones matemáticas**: `+`, `-`, `*`, `/`, `//`, `%`, `**`\n",
    "   - **Concatenación** (para `str`): `+`\n",
    "   - **Booleanos**: `and`, `or`, `not`\n",
    "   - **Asignación con operadores**: `+=`, `-=`, `*=`, `/=`, etc.\n",
    "\n",
    "## 7. Variables Locales y Globales\n",
    "   - **Variables locales**: Definidas dentro de una función y solo accesibles ahí.\n",
    "   - **Variables globales**: Definidas fuera de cualquier función y accesibles en todo el programa.\n",
    "   - Uso de `global` para modificar variables globales dentro de funciones.\n",
    "\n",
    "## 8. Buenas Prácticas\n",
    "   - Usar nombres descriptivos (`edad`, `nombre_usuario`).\n",
    "   - Evitar nombres ambiguos o muy cortos (`x`, `y`).\n",
    "   - Mantener consistencia en el uso de guiones bajos (`mi_variable`, no `miVariable`).\n",
    "   - Comentarios para variables complejas o con propósito específico.\n",
    "\n",
    "---"
   ]
  },
  {
   "cell_type": "markdown",
   "metadata": {},
   "source": [
    "### - Ejemplos"
   ]
  },
  {
   "cell_type": "markdown",
   "metadata": {},
   "source": [
    "### 1. Registro de Información de un usuario"
   ]
  },
  {
   "cell_type": "code",
   "execution_count": 2,
   "metadata": {},
   "outputs": [
    {
     "name": "stdout",
     "output_type": "stream",
     "text": [
      "Nombre: Sofía García\n",
      "Edad: 30\n",
      "Correo electrónico: sofia@example.com\n",
      "Suscrito a newsletter: True\n"
     ]
    }
   ],
   "source": [
    "nombre = \"Sofía García\"\n",
    "edad = 30\n",
    "correo = \"sofia@example.com\"\n",
    "suscrito_a_newsletter = True\n",
    "\n",
    "# Mostrar información del usuario\n",
    "print(f\"Nombre: {nombre}\")\n",
    "print(f\"Edad: {edad}\")\n",
    "print(f\"Correo electrónico: {correo}\")\n",
    "print(f\"Suscrito a newsletter: {suscrito_a_newsletter}\")\n"
   ]
  },
  {
   "cell_type": "markdown",
   "metadata": {},
   "source": [
    "### 2. Cálculo del precio total de un carrito de compras"
   ]
  },
  {
   "cell_type": "code",
   "execution_count": 3,
   "metadata": {},
   "outputs": [
    {
     "name": "stdout",
     "output_type": "stream",
     "text": [
      "Subtotal: $179.48000000000002\n",
      "Impuesto: $14.358400000000001\n",
      "Total a pagar: $193.8384\n"
     ]
    }
   ],
   "source": [
    "precio_producto1 = 49.99\n",
    "precio_producto2 = 79.50\n",
    "cantidad_producto1 = 2\n",
    "cantidad_producto2 = 1\n",
    "\n",
    "subtotal = (precio_producto1 * cantidad_producto1) + (precio_producto2 * cantidad_producto2)\n",
    "impuesto = subtotal * 0.08  # 8% de impuesto\n",
    "total = subtotal + impuesto\n",
    "\n",
    "print(f\"Subtotal: ${subtotal}\")\n",
    "print(f\"Impuesto: ${impuesto}\")\n",
    "print(f\"Total a pagar: ${total}\")\n"
   ]
  },
  {
   "cell_type": "markdown",
   "metadata": {},
   "source": [
    "### 3. Sistema de calificación de una escuela"
   ]
  },
  {
   "cell_type": "code",
   "execution_count": 4,
   "metadata": {},
   "outputs": [
    {
     "name": "stdout",
     "output_type": "stream",
     "text": [
      "Estudiante: Mario Torres\n",
      "Promedio de calificaciones: 85.00\n"
     ]
    }
   ],
   "source": [
    "estudiante = \"Mario Torres\"\n",
    "calificacion_matematicas = 85\n",
    "calificacion_ingles = 92\n",
    "calificacion_ciencias = 78\n",
    "\n",
    "promedio = (calificacion_matematicas + calificacion_ingles + calificacion_ciencias) / 3\n",
    "\n",
    "print(f\"Estudiante: {estudiante}\")\n",
    "print(f\"Promedio de calificaciones: {promedio:.2f}\")\n"
   ]
  }
 ],
 "metadata": {
  "kernelspec": {
   "display_name": "Python 3",
   "language": "python",
   "name": "python3"
  },
  "language_info": {
   "codemirror_mode": {
    "name": "ipython",
    "version": 3
   },
   "file_extension": ".py",
   "mimetype": "text/x-python",
   "name": "python",
   "nbconvert_exporter": "python",
   "pygments_lexer": "ipython3",
   "version": "3.12.5"
  }
 },
 "nbformat": 4,
 "nbformat_minor": 2
}
