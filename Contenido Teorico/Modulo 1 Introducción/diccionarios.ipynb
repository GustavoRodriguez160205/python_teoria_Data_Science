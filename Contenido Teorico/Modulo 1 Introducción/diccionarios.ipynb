{
 "cells": [
  {
   "cell_type": "markdown",
   "metadata": {},
   "source": [
    "\n",
    "## ¿Qué es un diccionario?\n",
    "- Estructura de datos que almacena pares clave-valor.\n",
    "- Se declara utilizando llaves `{}`.\n",
    "  \n",
    "## Características\n",
    "- **Mutables**: Puedes cambiar, agregar o eliminar elementos.\n",
    "- **No ordenados**: No mantienen un orden específico (hasta Python 3.7, donde se mantiene el orden de inserción).\n",
    "- **Claves únicas**: Cada clave debe ser única en el diccionario.\n",
    "- **Valores**: Pueden ser de cualquier tipo (números, listas, otros diccionarios, etc.).\n",
    "\n",
    "## Declaración de diccionarios\n",
    "- **Vacío**: `mi_diccionario = {}` \n",
    "- **Con valores**: `mi_diccionario = {'clave1': 'valor1', 'clave2': 'valor2'}`\n",
    "\n",
    "## Acceso a elementos\n",
    "- Acceso por clave: `mi_diccionario['clave1']`\n",
    "- Método `get()`: `mi_diccionario.get('clave1')` (retorna `None` si no existe la clave)\n",
    "\n",
    "## Modificación de diccionarios\n",
    "- **Agregar un elemento**: `mi_diccionario['clave3'] = 'valor3'`\n",
    "- **Modificar un valor**: `mi_diccionario['clave1'] = 'nuevo_valor'`\n",
    "- **Eliminar un elemento**: \n",
    "  - `del mi_diccionario['clave1']`\n",
    "  - Método `pop()`: `valor = mi_diccionario.pop('clave1')`\n",
    "\n",
    "## Métodos útiles\n",
    "- `keys()`: Retorna una vista de las claves. `mi_diccionario.keys()`\n",
    "- `values()`: Retorna una vista de los valores. `mi_diccionario.values()`\n",
    "- `items()`: Retorna una vista de pares clave-valor. `mi_diccionario.items()`\n",
    "- `update()`: Actualiza el diccionario con elementos de otro diccionario. `mi_diccionario.update({'clave4': 'valor4'})`\n",
    "\n",
    "## Comprensión de diccionarios\n",
    "- Permite crear un diccionario a partir de una lista o de otra estructura.\n",
    "  ```python\n",
    "  diccionario = {x: x**2 for x in range(5)}  # {0: 0, 1: 1, 2: 4, 3: 9, 4: 16}\n"
   ]
  },
  {
   "cell_type": "markdown",
   "metadata": {},
   "source": [
    "### Algunos ejemplos"
   ]
  },
  {
   "cell_type": "code",
   "execution_count": 4,
   "metadata": {},
   "outputs": [
    {
     "name": "stdout",
     "output_type": "stream",
     "text": [
      "La frecuencia de palabras seria asi: {'Hola': 1, 'mundo': 1, 'hola': 1}\n"
     ]
    }
   ],
   "source": [
    "texto = 'Hola mundo hola'\n",
    "frecuencia = {}\n",
    "\n",
    "for palabra in texto.split():\n",
    "    frecuencia[palabra] = frecuencia.get(palabra , 0) + 1\n",
    "\n",
    "print(f'La frecuencia de palabras seria asi: {frecuencia}')"
   ]
  },
  {
   "cell_type": "code",
   "execution_count": 3,
   "metadata": {},
   "outputs": [
    {
     "name": "stdout",
     "output_type": "stream",
     "text": [
      "El diccionario invertido quedaria asi: {1: ['a', 'c'], 2: ['b']}\n"
     ]
    }
   ],
   "source": [
    "diccionario = {'a': 1, 'b': 2, 'c': 1}\n",
    "invertido = {}\n",
    "for clave, valor in diccionario.items():\n",
    "    invertido.setdefault(valor, []).append(clave)\n",
    "\n",
    "print(f'El diccionario invertido quedaria asi: {invertido}')"
   ]
  },
  {
   "cell_type": "markdown",
   "metadata": {},
   "source": [
    "### Ejemplo de uso en un programa de búsqueda"
   ]
  },
  {
   "cell_type": "code",
   "execution_count": 5,
   "metadata": {},
   "outputs": [
    {
     "name": "stdout",
     "output_type": "stream",
     "text": [
      "El índice de Charlie es: 2\n",
      "Frank no está en la lista.\n"
     ]
    }
   ],
   "source": [
    "# Creamos una lista de nombres\n",
    "nombres = [\"Alice\", \"Bob\", \"Charlie\", \"David\", \"Eve\"]\n",
    "\n",
    "# Definimos el nombre que queremos buscar\n",
    "nombre_a_buscar = \"Charlie\"\n",
    "\n",
    "# Usamos index() para encontrar el índice del nombre\n",
    "try:\n",
    "    indice = nombres.index(nombre_a_buscar)\n",
    "    print(f\"El índice de {nombre_a_buscar} es: {indice}\")  # Salida: El índice de Charlie es: 2\n",
    "except ValueError:\n",
    "    print(f\"{nombre_a_buscar} no está en la lista.\")\n",
    "\n",
    "# Buscamos un nombre que no está en la lista\n",
    "nombre_no_encontrado = \"Frank\"\n",
    "\n",
    "try:\n",
    "    indice_no_encontrado = nombres.index(nombre_no_encontrado)\n",
    "    print(f\"El índice de {nombre_no_encontrado} es: {indice_no_encontrado}\")\n",
    "except ValueError:\n",
    "    print(f\"{nombre_no_encontrado} no está en la lista.\")  # Salida: Frank no está en la lista.\n"
   ]
  }
 ],
 "metadata": {
  "kernelspec": {
   "display_name": "Python 3",
   "language": "python",
   "name": "python3"
  },
  "language_info": {
   "codemirror_mode": {
    "name": "ipython",
    "version": 3
   },
   "file_extension": ".py",
   "mimetype": "text/x-python",
   "name": "python",
   "nbconvert_exporter": "python",
   "pygments_lexer": "ipython3",
   "version": "3.12.5"
  }
 },
 "nbformat": 4,
 "nbformat_minor": 2
}
