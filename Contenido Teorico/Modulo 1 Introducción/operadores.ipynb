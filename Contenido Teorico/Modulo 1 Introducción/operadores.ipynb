{
 "cells": [
  {
   "cell_type": "markdown",
   "metadata": {},
   "source": [
    "# Operadores en Python\n",
    "\n",
    "Python tiene una variedad de operadores que se pueden clasificar en diferentes categorías. A continuación, se detallan los operadores más comunes.\n",
    "\n",
    "## 1. Operadores Aritméticos\n",
    "\n",
    "Los operadores aritméticos se utilizan para realizar operaciones matemáticas.\n",
    "\n",
    "| Operador | Descripción          | Ejemplo       |\n",
    "|----------|----------------------|---------------|\n",
    "| `+`      | Suma                 | `a + b`       |\n",
    "| `-`      | Resta                | `a - b`       |\n",
    "| `*`      | Multiplicación       | `a * b`       |\n",
    "| `/`      | División             | `a / b`       |\n",
    "| `//`     | División Entera      | `a // b`      |\n",
    "| `%`      | Módulo (resto)      | `a % b`       |\n",
    "| `**`     | Exponenciación       | `a ** b`      |\n",
    "\n",
    "## 2. Operadores de Comparación\n",
    "\n",
    "Los operadores de comparación se utilizan para comparar dos valores.\n",
    "\n",
    "| Operador | Descripción                      | Ejemplo       |\n",
    "|----------|----------------------------------|---------------|\n",
    "| `==`     | Igual a                          | `a == b`      |\n",
    "| `!=`     | Diferente de                     | `a != b`      |\n",
    "| `>`      | Mayor que                        | `a > b`       |\n",
    "| `<`      | Menor que                       | `a < b`       |\n",
    "| `>=`     | Mayor o igual que                | `a >= b`      |\n",
    "| `<=`     | Menor o igual que                | `a <= b`      |\n",
    "\n",
    "## 3. Operadores Lógicos\n",
    "\n",
    "Los operadores lógicos se utilizan para combinar expresiones booleanas.\n",
    "\n",
    "| Operador | Descripción          | Ejemplo          |\n",
    "|----------|----------------------|------------------|\n",
    "| `and`    | Verdadero si ambas son verdaderas | `a and b`       |\n",
    "| `or`     | Verdadero si al menos una es verdadera | `a or b`        |\n",
    "| `not`    | Verdadero si es falso | `not a`          |\n",
    "\n",
    "## 4. Operadores de Asignación\n",
    "\n",
    "Los operadores de asignación se utilizan para asignar valores a las variables.\n",
    "\n",
    "| Operador  | Descripción                      | Ejemplo       |\n",
    "|-----------|----------------------------------|---------------|\n",
    "| `=`       | Asignación simple                | `a = 10`      |\n",
    "| `+=`      | Suma y asignación                | `a += b`      |\n",
    "| `-=`      | Resta y asignación               | `a -= b`      |\n",
    "| `*=`      | Multiplicación y asignación      | `a *= b`      |\n",
    "| `/=`      | División y asignación            | `a /= b`      |\n",
    "\n",
    "## 5. Operadores de Identidad\n",
    "\n",
    "Los operadores de identidad se utilizan para verificar si dos variables se refieren al mismo objeto en memoria.\n",
    "\n",
    "| Operador | Descripción          | Ejemplo        |\n",
    "|----------|----------------------|----------------|\n",
    "| `is`     | Verdadero si ambos son el mismo objeto | `a is b`      |\n",
    "| `is not` | Verdadero si no son el mismo objeto    | `a is not b`  |\n",
    "\n",
    "## 6. Operadores de Membresía\n",
    "\n",
    "Los operadores de membresía se utilizan para verificar si un valor se encuentra en una secuencia (como listas, tuplas o cadenas).\n",
    "\n",
    "| Operador | Descripción          | Ejemplo        |\n",
    "|----------|----------------------|----------------|\n",
    "| `in`     | Verdadero si el valor está en la secuencia | `a in lista`  |\n",
    "| `not in` | Verdadero si el valor no está en la secuencia | `a not in lista` |\n"
   ]
  },
  {
   "cell_type": "markdown",
   "metadata": {},
   "source": [
    "# Operadores Aritmetricos\n",
    "\n"
   ]
  },
  {
   "cell_type": "code",
   "execution_count": 7,
   "metadata": {},
   "outputs": [
    {
     "name": "stdout",
     "output_type": "stream",
     "text": [
      "La exponenciación es : 161051\n",
      "La floordivision es : 2\n",
      "El resto de la divicion es : 1\n",
      "La divición es : 2.2\n",
      "La multiplicación es : 55\n",
      "La resta es: 6\n",
      "La suma es : 16\n"
     ]
    }
   ],
   "source": [
    "a = 11\n",
    "b = 5\n",
    "\n",
    "\n",
    "print(f'La exponenciación es : {a ** b}')\n",
    "print(f'La floordivision es : {a // b}') # Esto es para sacar la divición exacta\n",
    "print(f'El resto de la divicion es : { a % b}') \n",
    "print(f'La divición es : {a / b}') # Da flotante\n",
    "print(f'La multiplicación es : {a * b}')\n",
    "print(f'La resta es: {a - b}')\n",
    "print(f'La suma es : {a + b}')"
   ]
  },
  {
   "cell_type": "markdown",
   "metadata": {},
   "source": [
    "# Operadores de Asignación\n"
   ]
  },
  {
   "cell_type": "code",
   "execution_count": 8,
   "metadata": {},
   "outputs": [
    {
     "name": "stdout",
     "output_type": "stream",
     "text": [
      "El valor de x después de sumar 4 es: 19\n",
      "El valor de x después de restar 2 es: 17\n",
      "El valor de x después de multiplicar por 2 es: 34\n",
      "El valor de x después de dividir por 2 es: 17.0\n"
     ]
    }
   ],
   "source": [
    "# Inicializamos la variable x con un valor inicial\n",
    "x = 15\n",
    "\n",
    "# Realizamos las operaciones y mostramos los resultados\n",
    "x += 4  # Sumar 4 a x\n",
    "print(f'El valor de x después de sumar 4 es: {x}')\n",
    "\n",
    "x -= 2  # Restar 2 a x\n",
    "print(f'El valor de x después de restar 2 es: {x}')\n",
    "\n",
    "x *= 2  # Multiplicar x por 2\n",
    "print(f'El valor de x después de multiplicar por 2 es: {x}')\n",
    "\n",
    "x /= 2  # Dividir x entre 2\n",
    "print(f'El valor de x después de dividir por 2 es: {x}')\n"
   ]
  },
  {
   "cell_type": "markdown",
   "metadata": {},
   "source": [
    "# Operadores de Comparación"
   ]
  },
  {
   "cell_type": "code",
   "execution_count": 18,
   "metadata": {},
   "outputs": [
    {
     "name": "stdout",
     "output_type": "stream",
     "text": [
      "Son iguales: False\n",
      "Son distintos: True\n",
      "Si es mayor: True\n",
      "Si es mayor: True\n",
      "Mayor o igual : False\n",
      "Menor o igual : False\n"
     ]
    }
   ],
   "source": [
    "num1 = 5\n",
    "num2 = 10\n",
    "\n",
    "print(f'Son iguales: {num1 == num2}')  # False, porque 5 no es igual a 10\n",
    "print(f'Son distintos: {num1 != num2}')  # True, porque 5 y 10 son diferentes\n",
    "print(f'Si es mayor: {num2 > num1}')  # True, porque 10 es mayor que 5\n",
    "print(f'Si es mayor: {num1 < num2}')  # True, porque 5 es menor que 10\n",
    "print(f'Mayor o igual: {num1 >= num2}')  # False, porque 5 no es mayor ni igual a 10\n",
    "\n",
    "print(f'Menor o igual: {num2 <= num1}')  # False, porque 10 no es menor ni igual a 5\n",
    "\n"
   ]
  },
  {
   "cell_type": "markdown",
   "metadata": {},
   "source": [
    "# Operadores lógicos"
   ]
  },
  {
   "cell_type": "code",
   "execution_count": 19,
   "metadata": {},
   "outputs": [
    {
     "name": "stdout",
     "output_type": "stream",
     "text": [
      "True\n"
     ]
    }
   ],
   "source": [
    "# Si no cumple la condición de que la edad sea <= que 18 da folse\n",
    "# Si la cumple o es igual a la edad , da true\n",
    "\n",
    "# And: tiene que cumplir las 2 condiciones\n",
    "edad = 18\n",
    "tramite = edad >= 18 and edad <= 65\n",
    "print(tramite) "
   ]
  },
  {
   "cell_type": "code",
   "execution_count": 23,
   "metadata": {},
   "outputs": [
    {
     "name": "stdout",
     "output_type": "stream",
     "text": [
      "Llevar paraguas.\n"
     ]
    }
   ],
   "source": [
    "# Operador Or\n",
    "\n",
    "lloviendo = False\n",
    "pronostico_lluvia = True\n",
    "\n",
    "# Si está lloviendo o el pronóstico dice que lloverá, llevo paraguas\n",
    "if lloviendo or pronostico_lluvia:\n",
    "    print(\"Llevar paraguas.\")\n",
    "else:\n",
    "    print(\"No necesitas paraguas.\")\n"
   ]
  },
  {
   "cell_type": "code",
   "execution_count": 24,
   "metadata": {},
   "outputs": [
    {
     "name": "stdout",
     "output_type": "stream",
     "text": [
      "False\n"
     ]
    }
   ],
   "source": [
    "# Operador Not  (Niega la estructura siguiente)\n",
    "verdad = True\n",
    "print(not verdad)"
   ]
  },
  {
   "cell_type": "markdown",
   "metadata": {},
   "source": [
    "# Operador de Identidad\n"
   ]
  },
  {
   "cell_type": "code",
   "execution_count": 26,
   "metadata": {},
   "outputs": [
    {
     "name": "stdout",
     "output_type": "stream",
     "text": [
      "True\n"
     ]
    }
   ],
   "source": [
    "# Nos compara igualdad\n",
    "\n",
    "nombre = 'Gustavo'\n",
    "profesor = 'Gustavo'\n",
    "\n",
    "\n",
    "sonElMismo = nombre in profesor\n",
    "print(sonElMismo)"
   ]
  },
  {
   "cell_type": "markdown",
   "metadata": {},
   "source": [
    "# Operador de Pertenencia"
   ]
  },
  {
   "cell_type": "code",
   "execution_count": 28,
   "metadata": {},
   "outputs": [
    {
     "name": "stdout",
     "output_type": "stream",
     "text": [
      "True\n",
      "True\n"
     ]
    }
   ],
   "source": [
    "# Operador 'in'\n",
    "frutas = ['manzana', 'banana', 'naranja']\n",
    "print('banana' in frutas)   # Esto devuelve True, porque 'banana' está en la lista 'frutas'\n",
    "\n",
    "# Operador 'not in'\n",
    "print('uva' not in frutas)  # Esto devuelve True, porque 'uva' NO está en la lista 'frutas'\n"
   ]
  }
 ],
 "metadata": {
  "kernelspec": {
   "display_name": "Python 3",
   "language": "python",
   "name": "python3"
  },
  "language_info": {
   "codemirror_mode": {
    "name": "ipython",
    "version": 3
   },
   "file_extension": ".py",
   "mimetype": "text/x-python",
   "name": "python",
   "nbconvert_exporter": "python",
   "pygments_lexer": "ipython3",
   "version": "3.12.5"
  }
 },
 "nbformat": 4,
 "nbformat_minor": 2
}
