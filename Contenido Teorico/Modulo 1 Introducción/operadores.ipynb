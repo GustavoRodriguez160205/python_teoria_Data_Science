{
 "cells": [
  {
   "cell_type": "markdown",
   "metadata": {},
   "source": [
    "# Mapa Mental: Operadores en Python\n",
    "\n",
    "## 1. Operadores Aritméticos\n",
    "- **Descripción**: Realizan operaciones matemáticas básicas.\n",
    "  - `+` : Suma\n",
    "  - `-` : Resta\n",
    "  - `*` : Multiplicación\n",
    "  - `/` : División\n",
    "  - `%` : Módulo (resto de la división)\n",
    "  - `**` : Exponenciación\n",
    "  - `//` : División entera (sin decimales)\n",
    "\n",
    "## 2. Operadores de Asignación\n",
    "- **Descripción**: Asignan valores a las variables.\n",
    "  - `=` : Asignación simple\n",
    "  - `+=` : Suma y asignación (e.g., `x += 5` es `x = x + 5`)\n",
    "  - `-=` : Resta y asignación\n",
    "  - `*=` : Multiplicación y asignación\n",
    "  - `/=` : División y asignación\n",
    "  - `%=` : Módulo y asignación\n",
    "  - `**=` : Exponenciación y asignación\n",
    "  - `//=` : División entera y asignación\n",
    "\n",
    "## 3. Operadores de Comparación\n",
    "- **Descripción**: Comparan dos valores y devuelven `True` o `False`.\n",
    "  - `==` : Igual a\n",
    "  - `!=` : Distinto de\n",
    "  - `>` : Mayor que\n",
    "  - `<` : Menor que\n",
    "  - `>=` : Mayor o igual a\n",
    "  - `<=` : Menor o igual a\n",
    "\n",
    "## 4. Operadores Lógicos\n",
    "- **Descripción**: Operan con expresiones lógicas.\n",
    "  - `and` : Verdadero si ambas expresiones son verdaderas\n",
    "  - `or` : Verdadero si al menos una expresión es verdadera\n",
    "  - `not` : Invierte el valor de verdad de la expresión\n",
    "\n",
    "## 5. Operadores de Identidad\n",
    "- **Descripción**: Verifican si dos variables son la misma instancia en memoria.\n",
    "  - `is` : Verdadero si ambas variables son la misma instancia\n",
    "  - `is not` : Verdadero si ambas variables son diferentes instancias\n",
    "\n",
    "## 6. Operadores de Pertenencia\n",
    "- **Descripción**: Verifican si un elemento está presente en una secuencia.\n",
    "  - `in` : Verdadero si el elemento está en la secuencia\n",
    "  - `not in` : Verdadero si el elemento no está en la secuencia\n",
    "\n",
    "## 7. Operadores a Nivel de Bits\n",
    "- **Descripción**: Trabajan en el nivel de bits de los números.\n",
    "  - `&` : AND bit a bit\n",
    "  - `|` : OR bit a bit\n",
    "  - `^` : XOR bit a bit\n",
    "  - `~` : NOT bit a bit\n",
    "  - `<<` : Desplazamiento a la izquierda\n",
    "  - `>>` : Desplazamiento a la derecha\n"
   ]
  },
  {
   "cell_type": "markdown",
   "metadata": {},
   "source": [
    "### Algunos ejemplos"
   ]
  },
  {
   "cell_type": "markdown",
   "metadata": {},
   "source": [
    "### 1. Operadores Artiméticos"
   ]
  },
  {
   "cell_type": "code",
   "execution_count": 1,
   "metadata": {},
   "outputs": [
    {
     "name": "stdout",
     "output_type": "stream",
     "text": [
      "Salario neto: 4000.0\n"
     ]
    }
   ],
   "source": [
    "salario_bruto = 5000\n",
    "impuesto = 0.2\n",
    "salario_neto = salario_bruto - (salario_bruto * impuesto)\n",
    "print(\"Salario neto:\", salario_neto)  # Calcula el salario después de impuestos\n"
   ]
  },
  {
   "cell_type": "markdown",
   "metadata": {},
   "source": [
    "### 2. Operadores de Asignación"
   ]
  },
  {
   "cell_type": "code",
   "execution_count": 2,
   "metadata": {},
   "outputs": [
    {
     "name": "stdout",
     "output_type": "stream",
     "text": [
      "Inventario restante: 75\n"
     ]
    }
   ],
   "source": [
    "inventario = 100\n",
    "ventas = 25\n",
    "inventario -= ventas  # inventario = inventario - ventas\n",
    "print(\"Inventario restante:\", inventario)\n"
   ]
  },
  {
   "cell_type": "markdown",
   "metadata": {},
   "source": [
    "### 3. Operadores de Comparación"
   ]
  },
  {
   "cell_type": "code",
   "execution_count": 3,
   "metadata": {},
   "outputs": [
    {
     "name": "stdout",
     "output_type": "stream",
     "text": [
      "Acceso permitido\n"
     ]
    }
   ],
   "source": [
    "edad_usuario = 18\n",
    "edad_minima = 18\n",
    "if edad_usuario >= edad_minima:\n",
    "    print(\"Acceso permitido\")\n",
    "else:\n",
    "    print(\"Acceso denegado\")\n"
   ]
  },
  {
   "cell_type": "markdown",
   "metadata": {},
   "source": [
    "### 4. Operadores Lógicos"
   ]
  },
  {
   "cell_type": "code",
   "execution_count": null,
   "metadata": {},
   "outputs": [],
   "source": [
    "cliente_frecuente = True\n",
    "total_compra = 300\n",
    "if cliente_frecuente and total_compra > 200:\n",
    "    print(\"Aplica para promoción\")\n",
    "else:\n",
    "    print(\"No aplica para promoción\")\n"
   ]
  },
  {
   "cell_type": "markdown",
   "metadata": {},
   "source": [
    "### 5. Operadores de Identidad"
   ]
  },
  {
   "cell_type": "code",
   "execution_count": null,
   "metadata": {},
   "outputs": [],
   "source": [
    "productos_tienda1 = [\"manzana\", \"pera\", \"plátano\"]\n",
    "productos_tienda2 = productos_tienda1\n",
    "if productos_tienda1 is productos_tienda2:\n",
    "    print(\"Ambas tiendas tienen los mismos productos\")\n",
    "else:\n",
    "    print(\"Las tiendas tienen productos diferentes\")\n"
   ]
  },
  {
   "cell_type": "markdown",
   "metadata": {},
   "source": [
    "### 6. Operadores de Pertenencia"
   ]
  },
  {
   "cell_type": "code",
   "execution_count": 4,
   "metadata": {},
   "outputs": [
    {
     "name": "stdout",
     "output_type": "stream",
     "text": [
      "manzana está disponible\n"
     ]
    }
   ],
   "source": [
    "productos_disponibles = [\"manzana\", \"pera\", \"plátano\"]\n",
    "producto_buscar = \"manzana\"\n",
    "if producto_buscar in productos_disponibles:\n",
    "    print(f\"{producto_buscar} está disponible\")\n",
    "else:\n",
    "    print(f\"{producto_buscar} no está disponible\")\n"
   ]
  },
  {
   "cell_type": "markdown",
   "metadata": {},
   "source": [
    "### 7. Operadores a  nivel de Bits"
   ]
  },
  {
   "cell_type": "code",
   "execution_count": 5,
   "metadata": {},
   "outputs": [
    {
     "name": "stdout",
     "output_type": "stream",
     "text": [
      "El usuario tiene permiso de lectura\n"
     ]
    }
   ],
   "source": [
    "# 0b100 (permiso de lectura) y 0b010 (permiso de escritura)\n",
    "permisos_usuario = 0b101  # Permisos actuales: lectura y ejecución\n",
    "permiso_lectura = 0b100\n",
    "if permisos_usuario & permiso_lectura:\n",
    "    print(\"El usuario tiene permiso de lectura\")\n",
    "else:\n",
    "    print(\"El usuario no tiene permiso de lectura\")\n"
   ]
  }
 ],
 "metadata": {
  "kernelspec": {
   "display_name": "Python 3",
   "language": "python",
   "name": "python3"
  },
  "language_info": {
   "codemirror_mode": {
    "name": "ipython",
    "version": 3
   },
   "file_extension": ".py",
   "mimetype": "text/x-python",
   "name": "python",
   "nbconvert_exporter": "python",
   "pygments_lexer": "ipython3",
   "version": "3.12.5"
  }
 },
 "nbformat": 4,
 "nbformat_minor": 2
}
