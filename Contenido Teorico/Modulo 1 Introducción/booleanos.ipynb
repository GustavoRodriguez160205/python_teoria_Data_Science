{
 "cells": [
  {
   "cell_type": "markdown",
   "metadata": {},
   "source": [
    "# Mapa Mental sobre Booleanos en Python\n",
    "\n",
    "## 1. Concepto de Booleano\n",
    "- **Definición**: Tipo de dato que puede ser verdadero (`True`) o falso (`False`).\n",
    "\n",
    "## 2. Valores Booleanos\n",
    "- **True**: Representa la verdad.\n",
    "- **False**: Representa la falsedad.\n",
    "\n",
    "## 3. Creación de Booleanos\n",
    "- Asignación directa:\n",
    "    ```python\n",
    "    a = True\n",
    "    b = False\n",
    "    ```\n",
    "\n",
    "- Evaluación de expresiones:\n",
    "    ```python\n",
    "    c = (5 > 3)  # True\n",
    "    d = (2 == 3)  # False\n",
    "    ```\n",
    "\n",
    "## 4. Operadores Booleanos\n",
    "### 4.1. AND\n",
    "- **Descripción**: Devuelve `True` si ambos operandos son `True`.\n",
    "- **Ejemplo**:\n",
    "    ```python\n",
    "    x = True and False  # False\n",
    "    ```\n",
    "\n",
    "### 4.2. OR\n",
    "- **Descripción**: Devuelve `True` si al menos uno de los operandos es `True`.\n",
    "- **Ejemplo**:\n",
    "    ```python\n",
    "    y = True or False  # True\n",
    "    ```\n",
    "\n",
    "### 4.3. NOT\n",
    "- **Descripción**: Invierte el valor del operando.\n",
    "- **Ejemplo**:\n",
    "    ```python\n",
    "    z = not True  # False\n",
    "    ```\n",
    "\n",
    "## 5. Conversión a Booleano\n",
    "- **Función `bool()`**:\n",
    "    - Convierte otros tipos de datos a booleanos.\n",
    "    - **Ejemplos**:\n",
    "        ```python\n",
    "        print(bool(1))        # True\n",
    "        print(bool(0))        # False\n",
    "        print(bool(\"\"))       # False\n",
    "        print(bool(\"texto\"))  # True\n",
    "        print(bool([]))       # False\n",
    "        print(bool([1, 2, 3])) # True\n",
    "        ```\n",
    "\n",
    "## 6. Uso en Condicionales\n",
    "- **Ejemplo**:\n",
    "    ```python\n",
    "    if a:\n",
    "        print(\"Es verdadero\")\n",
    "    else:\n",
    "        print(\"Es falso\")\n",
    "    ```\n",
    "\n",
    "## 7. Booleanos en Listas\n",
    "- Se pueden utilizar para filtrar datos.\n",
    "- **Ejemplo**:\n",
    "    ```python\n",
    "    valores = [True, False, True]\n",
    "    resultado = [v for v in valores if v]\n",
    "    ```\n",
    "\n",
    "\n",
    "\n",
    "## 8. Recursos Adicionales\n",
    "- [Documentación Oficial de Python sobre Booleanos](https://docs.python.org/3/library/stdtypes.html#truth-value-testing)\n"
   ]
  },
  {
   "cell_type": "markdown",
   "metadata": {},
   "source": [
    "### Algunos ejemplos"
   ]
  },
  {
   "cell_type": "code",
   "execution_count": 1,
   "metadata": {},
   "outputs": [
    {
     "name": "stdout",
     "output_type": "stream",
     "text": [
      "Acceso concedido.\n",
      "Bienvenido, usuario regular.\n"
     ]
    }
   ],
   "source": [
    "# Simulación de un inicio de sesión\n",
    "username = \"usuario\"\n",
    "password = \"contraseña\"\n",
    "\n",
    "# Variables booleanas para el estado del inicio de sesión\n",
    "is_authenticated = (username == \"usuario\" and password == \"contraseña\")\n",
    "is_admin = False\n",
    "\n",
    "if is_authenticated:\n",
    "    print(\"Acceso concedido.\")\n",
    "    if is_admin:\n",
    "        print(\"Bienvenido, administrador.\")\n",
    "    else:\n",
    "        print(\"Bienvenido, usuario regular.\")\n",
    "else:\n",
    "    print(\"Credenciales incorrectas.\")\n"
   ]
  },
  {
   "cell_type": "code",
   "execution_count": 2,
   "metadata": {},
   "outputs": [
    {
     "name": "stdout",
     "output_type": "stream",
     "text": [
      "Acceso a la función concedido.\n",
      "Acceso denegado. Se requieren privilegios de administrador.\n",
      "Acceso denegado. Por favor, inicie sesión.\n"
     ]
    }
   ],
   "source": [
    "# Función que verifica el acceso de un usuario\n",
    "def acceso_funcion(usuario):\n",
    "    is_logged_in = usuario[\"logged_in\"]\n",
    "    is_admin = usuario[\"is_admin\"]\n",
    "    \n",
    "    if is_logged_in and is_admin:\n",
    "        print(\"Acceso a la función concedido.\")\n",
    "    elif is_logged_in:\n",
    "        print(\"Acceso denegado. Se requieren privilegios de administrador.\")\n",
    "    else:\n",
    "        print(\"Acceso denegado. Por favor, inicie sesión.\")\n",
    "\n",
    "# Ejemplo de un usuario\n",
    "usuario1 = {\"logged_in\": True, \"is_admin\": True}\n",
    "usuario2 = {\"logged_in\": True, \"is_admin\": False}\n",
    "usuario3 = {\"logged_in\": False, \"is_admin\": False}\n",
    "\n",
    "acceso_funcion(usuario1)  # Acceso a la función concedido.\n",
    "acceso_funcion(usuario2)  # Acceso denegado. Se requieren privilegios de administrador.\n",
    "acceso_funcion(usuario3)  # Acceso denegado. Por favor, inicie sesión.\n"
   ]
  },
  {
   "cell_type": "code",
   "execution_count": 3,
   "metadata": {},
   "outputs": [
    {
     "name": "stdout",
     "output_type": "stream",
     "text": [
      "Las notificaciones están habilitadas.\n",
      "Modo oscuro está desactivado.\n"
     ]
    }
   ],
   "source": [
    "# Configuraciones de un sistema\n",
    "notifications_enabled = True\n",
    "dark_mode = False\n",
    "\n",
    "def mostrar_configuraciones():\n",
    "    if notifications_enabled:\n",
    "        print(\"Las notificaciones están habilitadas.\")\n",
    "    else:\n",
    "        print(\"Las notificaciones están deshabilitadas.\")\n",
    "\n",
    "    if dark_mode:\n",
    "        print(\"Modo oscuro está activado.\")\n",
    "    else:\n",
    "        print(\"Modo oscuro está desactivado.\")\n",
    "\n",
    "mostrar_configuraciones()\n"
   ]
  },
  {
   "cell_type": "code",
   "execution_count": 4,
   "metadata": {},
   "outputs": [
    {
     "name": "stdout",
     "output_type": "stream",
     "text": [
      "Formulario válido.\n",
      "Formulario inválido. Asegúrese de que el email sea correcto y la contraseña tenga al menos 8 caracteres.\n"
     ]
    }
   ],
   "source": [
    "# Validar un formulario de registro\n",
    "def validar_formulario(email, password):\n",
    "    is_valid_email = \"@\" in email\n",
    "    is_valid_password = len(password) >= 8\n",
    "\n",
    "    if is_valid_email and is_valid_password:\n",
    "        print(\"Formulario válido.\")\n",
    "    else:\n",
    "        print(\"Formulario inválido. Asegúrese de que el email sea correcto y la contraseña tenga al menos 8 caracteres.\")\n",
    "\n",
    "validar_formulario(\"test@example.com\", \"contraseña123\")  # Formulario válido.\n",
    "validar_formulario(\"invalid_email\", \"123\")              # Formulario inválido. Asegúrese de que el email sea correcto y la contraseña tenga al menos 8 caracteres.\n"
   ]
  }
 ],
 "metadata": {
  "kernelspec": {
   "display_name": "Python 3",
   "language": "python",
   "name": "python3"
  },
  "language_info": {
   "codemirror_mode": {
    "name": "ipython",
    "version": 3
   },
   "file_extension": ".py",
   "mimetype": "text/x-python",
   "name": "python",
   "nbconvert_exporter": "python",
   "pygments_lexer": "ipython3",
   "version": "3.12.5"
  }
 },
 "nbformat": 4,
 "nbformat_minor": 2
}
